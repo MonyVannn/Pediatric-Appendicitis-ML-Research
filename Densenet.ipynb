{
  "nbformat": 4,
  "nbformat_minor": 0,
  "metadata": {
    "colab": {
      "provenance": []
    },
    "kernelspec": {
      "name": "python3",
      "display_name": "Python 3"
    },
    "language_info": {
      "name": "python"
    }
  },
  "cells": [
    {
      "cell_type": "code",
      "execution_count": 1,
      "metadata": {
        "id": "0gtcaQqyIs43",
        "colab": {
          "base_uri": "https://localhost:8080/"
        },
        "outputId": "bc924c2e-d6d6-46df-91f2-5f5e360d36a3"
      },
      "outputs": [
        {
          "output_type": "stream",
          "name": "stdout",
          "text": [
            "Mounted at /content/drive\n",
            "Exists? True\n",
            "Top-level items: ['No_Appendicitis_Images', 'Appendicitis_Images']\n"
          ]
        }
      ],
      "source": [
        "# Mount Drive and import libs\n",
        "from google.colab import drive\n",
        "drive.mount('/content/drive')\n",
        "\n",
        "import os, math, numpy as np, tensorflow as tf\n",
        "from tensorflow import keras\n",
        "from tensorflow.keras import layers\n",
        "\n",
        "# Paths & basic settings\n",
        "DATA_DIR = \"/content/drive/MyDrive/Images/Images\"   # <-- two subfolders (e.g., 'negative', 'positive')\n",
        "IMG_SIZE = (224, 224)\n",
        "BATCH    = 16\n",
        "SEED     = 13\n",
        "\n",
        "# Quick sanity check\n",
        "print(\"Exists?\", os.path.isdir(DATA_DIR))\n",
        "print(\"Top-level items:\", os.listdir(DATA_DIR)[:10])\n"
      ]
    },
    {
      "cell_type": "markdown",
      "source": [],
      "metadata": {
        "id": "wUJXfC8MIuvz"
      }
    },
    {
      "cell_type": "code",
      "source": [
        "# Build train/val from directory with a fixed split\n",
        "train_ds = tf.keras.preprocessing.image_dataset_from_directory(\n",
        "    DATA_DIR,\n",
        "    labels=\"inferred\",\n",
        "    label_mode=\"binary\",           # binary labels {0,1}\n",
        "    validation_split=0.20,         # 80/20 split\n",
        "    subset=\"training\",\n",
        "    seed=SEED,\n",
        "    image_size=IMG_SIZE,\n",
        "    batch_size=BATCH\n",
        ")\n",
        "\n",
        "val_ds = tf.keras.preprocessing.image_dataset_from_directory(\n",
        "    DATA_DIR,\n",
        "    labels=\"inferred\",\n",
        "    label_mode=\"binary\",\n",
        "    validation_split=0.20,\n",
        "    subset=\"validation\",\n",
        "    seed=SEED,\n",
        "    image_size=IMG_SIZE,\n",
        "    batch_size=BATCH\n",
        ")\n",
        "\n",
        "class_names = train_ds.class_names\n",
        "print(\"Classes detected (alphabetical):\", class_names)\n",
        "print(\"Label mapping ->\", {class_names[0]:0, class_names[1]:1})\n"
      ],
      "metadata": {
        "colab": {
          "base_uri": "https://localhost:8080/"
        },
        "id": "1_3t7ntSLMvG",
        "outputId": "f9ecaaf1-ded7-42d3-9cc5-b79de599b115"
      },
      "execution_count": 3,
      "outputs": [
        {
          "output_type": "stream",
          "name": "stdout",
          "text": [
            "Found 1721 files belonging to 2 classes.\n",
            "Using 1377 files for training.\n",
            "Found 1721 files belonging to 2 classes.\n",
            "Using 344 files for validation.\n",
            "Classes detected (alphabetical): ['Appendicitis_Images', 'No_Appendicitis_Images']\n",
            "Label mapping -> {'Appendicitis_Images': 0, 'No_Appendicitis_Images': 1}\n"
          ]
        }
      ]
    },
    {
      "cell_type": "code",
      "source": [
        "# Create a small test set from validation (quick & simple)\n",
        "test_take = max(1, len(val_ds) // 5)  # 20% of the current val as test\n",
        "test_ds   = val_ds.take(test_take)\n",
        "val_ds    = val_ds.skip(test_take)\n",
        "\n",
        "# Cache, prefetch, shuffle\n",
        "AUTOTUNE = tf.data.AUTOTUNE\n",
        "train_ds = train_ds.shuffle(2048, seed=SEED).prefetch(AUTOTUNE)\n",
        "val_ds   = val_ds.prefetch(AUTOTUNE)\n",
        "test_ds  = test_ds.prefetch(AUTOTUNE)\n",
        "\n",
        "print(\"Batches -> train:\", len(train_ds), \"val:\", len(val_ds), \"test:\", len(test_ds))\n"
      ],
      "metadata": {
        "colab": {
          "base_uri": "https://localhost:8080/"
        },
        "id": "2Sz5GfVYLcjk",
        "outputId": "0a71cb18-0849-431a-d36a-5815baea5b49"
      },
      "execution_count": 4,
      "outputs": [
        {
          "output_type": "stream",
          "name": "stdout",
          "text": [
            "Batches -> train: 87 val: 18 test: 4\n"
          ]
        }
      ]
    },
    {
      "cell_type": "code",
      "source": [
        "# Estimate class counts by iterating once\n",
        "def count_labels(dataset):\n",
        "    zeros = ones = 0\n",
        "    for _, y in dataset.unbatch():\n",
        "        # y is shape (1,) with float {0.,1.}\n",
        "        label = int(y.numpy().squeeze())\n",
        "        if label == 0:\n",
        "            zeros += 1\n",
        "        else:\n",
        "            ones += 1\n",
        "    return zeros, ones\n",
        "\n",
        "train_zeros, train_ones = count_labels(train_ds)\n",
        "total = train_zeros + train_ones\n",
        "print(f\"Train counts -> class 0: {train_zeros}, class 1: {train_ones}, total: {total}\")\n",
        "\n",
        "# Balanced weighting (works well when one class is rarer):\n",
        "# weight_c = total / (2 * count_c)\n",
        "class_weight = {\n",
        "    0: (total / (2.0 * max(1, train_zeros))),\n",
        "    1: (total / (2.0 * max(1, train_ones))),\n",
        "}\n",
        "print(\"Class weights:\", class_weight)\n"
      ],
      "metadata": {
        "colab": {
          "base_uri": "https://localhost:8080/"
        },
        "id": "Xb0PGVl2LjtF",
        "outputId": "4953c07a-ffc7-49a4-baa1-015e60b4e545"
      },
      "execution_count": 6,
      "outputs": [
        {
          "output_type": "stream",
          "name": "stdout",
          "text": [
            "Train counts -> class 0: 1074, class 1: 303, total: 1377\n",
            "Class weights: {0: 0.6410614525139665, 1: 2.272277227722772}\n"
          ]
        }
      ]
    },
    {
      "cell_type": "code",
      "source": [
        "# Keep augmentations small; ultrasound textures are subtle\n",
        "augment = keras.Sequential([\n",
        "    layers.RandomFlip(\"horizontal\"),\n",
        "    layers.RandomRotation(0.05),\n",
        "    layers.RandomZoom(0.08),\n",
        "    layers.RandomContrast(0.08),\n",
        "], name=\"augment\")\n"
      ],
      "metadata": {
        "id": "7JEQNFngL2SE"
      },
      "execution_count": 10,
      "outputs": []
    },
    {
      "cell_type": "code",
      "source": [
        "from tensorflow.keras.applications import DenseNet121\n",
        "from tensorflow.keras.applications.densenet import preprocess_input\n",
        "\n",
        "# IMPORTANT: Use preprocess_input for DenseNet (don't also use Rescaling(1/255))\n",
        "base = DenseNet121(\n",
        "    include_top=False,\n",
        "    input_shape=IMG_SIZE + (3,),\n",
        "    weights=\"imagenet\"\n",
        ")\n",
        "base.trainable = False  # warmup: freeze backbone\n",
        "\n",
        "inputs = keras.Input(shape=IMG_SIZE + (3,))\n",
        "x = preprocess_input(inputs)     # scales to expected range for DenseNet\n",
        "x = augment(x)\n",
        "x = base(x, training=False)\n",
        "x = layers.GlobalAveragePooling2D()(x)\n",
        "x = layers.Dropout(0.3)(x)\n",
        "outputs = layers.Dense(1, activation=\"sigmoid\")(x)\n",
        "\n",
        "model = keras.Model(inputs, outputs)\n",
        "model.compile(\n",
        "    optimizer=keras.optimizers.Adam(1e-3),\n",
        "    loss=\"binary_crossentropy\",\n",
        "    metrics=[\n",
        "        \"accuracy\",\n",
        "        keras.metrics.AUC(name=\"auc\", curve=\"ROC\"),\n",
        "        keras.metrics.AUC(name=\"auprc\", curve=\"PR\"),\n",
        "        keras.metrics.Precision(name=\"precision\"),\n",
        "        keras.metrics.Recall(name=\"recall\"),\n",
        "    ],\n",
        ")\n",
        "model.summary()\n"
      ],
      "metadata": {
        "colab": {
          "base_uri": "https://localhost:8080/",
          "height": 478
        },
        "id": "ZcGwuyLPL3aY",
        "outputId": "1286ab07-b09a-492a-cb1a-7ee78c75d409"
      },
      "execution_count": 11,
      "outputs": [
        {
          "output_type": "stream",
          "name": "stdout",
          "text": [
            "Downloading data from https://storage.googleapis.com/tensorflow/keras-applications/densenet/densenet121_weights_tf_dim_ordering_tf_kernels_notop.h5\n",
            "\u001b[1m29084464/29084464\u001b[0m \u001b[32m━━━━━━━━━━━━━━━━━━━━\u001b[0m\u001b[37m\u001b[0m \u001b[1m0s\u001b[0m 0us/step\n"
          ]
        },
        {
          "output_type": "display_data",
          "data": {
            "text/plain": [
              "\u001b[1mModel: \"functional_1\"\u001b[0m\n"
            ],
            "text/html": [
              "<pre style=\"white-space:pre;overflow-x:auto;line-height:normal;font-family:Menlo,'DejaVu Sans Mono',consolas,'Courier New',monospace\"><span style=\"font-weight: bold\">Model: \"functional_1\"</span>\n",
              "</pre>\n"
            ]
          },
          "metadata": {}
        },
        {
          "output_type": "display_data",
          "data": {
            "text/plain": [
              "┏━━━━━━━━━━━━━━━━━━━━━━━━━━━━━━━━━┳━━━━━━━━━━━━━━━━━━━━━━━━┳━━━━━━━━━━━━━━━┓\n",
              "┃\u001b[1m \u001b[0m\u001b[1mLayer (type)                   \u001b[0m\u001b[1m \u001b[0m┃\u001b[1m \u001b[0m\u001b[1mOutput Shape          \u001b[0m\u001b[1m \u001b[0m┃\u001b[1m \u001b[0m\u001b[1m      Param #\u001b[0m\u001b[1m \u001b[0m┃\n",
              "┡━━━━━━━━━━━━━━━━━━━━━━━━━━━━━━━━━╇━━━━━━━━━━━━━━━━━━━━━━━━╇━━━━━━━━━━━━━━━┩\n",
              "│ input_layer_1 (\u001b[38;5;33mInputLayer\u001b[0m)      │ (\u001b[38;5;45mNone\u001b[0m, \u001b[38;5;34m224\u001b[0m, \u001b[38;5;34m224\u001b[0m, \u001b[38;5;34m3\u001b[0m)    │             \u001b[38;5;34m0\u001b[0m │\n",
              "├─────────────────────────────────┼────────────────────────┼───────────────┤\n",
              "│ true_divide (\u001b[38;5;33mTrueDivide\u001b[0m)        │ (\u001b[38;5;45mNone\u001b[0m, \u001b[38;5;34m224\u001b[0m, \u001b[38;5;34m224\u001b[0m, \u001b[38;5;34m3\u001b[0m)    │             \u001b[38;5;34m0\u001b[0m │\n",
              "├─────────────────────────────────┼────────────────────────┼───────────────┤\n",
              "│ add (\u001b[38;5;33mAdd\u001b[0m)                       │ (\u001b[38;5;45mNone\u001b[0m, \u001b[38;5;34m224\u001b[0m, \u001b[38;5;34m224\u001b[0m, \u001b[38;5;34m3\u001b[0m)    │             \u001b[38;5;34m0\u001b[0m │\n",
              "├─────────────────────────────────┼────────────────────────┼───────────────┤\n",
              "│ true_divide_1 (\u001b[38;5;33mTrueDivide\u001b[0m)      │ (\u001b[38;5;45mNone\u001b[0m, \u001b[38;5;34m224\u001b[0m, \u001b[38;5;34m224\u001b[0m, \u001b[38;5;34m3\u001b[0m)    │             \u001b[38;5;34m0\u001b[0m │\n",
              "├─────────────────────────────────┼────────────────────────┼───────────────┤\n",
              "│ augment (\u001b[38;5;33mSequential\u001b[0m)            │ (\u001b[38;5;45mNone\u001b[0m, \u001b[38;5;34m224\u001b[0m, \u001b[38;5;34m224\u001b[0m, \u001b[38;5;34m3\u001b[0m)    │             \u001b[38;5;34m0\u001b[0m │\n",
              "├─────────────────────────────────┼────────────────────────┼───────────────┤\n",
              "│ densenet121 (\u001b[38;5;33mFunctional\u001b[0m)        │ (\u001b[38;5;45mNone\u001b[0m, \u001b[38;5;34m7\u001b[0m, \u001b[38;5;34m7\u001b[0m, \u001b[38;5;34m1024\u001b[0m)     │     \u001b[38;5;34m7,037,504\u001b[0m │\n",
              "├─────────────────────────────────┼────────────────────────┼───────────────┤\n",
              "│ global_average_pooling2d        │ (\u001b[38;5;45mNone\u001b[0m, \u001b[38;5;34m1024\u001b[0m)           │             \u001b[38;5;34m0\u001b[0m │\n",
              "│ (\u001b[38;5;33mGlobalAveragePooling2D\u001b[0m)        │                        │               │\n",
              "├─────────────────────────────────┼────────────────────────┼───────────────┤\n",
              "│ dropout (\u001b[38;5;33mDropout\u001b[0m)               │ (\u001b[38;5;45mNone\u001b[0m, \u001b[38;5;34m1024\u001b[0m)           │             \u001b[38;5;34m0\u001b[0m │\n",
              "├─────────────────────────────────┼────────────────────────┼───────────────┤\n",
              "│ dense (\u001b[38;5;33mDense\u001b[0m)                   │ (\u001b[38;5;45mNone\u001b[0m, \u001b[38;5;34m1\u001b[0m)              │         \u001b[38;5;34m1,025\u001b[0m │\n",
              "└─────────────────────────────────┴────────────────────────┴───────────────┘\n"
            ],
            "text/html": [
              "<pre style=\"white-space:pre;overflow-x:auto;line-height:normal;font-family:Menlo,'DejaVu Sans Mono',consolas,'Courier New',monospace\">┏━━━━━━━━━━━━━━━━━━━━━━━━━━━━━━━━━┳━━━━━━━━━━━━━━━━━━━━━━━━┳━━━━━━━━━━━━━━━┓\n",
              "┃<span style=\"font-weight: bold\"> Layer (type)                    </span>┃<span style=\"font-weight: bold\"> Output Shape           </span>┃<span style=\"font-weight: bold\">       Param # </span>┃\n",
              "┡━━━━━━━━━━━━━━━━━━━━━━━━━━━━━━━━━╇━━━━━━━━━━━━━━━━━━━━━━━━╇━━━━━━━━━━━━━━━┩\n",
              "│ input_layer_1 (<span style=\"color: #0087ff; text-decoration-color: #0087ff\">InputLayer</span>)      │ (<span style=\"color: #00d7ff; text-decoration-color: #00d7ff\">None</span>, <span style=\"color: #00af00; text-decoration-color: #00af00\">224</span>, <span style=\"color: #00af00; text-decoration-color: #00af00\">224</span>, <span style=\"color: #00af00; text-decoration-color: #00af00\">3</span>)    │             <span style=\"color: #00af00; text-decoration-color: #00af00\">0</span> │\n",
              "├─────────────────────────────────┼────────────────────────┼───────────────┤\n",
              "│ true_divide (<span style=\"color: #0087ff; text-decoration-color: #0087ff\">TrueDivide</span>)        │ (<span style=\"color: #00d7ff; text-decoration-color: #00d7ff\">None</span>, <span style=\"color: #00af00; text-decoration-color: #00af00\">224</span>, <span style=\"color: #00af00; text-decoration-color: #00af00\">224</span>, <span style=\"color: #00af00; text-decoration-color: #00af00\">3</span>)    │             <span style=\"color: #00af00; text-decoration-color: #00af00\">0</span> │\n",
              "├─────────────────────────────────┼────────────────────────┼───────────────┤\n",
              "│ add (<span style=\"color: #0087ff; text-decoration-color: #0087ff\">Add</span>)                       │ (<span style=\"color: #00d7ff; text-decoration-color: #00d7ff\">None</span>, <span style=\"color: #00af00; text-decoration-color: #00af00\">224</span>, <span style=\"color: #00af00; text-decoration-color: #00af00\">224</span>, <span style=\"color: #00af00; text-decoration-color: #00af00\">3</span>)    │             <span style=\"color: #00af00; text-decoration-color: #00af00\">0</span> │\n",
              "├─────────────────────────────────┼────────────────────────┼───────────────┤\n",
              "│ true_divide_1 (<span style=\"color: #0087ff; text-decoration-color: #0087ff\">TrueDivide</span>)      │ (<span style=\"color: #00d7ff; text-decoration-color: #00d7ff\">None</span>, <span style=\"color: #00af00; text-decoration-color: #00af00\">224</span>, <span style=\"color: #00af00; text-decoration-color: #00af00\">224</span>, <span style=\"color: #00af00; text-decoration-color: #00af00\">3</span>)    │             <span style=\"color: #00af00; text-decoration-color: #00af00\">0</span> │\n",
              "├─────────────────────────────────┼────────────────────────┼───────────────┤\n",
              "│ augment (<span style=\"color: #0087ff; text-decoration-color: #0087ff\">Sequential</span>)            │ (<span style=\"color: #00d7ff; text-decoration-color: #00d7ff\">None</span>, <span style=\"color: #00af00; text-decoration-color: #00af00\">224</span>, <span style=\"color: #00af00; text-decoration-color: #00af00\">224</span>, <span style=\"color: #00af00; text-decoration-color: #00af00\">3</span>)    │             <span style=\"color: #00af00; text-decoration-color: #00af00\">0</span> │\n",
              "├─────────────────────────────────┼────────────────────────┼───────────────┤\n",
              "│ densenet121 (<span style=\"color: #0087ff; text-decoration-color: #0087ff\">Functional</span>)        │ (<span style=\"color: #00d7ff; text-decoration-color: #00d7ff\">None</span>, <span style=\"color: #00af00; text-decoration-color: #00af00\">7</span>, <span style=\"color: #00af00; text-decoration-color: #00af00\">7</span>, <span style=\"color: #00af00; text-decoration-color: #00af00\">1024</span>)     │     <span style=\"color: #00af00; text-decoration-color: #00af00\">7,037,504</span> │\n",
              "├─────────────────────────────────┼────────────────────────┼───────────────┤\n",
              "│ global_average_pooling2d        │ (<span style=\"color: #00d7ff; text-decoration-color: #00d7ff\">None</span>, <span style=\"color: #00af00; text-decoration-color: #00af00\">1024</span>)           │             <span style=\"color: #00af00; text-decoration-color: #00af00\">0</span> │\n",
              "│ (<span style=\"color: #0087ff; text-decoration-color: #0087ff\">GlobalAveragePooling2D</span>)        │                        │               │\n",
              "├─────────────────────────────────┼────────────────────────┼───────────────┤\n",
              "│ dropout (<span style=\"color: #0087ff; text-decoration-color: #0087ff\">Dropout</span>)               │ (<span style=\"color: #00d7ff; text-decoration-color: #00d7ff\">None</span>, <span style=\"color: #00af00; text-decoration-color: #00af00\">1024</span>)           │             <span style=\"color: #00af00; text-decoration-color: #00af00\">0</span> │\n",
              "├─────────────────────────────────┼────────────────────────┼───────────────┤\n",
              "│ dense (<span style=\"color: #0087ff; text-decoration-color: #0087ff\">Dense</span>)                   │ (<span style=\"color: #00d7ff; text-decoration-color: #00d7ff\">None</span>, <span style=\"color: #00af00; text-decoration-color: #00af00\">1</span>)              │         <span style=\"color: #00af00; text-decoration-color: #00af00\">1,025</span> │\n",
              "└─────────────────────────────────┴────────────────────────┴───────────────┘\n",
              "</pre>\n"
            ]
          },
          "metadata": {}
        },
        {
          "output_type": "display_data",
          "data": {
            "text/plain": [
              "\u001b[1m Total params: \u001b[0m\u001b[38;5;34m7,038,529\u001b[0m (26.85 MB)\n"
            ],
            "text/html": [
              "<pre style=\"white-space:pre;overflow-x:auto;line-height:normal;font-family:Menlo,'DejaVu Sans Mono',consolas,'Courier New',monospace\"><span style=\"font-weight: bold\"> Total params: </span><span style=\"color: #00af00; text-decoration-color: #00af00\">7,038,529</span> (26.85 MB)\n",
              "</pre>\n"
            ]
          },
          "metadata": {}
        },
        {
          "output_type": "display_data",
          "data": {
            "text/plain": [
              "\u001b[1m Trainable params: \u001b[0m\u001b[38;5;34m1,025\u001b[0m (4.00 KB)\n"
            ],
            "text/html": [
              "<pre style=\"white-space:pre;overflow-x:auto;line-height:normal;font-family:Menlo,'DejaVu Sans Mono',consolas,'Courier New',monospace\"><span style=\"font-weight: bold\"> Trainable params: </span><span style=\"color: #00af00; text-decoration-color: #00af00\">1,025</span> (4.00 KB)\n",
              "</pre>\n"
            ]
          },
          "metadata": {}
        },
        {
          "output_type": "display_data",
          "data": {
            "text/plain": [
              "\u001b[1m Non-trainable params: \u001b[0m\u001b[38;5;34m7,037,504\u001b[0m (26.85 MB)\n"
            ],
            "text/html": [
              "<pre style=\"white-space:pre;overflow-x:auto;line-height:normal;font-family:Menlo,'DejaVu Sans Mono',consolas,'Courier New',monospace\"><span style=\"font-weight: bold\"> Non-trainable params: </span><span style=\"color: #00af00; text-decoration-color: #00af00\">7,037,504</span> (26.85 MB)\n",
              "</pre>\n"
            ]
          },
          "metadata": {}
        }
      ]
    },
    {
      "cell_type": "code",
      "source": [
        "# Callbacks\n",
        "cbs = [\n",
        "    keras.callbacks.EarlyStopping(monitor=\"val_auc\", patience=5, mode=\"max\", restore_best_weights=True),\n",
        "    keras.callbacks.ReduceLROnPlateau(monitor=\"val_loss\", factor=0.5, patience=2),\n",
        "    keras.callbacks.ModelCheckpoint(\"/content/densenet121_best.keras\", monitor=\"val_auc\",\n",
        "                                    mode=\"max\", save_best_only=True)\n",
        "]\n",
        "\n",
        "# Phase 1: warmup with frozen DenseNet\n",
        "history = model.fit(\n",
        "    train_ds,\n",
        "    validation_data=val_ds,\n",
        "    epochs=15,\n",
        "    class_weight=class_weight,      # helps if imbalanced\n",
        "    callbacks=cbs,\n",
        "    verbose=1\n",
        ")\n",
        "\n",
        "# Phase 2: fine-tune top ~30% (skip BatchNorms for stability)\n",
        "for layer in base.layers[int(len(base.layers) * 0.7):]:\n",
        "    if not isinstance(layer, layers.BatchNormalization):\n",
        "        layer.trainable = True\n",
        "\n",
        "model.compile(\n",
        "    optimizer=keras.optimizers.Adam(1e-4),  # lower LR for fine-tuning\n",
        "    loss=\"binary_crossentropy\",\n",
        "    metrics=[\n",
        "        \"accuracy\",\n",
        "        keras.metrics.AUC(name=\"auc\", curve=\"ROC\"),\n",
        "        keras.metrics.AUC(name=\"auprc\", curve=\"PR\"),\n",
        "        keras.metrics.Precision(name=\"precision\"),\n",
        "        keras.metrics.Recall(name=\"recall\"),\n",
        "    ],\n",
        ")\n",
        "\n",
        "history_ft = model.fit(\n",
        "    train_ds,\n",
        "    validation_data=val_ds,\n",
        "    epochs=12,\n",
        "    class_weight=class_weight,\n",
        "    callbacks=cbs,\n",
        "    verbose=1\n",
        ")\n"
      ],
      "metadata": {
        "colab": {
          "base_uri": "https://localhost:8080/"
        },
        "id": "urq87yAHL5_t",
        "outputId": "675f24df-2c28-4eb8-a2ab-867acd399046"
      },
      "execution_count": 12,
      "outputs": [
        {
          "output_type": "stream",
          "name": "stdout",
          "text": [
            "Epoch 1/15\n",
            "\u001b[1m87/87\u001b[0m \u001b[32m━━━━━━━━━━━━━━━━━━━━\u001b[0m\u001b[37m\u001b[0m \u001b[1m342s\u001b[0m 4s/step - accuracy: 0.4997 - auc: 0.4870 - auprc: 0.2303 - loss: 0.7968 - precision: 0.2176 - recall: 0.4781 - val_accuracy: 0.7750 - val_auc: 0.4572 - val_auprc: 0.1929 - val_loss: 0.5662 - val_precision: 0.3333 - val_recall: 0.0161 - learning_rate: 0.0010\n",
            "Epoch 2/15\n",
            "\u001b[1m87/87\u001b[0m \u001b[32m━━━━━━━━━━━━━━━━━━━━\u001b[0m\u001b[37m\u001b[0m \u001b[1m344s\u001b[0m 3s/step - accuracy: 0.5154 - auc: 0.5057 - auprc: 0.2446 - loss: 0.7416 - precision: 0.2277 - recall: 0.4927 - val_accuracy: 0.7714 - val_auc: 0.5024 - val_auprc: 0.2152 - val_loss: 0.6527 - val_precision: 0.0000e+00 - val_recall: 0.0000e+00 - learning_rate: 0.0010\n",
            "Epoch 3/15\n",
            "\u001b[1m87/87\u001b[0m \u001b[32m━━━━━━━━━━━━━━━━━━━━\u001b[0m\u001b[37m\u001b[0m \u001b[1m343s\u001b[0m 3s/step - accuracy: 0.5445 - auc: 0.5138 - auprc: 0.2549 - loss: 0.7515 - precision: 0.2162 - recall: 0.4120 - val_accuracy: 0.7679 - val_auc: 0.4893 - val_auprc: 0.2147 - val_loss: 0.7170 - val_precision: 0.0000e+00 - val_recall: 0.0000e+00 - learning_rate: 0.0010\n",
            "Epoch 4/15\n",
            "\u001b[1m87/87\u001b[0m \u001b[32m━━━━━━━━━━━━━━━━━━━━\u001b[0m\u001b[37m\u001b[0m \u001b[1m290s\u001b[0m 3s/step - accuracy: 0.6600 - auc: 0.5828 - auprc: 0.2841 - loss: 0.6786 - precision: 0.2442 - recall: 0.3666 - val_accuracy: 0.7679 - val_auc: 0.4914 - val_auprc: 0.2360 - val_loss: 0.5735 - val_precision: 0.0000e+00 - val_recall: 0.0000e+00 - learning_rate: 5.0000e-04\n",
            "Epoch 5/15\n",
            "\u001b[1m87/87\u001b[0m \u001b[32m━━━━━━━━━━━━━━━━━━━━\u001b[0m\u001b[37m\u001b[0m \u001b[1m320s\u001b[0m 3s/step - accuracy: 0.5302 - auc: 0.5982 - auprc: 0.3121 - loss: 0.6822 - precision: 0.2476 - recall: 0.5648 - val_accuracy: 0.7714 - val_auc: 0.4900 - val_auprc: 0.2084 - val_loss: 0.5854 - val_precision: 0.0000e+00 - val_recall: 0.0000e+00 - learning_rate: 5.0000e-04\n",
            "Epoch 6/15\n",
            "\u001b[1m87/87\u001b[0m \u001b[32m━━━━━━━━━━━━━━━━━━━━\u001b[0m\u001b[37m\u001b[0m \u001b[1m324s\u001b[0m 3s/step - accuracy: 0.5628 - auc: 0.6027 - auprc: 0.2914 - loss: 0.6774 - precision: 0.2773 - recall: 0.6364 - val_accuracy: 0.7643 - val_auc: 0.5113 - val_auprc: 0.2376 - val_loss: 0.5914 - val_precision: 0.0000e+00 - val_recall: 0.0000e+00 - learning_rate: 2.5000e-04\n",
            "Epoch 7/15\n",
            "\u001b[1m87/87\u001b[0m \u001b[32m━━━━━━━━━━━━━━━━━━━━\u001b[0m\u001b[37m\u001b[0m \u001b[1m357s\u001b[0m 3s/step - accuracy: 0.5717 - auc: 0.5864 - auprc: 0.2761 - loss: 0.6729 - precision: 0.2500 - recall: 0.5536 - val_accuracy: 0.7607 - val_auc: 0.5255 - val_auprc: 0.2659 - val_loss: 0.5813 - val_precision: 0.0000e+00 - val_recall: 0.0000e+00 - learning_rate: 2.5000e-04\n",
            "Epoch 8/15\n",
            "\u001b[1m87/87\u001b[0m \u001b[32m━━━━━━━━━━━━━━━━━━━━\u001b[0m\u001b[37m\u001b[0m \u001b[1m274s\u001b[0m 3s/step - accuracy: 0.5890 - auc: 0.5917 - auprc: 0.2757 - loss: 0.6737 - precision: 0.2566 - recall: 0.5229 - val_accuracy: 0.7714 - val_auc: 0.4950 - val_auprc: 0.2290 - val_loss: 0.5734 - val_precision: 0.0000e+00 - val_recall: 0.0000e+00 - learning_rate: 1.2500e-04\n",
            "Epoch 9/15\n",
            "\u001b[1m87/87\u001b[0m \u001b[32m━━━━━━━━━━━━━━━━━━━━\u001b[0m\u001b[37m\u001b[0m \u001b[1m315s\u001b[0m 3s/step - accuracy: 0.5436 - auc: 0.6182 - auprc: 0.3395 - loss: 0.6860 - precision: 0.2735 - recall: 0.5860 - val_accuracy: 0.7679 - val_auc: 0.5107 - val_auprc: 0.2491 - val_loss: 0.5798 - val_precision: 0.0000e+00 - val_recall: 0.0000e+00 - learning_rate: 1.2500e-04\n",
            "Epoch 10/15\n",
            "\u001b[1m87/87\u001b[0m \u001b[32m━━━━━━━━━━━━━━━━━━━━\u001b[0m\u001b[37m\u001b[0m \u001b[1m326s\u001b[0m 3s/step - accuracy: 0.5755 - auc: 0.5849 - auprc: 0.2966 - loss: 0.6968 - precision: 0.2672 - recall: 0.5047 - val_accuracy: 0.7750 - val_auc: 0.4827 - val_auprc: 0.2166 - val_loss: 0.5781 - val_precision: 0.0000e+00 - val_recall: 0.0000e+00 - learning_rate: 6.2500e-05\n",
            "Epoch 11/15\n",
            "\u001b[1m87/87\u001b[0m \u001b[32m━━━━━━━━━━━━━━━━━━━━\u001b[0m\u001b[37m\u001b[0m \u001b[1m319s\u001b[0m 3s/step - accuracy: 0.6002 - auc: 0.6015 - auprc: 0.2796 - loss: 0.6746 - precision: 0.2733 - recall: 0.5435 - val_accuracy: 0.7857 - val_auc: 0.4887 - val_auprc: 0.1943 - val_loss: 0.5518 - val_precision: 0.0000e+00 - val_recall: 0.0000e+00 - learning_rate: 6.2500e-05\n",
            "Epoch 12/15\n",
            "\u001b[1m87/87\u001b[0m \u001b[32m━━━━━━━━━━━━━━━━━━━━\u001b[0m\u001b[37m\u001b[0m \u001b[1m329s\u001b[0m 3s/step - accuracy: 0.5848 - auc: 0.5787 - auprc: 0.2681 - loss: 0.6865 - precision: 0.2538 - recall: 0.4817 - val_accuracy: 0.7750 - val_auc: 0.5217 - val_auprc: 0.2541 - val_loss: 0.5597 - val_precision: 0.0000e+00 - val_recall: 0.0000e+00 - learning_rate: 6.2500e-05\n",
            "Epoch 1/12\n",
            "\u001b[1m87/87\u001b[0m \u001b[32m━━━━━━━━━━━━━━━━━━━━\u001b[0m\u001b[37m\u001b[0m \u001b[1m379s\u001b[0m 4s/step - accuracy: 0.5692 - auc: 0.5606 - auprc: 0.2691 - loss: 0.7236 - precision: 0.2595 - recall: 0.5236 - val_accuracy: 0.6036 - val_auc: 0.5993 - val_auprc: 0.2686 - val_loss: 0.6305 - val_precision: 0.2832 - val_recall: 0.5161 - learning_rate: 1.0000e-04\n",
            "Epoch 2/12\n",
            "\u001b[1m87/87\u001b[0m \u001b[32m━━━━━━━━━━━━━━━━━━━━\u001b[0m\u001b[37m\u001b[0m \u001b[1m318s\u001b[0m 4s/step - accuracy: 0.5164 - auc: 0.6281 - auprc: 0.3507 - loss: 0.6715 - precision: 0.2765 - recall: 0.6979 - val_accuracy: 0.7714 - val_auc: 0.6043 - val_auprc: 0.2867 - val_loss: 0.5972 - val_precision: 0.0000e+00 - val_recall: 0.0000e+00 - learning_rate: 1.0000e-04\n",
            "Epoch 3/12\n",
            "\u001b[1m87/87\u001b[0m \u001b[32m━━━━━━━━━━━━━━━━━━━━\u001b[0m\u001b[37m\u001b[0m \u001b[1m310s\u001b[0m 3s/step - accuracy: 0.5780 - auc: 0.6472 - auprc: 0.3532 - loss: 0.6830 - precision: 0.3151 - recall: 0.6404 - val_accuracy: 0.7679 - val_auc: 0.6128 - val_auprc: 0.3117 - val_loss: 0.5831 - val_precision: 0.0000e+00 - val_recall: 0.0000e+00 - learning_rate: 1.0000e-04\n",
            "Epoch 4/12\n",
            "\u001b[1m87/87\u001b[0m \u001b[32m━━━━━━━━━━━━━━━━━━━━\u001b[0m\u001b[37m\u001b[0m \u001b[1m330s\u001b[0m 3s/step - accuracy: 0.6271 - auc: 0.6647 - auprc: 0.3552 - loss: 0.6515 - precision: 0.3374 - recall: 0.6217 - val_accuracy: 0.7536 - val_auc: 0.6165 - val_auprc: 0.3068 - val_loss: 0.5904 - val_precision: 0.0000e+00 - val_recall: 0.0000e+00 - learning_rate: 1.0000e-04\n",
            "Epoch 5/12\n",
            "\u001b[1m87/87\u001b[0m \u001b[32m━━━━━━━━━━━━━━━━━━━━\u001b[0m\u001b[37m\u001b[0m \u001b[1m351s\u001b[0m 4s/step - accuracy: 0.6298 - auc: 0.7218 - auprc: 0.4448 - loss: 0.6189 - precision: 0.3456 - recall: 0.6709 - val_accuracy: 0.7429 - val_auc: 0.6575 - val_auprc: 0.3338 - val_loss: 0.5818 - val_precision: 0.3684 - val_recall: 0.1045 - learning_rate: 1.0000e-04\n",
            "Epoch 6/12\n",
            "\u001b[1m87/87\u001b[0m \u001b[32m━━━━━━━━━━━━━━━━━━━━\u001b[0m\u001b[37m\u001b[0m \u001b[1m344s\u001b[0m 3s/step - accuracy: 0.6510 - auc: 0.7539 - auprc: 0.4257 - loss: 0.5864 - precision: 0.3514 - recall: 0.7689 - val_accuracy: 0.7643 - val_auc: 0.6421 - val_auprc: 0.3091 - val_loss: 0.7154 - val_precision: 0.3333 - val_recall: 0.0154 - learning_rate: 1.0000e-04\n",
            "Epoch 7/12\n",
            "\u001b[1m87/87\u001b[0m \u001b[32m━━━━━━━━━━━━━━━━━━━━\u001b[0m\u001b[37m\u001b[0m \u001b[1m326s\u001b[0m 3s/step - accuracy: 0.6499 - auc: 0.7455 - auprc: 0.4473 - loss: 0.5774 - precision: 0.3448 - recall: 0.7454 - val_accuracy: 0.5179 - val_auc: 0.6463 - val_auprc: 0.3913 - val_loss: 0.7397 - val_precision: 0.3143 - val_recall: 0.7857 - learning_rate: 1.0000e-04\n",
            "Epoch 8/12\n",
            "\u001b[1m87/87\u001b[0m \u001b[32m━━━━━━━━━━━━━━━━━━━━\u001b[0m\u001b[37m\u001b[0m \u001b[1m321s\u001b[0m 3s/step - accuracy: 0.6011 - auc: 0.7259 - auprc: 0.4024 - loss: 0.6029 - precision: 0.3219 - recall: 0.7501 - val_accuracy: 0.7000 - val_auc: 0.6209 - val_auprc: 0.2610 - val_loss: 0.6080 - val_precision: 0.2879 - val_recall: 0.3393 - learning_rate: 5.0000e-05\n",
            "Epoch 9/12\n",
            "\u001b[1m87/87\u001b[0m \u001b[32m━━━━━━━━━━━━━━━━━━━━\u001b[0m\u001b[37m\u001b[0m \u001b[1m315s\u001b[0m 4s/step - accuracy: 0.6392 - auc: 0.7841 - auprc: 0.4957 - loss: 0.5524 - precision: 0.3430 - recall: 0.7881 - val_accuracy: 0.7643 - val_auc: 0.5925 - val_auprc: 0.2868 - val_loss: 1.1596 - val_precision: 0.0000e+00 - val_recall: 0.0000e+00 - learning_rate: 5.0000e-05\n",
            "Epoch 10/12\n",
            "\u001b[1m87/87\u001b[0m \u001b[32m━━━━━━━━━━━━━━━━━━━━\u001b[0m\u001b[37m\u001b[0m \u001b[1m307s\u001b[0m 3s/step - accuracy: 0.7090 - auc: 0.8277 - auprc: 0.5572 - loss: 0.5104 - precision: 0.4263 - recall: 0.8603 - val_accuracy: 0.7714 - val_auc: 0.5880 - val_auprc: 0.2937 - val_loss: 1.2522 - val_precision: 0.0000e+00 - val_recall: 0.0000e+00 - learning_rate: 2.5000e-05\n"
          ]
        }
      ]
    },
    {
      "cell_type": "code",
      "source": [
        "# Evaluate\n",
        "test_metrics = model.evaluate(test_ds, return_dict=True, verbose=0)\n",
        "print(\"Test metrics:\", test_metrics)\n",
        "\n",
        "# Optional: choose a threshold based on validation ROC (Youden’s J)\n",
        "# Compute predictions on val to pick a threshold, then apply to test\n",
        "y_val_true, y_val_score = [], []\n",
        "for Xb, yb in val_ds:\n",
        "    y_val_true.append(yb.numpy().ravel())\n",
        "    y_val_score.append(model.predict(Xb, verbose=0).ravel())\n",
        "y_val_true  = np.concatenate(y_val_true)\n",
        "y_val_score = np.concatenate(y_val_score)\n",
        "\n",
        "# Find threshold that maximizes (tpr - fpr)\n",
        "from sklearn.metrics import roc_curve, auc\n",
        "fpr, tpr, thr = roc_curve(y_val_true, y_val_score)\n",
        "best_idx = np.argmax(tpr - fpr)\n",
        "best_thr = thr[best_idx]\n",
        "print(f\"Best validation threshold (Youden J): {best_thr:.3f} | Val AUC={auc(fpr, tpr):.3f}\")\n",
        "\n",
        "# Apply threshold to test for a human-readable confusion matrix\n",
        "y_test_true, y_test_score = [], []\n",
        "for Xb, yb in test_ds:\n",
        "    y_test_true.append(yb.numpy().ravel())\n",
        "    y_test_score.append(model.predict(Xb, verbose=0).ravel())\n",
        "y_test_true  = np.concatenate(y_test_true)\n",
        "y_test_score = np.concatenate(y_test_score)\n",
        "y_test_pred  = (y_test_score >= best_thr).astype(int)\n",
        "\n",
        "from sklearn.metrics import confusion_matrix, classification_report\n",
        "cm = confusion_matrix(y_test_true, y_test_pred)\n",
        "print(\"Confusion matrix @best_thr:\\n\", cm)\n",
        "print(classification_report(y_test_true, y_test_pred, digits=3))\n",
        "\n",
        "# Save model\n",
        "model.save(\"/content/appendicitis_densenet121.keras\")\n"
      ],
      "metadata": {
        "colab": {
          "base_uri": "https://localhost:8080/"
        },
        "id": "5nWYz3AiMCSf",
        "outputId": "f39f03c3-9fe6-4fb4-fe81-c1222e67a2a1"
      },
      "execution_count": 13,
      "outputs": [
        {
          "output_type": "stream",
          "name": "stdout",
          "text": [
            "Test metrics: {'accuracy': 0.734375, 'auc': 0.5550527572631836, 'auprc': 0.2183961570262909, 'loss': 0.6136813163757324, 'precision': 0.0, 'recall': 0.0}\n",
            "Best validation threshold (Youden J): 0.073 | Val AUC=0.657\n",
            "Confusion matrix @best_thr:\n",
            " [[17 32]\n",
            " [ 3 12]]\n",
            "              precision    recall  f1-score   support\n",
            "\n",
            "         0.0      0.850     0.347     0.493        49\n",
            "         1.0      0.273     0.800     0.407        15\n",
            "\n",
            "    accuracy                          0.453        64\n",
            "   macro avg      0.561     0.573     0.450        64\n",
            "weighted avg      0.715     0.453     0.473        64\n",
            "\n"
          ]
        }
      ]
    }
  ]
}