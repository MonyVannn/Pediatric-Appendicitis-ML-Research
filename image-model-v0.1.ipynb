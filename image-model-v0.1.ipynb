{
 "cells": [
  {
   "cell_type": "code",
   "execution_count": null,
   "id": "7d05ea16-7514-42b3-b701-313eef16abf7",
   "metadata": {},
   "outputs": [],
   "source": [
    "# libraries imports"
   ]
  },
  {
   "cell_type": "code",
   "execution_count": 5,
   "id": "a65a3bcb-3058-4e04-b7a0-e2a339f4b7d7",
   "metadata": {},
   "outputs": [],
   "source": [
    "import os\n",
    "import numpy as np\n",
    "import matplotlib.pyplot as plt\n",
    "import tensorflow as tf\n",
    "\n",
    "# For image data loading and augmentation\n",
    "from tensorflow.keras.preprocessing.image import ImageDataGenerator\n",
    "\n",
    "# For building the CNN model (we'll use MobileNetV2 as a good starting point)\n",
    "from tensorflow.keras.applications import MobileNetV2\n",
    "from tensorflow.keras.layers import Dense, Flatten, Dropout\n",
    "from tensorflow.keras.models import Model\n",
    "\n",
    "# For model callbacks during training\n",
    "from tensorflow.keras.callbacks import EarlyStopping, ModelCheckpoint\n",
    "\n",
    "# For evaluation metrics and plotting\n",
    "from sklearn.metrics import confusion_matrix, classification_report, roc_curve, auc\n",
    "import seaborn as sns\n",
    "\n",
    "# Set a random seed for reproducibility (important for research!)\n",
    "# This helps ensure that if you run the notebook multiple times,\n",
    "# you'll get the same initial splits and model initialization.\n",
    "tf.random.set_seed(42)\n",
    "np.random.seed(42)"
   ]
  },
  {
   "cell_type": "code",
   "execution_count": 6,
   "id": "125834d7-31f5-473c-860f-636325e851ef",
   "metadata": {},
   "outputs": [],
   "source": [
    "# define globals"
   ]
  },
  {
   "cell_type": "code",
   "execution_count": 8,
   "id": "fe57c7b4-02fc-4804-8c85-65541053bb50",
   "metadata": {},
   "outputs": [
    {
     "name": "stdout",
     "output_type": "stream",
     "text": [
      "Data directory found: ./images\n",
      "Warning: 'no_appendicitis' subfolder not found. Ensure class folders exist.\n"
     ]
    }
   ],
   "source": [
    "# --- Image Parameters ---\n",
    "IMG_HEIGHT = 224  # Standard height for many pre-trained models\n",
    "IMG_WIDTH = 224   # Standard width for many pre-trained models\n",
    "CHANNELS = 3      # Pre-trained models expect 3 channels (RGB).\n",
    "                  # Ultrasound images are often grayscale (1 channel),\n",
    "                  # so we'll convert them to 3 channels during loading by stacking.\n",
    "\n",
    "# --- Training Parameters ---\n",
    "BATCH_SIZE = 32   # Number of samples per gradient update\n",
    "VALIDATION_SPLIT = 0.2 # Percentage of data to reserve for validation\n",
    "\n",
    "# --- Data Directory ---\n",
    "# !! IMPORTANT: Replace this with the actual path to your image dataset !!\n",
    "# This directory should contain 'appendicitis' and 'no_appendicitis' subfolders.\n",
    "data_dir = './images' # Example: make sure this path is correct\n",
    "\n",
    "# Check if the data directory exists\n",
    "if not os.path.exists(data_dir):\n",
    "    print(f\"Error: Data directory not found at '{data_dir}'\")\n",
    "    print(\"Please update the 'data_dir' variable with the correct path to your image data.\")\n",
    "else:\n",
    "    print(f\"Data directory found: {data_dir}\")\n",
    "    # You can also check for the subfolders\n",
    "    if not os.path.exists(os.path.join(data_dir, 'appendicitis_images')):\n",
    "        print(\"Warning: 'appendicitis' subfolder not found. Ensure class folders exist.\")\n",
    "    if not os.path.exists(os.path.join(data_dir, 'no_appendicitis')):\n",
    "        print(\"Warning: 'no_appendicitis' subfolder not found. Ensure class folders exist.\")"
   ]
  },
  {
   "cell_type": "code",
   "execution_count": null,
   "id": "d181546a-1e73-4643-bda8-6dc5da6520a1",
   "metadata": {},
   "outputs": [],
   "source": [
    "# data augmentation"
   ]
  },
  {
   "cell_type": "code",
   "execution_count": null,
   "id": "2bba7b2c-6de4-4b88-b325-91758ff45bbb",
   "metadata": {},
   "outputs": [],
   "source": [
    "print(\"Setting up ImageDataGenerators with augmentation...\")\n",
    "\n",
    "# --- Training Data Generator ---\n",
    "train_datagen = ImageDataGenerator(\n",
    "    rescale=1./255,                 # Normalize pixel values from [0, 255] to [0, 1]\n",
    "    rotation_range=20,              # Randomly rotate images by up to 20 degrees\n",
    "    width_shift_range=0.2,          # Randomly shift images horizontally\n",
    "    height_shift_range=0.2,         # Randomly shift images vertically\n",
    "    shear_range=0.2,                # Apply shear mapping\n",
    "    zoom_range=0.2,                 # Randomly zoom in/out\n",
    "    horizontal_flip=True,           # Randomly flip images horizontally\n",
    "    fill_mode='nearest',            # Strategy for filling in new pixels created by transformations\n",
    "    validation_split=VALIDATION_SPLIT # Reserve a percentage of data for validation\n",
    ")\n",
    "\n",
    "# --- Validation Data Generator ---\n",
    "# Only rescaling for validation data; no augmentation should be applied\n",
    "validation_datagen = ImageDataGenerator(\n",
    "    rescale=1./255,                 # Normalize pixel values\n",
    "    validation_split=VALIDATION_SPLIT # Use the same split for consistency\n",
    ")\n",
    "\n",
    "# --- Load Images from Directories ---\n",
    "train_generator = train_datagen.flow_from_directory(\n",
    "    data_dir,\n",
    "    target_size=(IMG_HEIGHT, IMG_WIDTH),\n",
    "    color_mode='rgb',               # Ensure images are treated as RGB (3 channels)\n",
    "                                    # Even if they are grayscale, ImageDataGenerator will convert them.\n",
    "    batch_size=BATCH_SIZE,\n",
    "    class_mode='binary',            # 'binary' for 2 classes (0 or 1)\n",
    "    subset='training',              # Specify this is the training subset\n",
    "    shuffle=True                    # Shuffle training data\n",
    ")\n",
    "\n",
    "validation_generator = validation_datagen.flow_from_from_directory(\n",
    "    data_dir,\n",
    "    target_size=(IMG_HEIGHT, IMG_WIDTH),\n",
    "    color_mode='rgb',\n",
    "    batch_size=BATCH_SIZE,\n",
    "    class_mode='binary',\n",
    "    subset='validation',            # Specify this is the validation subset\n",
    "    shuffle=False                   # Do not shuffle validation data for consistent evaluation\n",
    ")\n",
    "\n",
    "print(\"\\nData generators created successfully!\")\n",
    "print(f\"Found {train_generator.samples} training images belonging to {train_generator.num_classes} classes.\")\n",
    "print(f\"Found {validation_generator.samples} validation images belonging to {validation_generator.num_classes} classes.\")\n",
    "print(f\"Class indices: {train_generator.class_indices}\")"
   ]
  }
 ],
 "metadata": {
  "kernelspec": {
   "display_name": "Python 3 (ipykernel)",
   "language": "python",
   "name": "python3"
  },
  "language_info": {
   "codemirror_mode": {
    "name": "ipython",
    "version": 3
   },
   "file_extension": ".py",
   "mimetype": "text/x-python",
   "name": "python",
   "nbconvert_exporter": "python",
   "pygments_lexer": "ipython3",
   "version": "3.10.2"
  }
 },
 "nbformat": 4,
 "nbformat_minor": 5
}
