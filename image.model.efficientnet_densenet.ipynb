# Import necessary libraries
import tensorflow as tf
from tensorflow.keras.applications import EfficientNetB7, DenseNet121, DenseNet201
from tensorflow.keras.preprocessing.image import ImageDataGenerator
from tensorflow.keras.models import Model
from tensorflow.keras.layers import Dense, GlobalAveragePooling2D
from sklearn.model_selection import train_test_split

# Data Preprocessing
# Load your dataset and preprocess it as done in the ResNet notebook
# Example: 
# data_gen = ImageDataGenerator(rescale=1./255, validation_split=0.2)

# Define the model architectures
def create_model(model_name):
    if model_name == 'EfficientNetB7':
        base_model = EfficientNetB7(weights='imagenet', include_top=False)
    elif model_name == 'DenseNet121':
        base_model = DenseNet121(weights='imagenet', include_top=False)
    elif model_name == 'DenseNet201':
        base_model = DenseNet201(weights='imagenet', include_top=False)
    
    # Add custom layers on top
    x = base_model.output
    x = GlobalAveragePooling2D()(x)
    x = Dense(256, activation='relu')(x)
    predictions = Dense(num_classes, activation='softmax')(x)
    
    model = Model(inputs=base_model.input, outputs=predictions)
    return model

# Training the models
models_to_train = ['EfficientNetB7', 'DenseNet121', 'DenseNet201']
for model_name in models_to_train:
    model = create_model(model_name)
    model.compile(optimizer='adam', loss='categorical_crossentropy', metrics=['accuracy'])
    
    # Train the model
    # Example:
    # model.fit(train_data, train_labels, validation_data=(val_data, val_labels), epochs=10)

# Save the models
# Example:
# model.save(f'{model_name}.h5')
