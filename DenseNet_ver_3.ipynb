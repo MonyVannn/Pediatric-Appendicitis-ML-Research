{
  "cells": [
    {
      "cell_type": "code",
      "execution_count": null,
      "id": "bec28c4d",
      "metadata": {
        "colab": {
          "base_uri": "https://localhost:8080/"
        },
        "id": "bec28c4d",
        "outputId": "463a0e81-df0a-4699-e8db-6cdd86a2cdbd"
      },
      "outputs": [
        {
          "output_type": "stream",
          "name": "stdout",
          "text": [
            "Drive already mounted at /content/drive; to attempt to forcibly remount, call drive.mount(\"/content/drive\", force_remount=True).\n",
            "Exists? True\n",
            "First items: ['No_Appendicitis_Images', 'Appendicitis_Images']\n"
          ]
        }
      ],
      "source": [
        "# === Cell 1: Setup & Data Config ===\n",
        "import os, numpy as np, tensorflow as tf\n",
        "from tensorflow import keras\n",
        "from tensorflow.keras import layers\n",
        "\n",
        "from google.colab import drive\n",
        "drive.mount('/content/drive')\n",
        "# Path to your dataset with two subfolders (e.g., negative/, positive/)\n",
        "DATA_DIR = \"/content/drive/MyDrive/Images/Images\"\n",
        "\n",
        "# Training configuration\n",
        "IMG_SIZE = (320, 320)   # Try (320, 320). If you get OOM, fall back to (224, 224) or (288, 288)\n",
        "BATCH    = 16\n",
        "SEED     = 13\n",
        "AUTOTUNE = tf.data.AUTOTUNE\n",
        "\n",
        "# Quick sanity check\n",
        "print(\"Exists?\", os.path.isdir(DATA_DIR))\n",
        "if os.path.isdir(DATA_DIR):\n",
        "    print(\"First items:\", os.listdir(DATA_DIR)[:10])\n",
        "else:\n",
        "    print(\"WARNING: DATA_DIR not found. Please update DATA_DIR.\")\n"
      ]
    },
    {
      "cell_type": "code",
      "execution_count": null,
      "id": "4f982ce7",
      "metadata": {
        "colab": {
          "base_uri": "https://localhost:8080/"
        },
        "id": "4f982ce7",
        "outputId": "047a1509-e116-40e0-e27e-2d2de8cb6357"
      },
      "outputs": [
        {
          "output_type": "stream",
          "name": "stdout",
          "text": [
            "Found 1721 files belonging to 2 classes.\n",
            "Using 1377 files for training.\n",
            "Found 1721 files belonging to 2 classes.\n",
            "Using 344 files for validation.\n"
          ]
        }
      ],
      "source": [
        "# === Cell 2: Build Datasets (train/val) ===\n",
        "train_ds = tf.keras.preprocessing.image_dataset_from_directory(\n",
        "    DATA_DIR, labels=\"inferred\", label_mode=\"binary\",\n",
        "    validation_split=0.20, subset=\"training\", seed=SEED,\n",
        "    image_size=IMG_SIZE, batch_size=BATCH\n",
        ")\n",
        "val_ds = tf.keras.preprocessing.image_dataset_from_directory(\n",
        "    DATA_DIR, labels=\"inferred\", label_mode=\"binary\",\n",
        "    validation_split=0.20, subset=\"validation\", seed=SEED,\n",
        "    image_size=IMG_SIZE, batch_size=BATCH\n",
        ")\n",
        "\n",
        "# If you have a separate test set, load it similarly. Otherwise we reuse val_ds below.\n",
        "test_ds = val_ds\n",
        "\n",
        "def prep(ds, training=False):\n",
        "    # Shuffle only during training; cache+prefetch for performance\n",
        "    if training:\n",
        "        ds = ds.shuffle(1024, seed=SEED, reshuffle_each_iteration=True)\n",
        "    return ds.cache().prefetch(AUTOTUNE)\n",
        "\n",
        "train_ds = prep(train_ds, training=True)\n",
        "val_ds   = prep(val_ds)\n",
        "test_ds  = prep(test_ds)\n"
      ]
    },
    {
      "cell_type": "code",
      "execution_count": null,
      "id": "290d2963",
      "metadata": {
        "colab": {
          "base_uri": "https://localhost:8080/"
        },
        "id": "290d2963",
        "outputId": "bd08a167-b41a-4c22-fcee-a4d0c6fd006c"
      },
      "outputs": [
        {
          "output_type": "stream",
          "name": "stdout",
          "text": [
            "Class counts: {'neg': 1074, 'pos': 303}\n",
            "Using class weights: {0: 0.6410614525139665, 1: 2.272277227722772}\n"
          ]
        }
      ],
      "source": [
        "# === Cell 3: Compute Class Weights (handles imbalance) ===\n",
        "neg, pos = 0, 0\n",
        "for _, yb in train_ds.unbatch().take(1_000_000):  # large limit to cover full dataset\n",
        "    if int(yb.numpy()[0]) == 1:\n",
        "        pos += 1\n",
        "    else:\n",
        "        neg += 1\n",
        "total = max(1, pos+neg)\n",
        "cw = {\n",
        "    0: total/(2*max(1,neg)),\n",
        "    1: total/(2*max(1,pos)),\n",
        "}\n",
        "print(\"Class counts:\", {\"neg\":neg, \"pos\":pos})\n",
        "print(\"Using class weights:\", cw)\n"
      ]
    },
    {
      "cell_type": "code",
      "execution_count": null,
      "id": "c7d2a0c1",
      "metadata": {
        "id": "c7d2a0c1"
      },
      "outputs": [],
      "source": [
        "# === Cell 4: Data Augmentations (light/medical-safe) ===\n",
        "data_augment = keras.Sequential([\n",
        "    layers.RandomFlip(\"horizontal\"),   # remove if left/right matters clinically\n",
        "    layers.RandomRotation(0.05),\n",
        "    layers.RandomZoom(0.1),\n",
        "    layers.RandomContrast(0.1),\n",
        "], name=\"augment\")\n"
      ]
    },
    {
      "cell_type": "code",
      "execution_count": null,
      "id": "529b169b",
      "metadata": {
        "colab": {
          "base_uri": "https://localhost:8080/",
          "height": 377
        },
        "id": "529b169b",
        "outputId": "e495d48d-b247-4107-c406-c1cf4fbeb3bd"
      },
      "outputs": [
        {
          "output_type": "display_data",
          "data": {
            "text/plain": [
              "\u001b[1mModel: \"functional_5\"\u001b[0m\n"
            ],
            "text/html": [
              "<pre style=\"white-space:pre;overflow-x:auto;line-height:normal;font-family:Menlo,'DejaVu Sans Mono',consolas,'Courier New',monospace\"><span style=\"font-weight: bold\">Model: \"functional_5\"</span>\n",
              "</pre>\n"
            ]
          },
          "metadata": {}
        },
        {
          "output_type": "display_data",
          "data": {
            "text/plain": [
              "┏━━━━━━━━━━━━━━━━━━━━━━━━━━━━━━━━━┳━━━━━━━━━━━━━━━━━━━━━━━━┳━━━━━━━━━━━━━━━┓\n",
              "┃\u001b[1m \u001b[0m\u001b[1mLayer (type)                   \u001b[0m\u001b[1m \u001b[0m┃\u001b[1m \u001b[0m\u001b[1mOutput Shape          \u001b[0m\u001b[1m \u001b[0m┃\u001b[1m \u001b[0m\u001b[1m      Param #\u001b[0m\u001b[1m \u001b[0m┃\n",
              "┡━━━━━━━━━━━━━━━━━━━━━━━━━━━━━━━━━╇━━━━━━━━━━━━━━━━━━━━━━━━╇━━━━━━━━━━━━━━━┩\n",
              "│ input_layer_7 (\u001b[38;5;33mInputLayer\u001b[0m)      │ (\u001b[38;5;45mNone\u001b[0m, \u001b[38;5;34m320\u001b[0m, \u001b[38;5;34m320\u001b[0m, \u001b[38;5;34m3\u001b[0m)    │             \u001b[38;5;34m0\u001b[0m │\n",
              "├─────────────────────────────────┼────────────────────────┼───────────────┤\n",
              "│ augment (\u001b[38;5;33mSequential\u001b[0m)            │ (\u001b[38;5;45mNone\u001b[0m, \u001b[38;5;34m320\u001b[0m, \u001b[38;5;34m320\u001b[0m, \u001b[38;5;34m3\u001b[0m)    │             \u001b[38;5;34m0\u001b[0m │\n",
              "├─────────────────────────────────┼────────────────────────┼───────────────┤\n",
              "│ lambda_2 (\u001b[38;5;33mLambda\u001b[0m)               │ (\u001b[38;5;45mNone\u001b[0m, \u001b[38;5;34m320\u001b[0m, \u001b[38;5;34m320\u001b[0m, \u001b[38;5;34m3\u001b[0m)    │             \u001b[38;5;34m0\u001b[0m │\n",
              "├─────────────────────────────────┼────────────────────────┼───────────────┤\n",
              "│ densenet121 (\u001b[38;5;33mFunctional\u001b[0m)        │ (\u001b[38;5;45mNone\u001b[0m, \u001b[38;5;34m10\u001b[0m, \u001b[38;5;34m10\u001b[0m, \u001b[38;5;34m1024\u001b[0m)   │     \u001b[38;5;34m7,037,504\u001b[0m │\n",
              "├─────────────────────────────────┼────────────────────────┼───────────────┤\n",
              "│ global_average_pooling2d_2      │ (\u001b[38;5;45mNone\u001b[0m, \u001b[38;5;34m1024\u001b[0m)           │             \u001b[38;5;34m0\u001b[0m │\n",
              "│ (\u001b[38;5;33mGlobalAveragePooling2D\u001b[0m)        │                        │               │\n",
              "├─────────────────────────────────┼────────────────────────┼───────────────┤\n",
              "│ dropout_2 (\u001b[38;5;33mDropout\u001b[0m)             │ (\u001b[38;5;45mNone\u001b[0m, \u001b[38;5;34m1024\u001b[0m)           │             \u001b[38;5;34m0\u001b[0m │\n",
              "├─────────────────────────────────┼────────────────────────┼───────────────┤\n",
              "│ dense_2 (\u001b[38;5;33mDense\u001b[0m)                 │ (\u001b[38;5;45mNone\u001b[0m, \u001b[38;5;34m1\u001b[0m)              │         \u001b[38;5;34m1,025\u001b[0m │\n",
              "└─────────────────────────────────┴────────────────────────┴───────────────┘\n"
            ],
            "text/html": [
              "<pre style=\"white-space:pre;overflow-x:auto;line-height:normal;font-family:Menlo,'DejaVu Sans Mono',consolas,'Courier New',monospace\">┏━━━━━━━━━━━━━━━━━━━━━━━━━━━━━━━━━┳━━━━━━━━━━━━━━━━━━━━━━━━┳━━━━━━━━━━━━━━━┓\n",
              "┃<span style=\"font-weight: bold\"> Layer (type)                    </span>┃<span style=\"font-weight: bold\"> Output Shape           </span>┃<span style=\"font-weight: bold\">       Param # </span>┃\n",
              "┡━━━━━━━━━━━━━━━━━━━━━━━━━━━━━━━━━╇━━━━━━━━━━━━━━━━━━━━━━━━╇━━━━━━━━━━━━━━━┩\n",
              "│ input_layer_7 (<span style=\"color: #0087ff; text-decoration-color: #0087ff\">InputLayer</span>)      │ (<span style=\"color: #00d7ff; text-decoration-color: #00d7ff\">None</span>, <span style=\"color: #00af00; text-decoration-color: #00af00\">320</span>, <span style=\"color: #00af00; text-decoration-color: #00af00\">320</span>, <span style=\"color: #00af00; text-decoration-color: #00af00\">3</span>)    │             <span style=\"color: #00af00; text-decoration-color: #00af00\">0</span> │\n",
              "├─────────────────────────────────┼────────────────────────┼───────────────┤\n",
              "│ augment (<span style=\"color: #0087ff; text-decoration-color: #0087ff\">Sequential</span>)            │ (<span style=\"color: #00d7ff; text-decoration-color: #00d7ff\">None</span>, <span style=\"color: #00af00; text-decoration-color: #00af00\">320</span>, <span style=\"color: #00af00; text-decoration-color: #00af00\">320</span>, <span style=\"color: #00af00; text-decoration-color: #00af00\">3</span>)    │             <span style=\"color: #00af00; text-decoration-color: #00af00\">0</span> │\n",
              "├─────────────────────────────────┼────────────────────────┼───────────────┤\n",
              "│ lambda_2 (<span style=\"color: #0087ff; text-decoration-color: #0087ff\">Lambda</span>)               │ (<span style=\"color: #00d7ff; text-decoration-color: #00d7ff\">None</span>, <span style=\"color: #00af00; text-decoration-color: #00af00\">320</span>, <span style=\"color: #00af00; text-decoration-color: #00af00\">320</span>, <span style=\"color: #00af00; text-decoration-color: #00af00\">3</span>)    │             <span style=\"color: #00af00; text-decoration-color: #00af00\">0</span> │\n",
              "├─────────────────────────────────┼────────────────────────┼───────────────┤\n",
              "│ densenet121 (<span style=\"color: #0087ff; text-decoration-color: #0087ff\">Functional</span>)        │ (<span style=\"color: #00d7ff; text-decoration-color: #00d7ff\">None</span>, <span style=\"color: #00af00; text-decoration-color: #00af00\">10</span>, <span style=\"color: #00af00; text-decoration-color: #00af00\">10</span>, <span style=\"color: #00af00; text-decoration-color: #00af00\">1024</span>)   │     <span style=\"color: #00af00; text-decoration-color: #00af00\">7,037,504</span> │\n",
              "├─────────────────────────────────┼────────────────────────┼───────────────┤\n",
              "│ global_average_pooling2d_2      │ (<span style=\"color: #00d7ff; text-decoration-color: #00d7ff\">None</span>, <span style=\"color: #00af00; text-decoration-color: #00af00\">1024</span>)           │             <span style=\"color: #00af00; text-decoration-color: #00af00\">0</span> │\n",
              "│ (<span style=\"color: #0087ff; text-decoration-color: #0087ff\">GlobalAveragePooling2D</span>)        │                        │               │\n",
              "├─────────────────────────────────┼────────────────────────┼───────────────┤\n",
              "│ dropout_2 (<span style=\"color: #0087ff; text-decoration-color: #0087ff\">Dropout</span>)             │ (<span style=\"color: #00d7ff; text-decoration-color: #00d7ff\">None</span>, <span style=\"color: #00af00; text-decoration-color: #00af00\">1024</span>)           │             <span style=\"color: #00af00; text-decoration-color: #00af00\">0</span> │\n",
              "├─────────────────────────────────┼────────────────────────┼───────────────┤\n",
              "│ dense_2 (<span style=\"color: #0087ff; text-decoration-color: #0087ff\">Dense</span>)                 │ (<span style=\"color: #00d7ff; text-decoration-color: #00d7ff\">None</span>, <span style=\"color: #00af00; text-decoration-color: #00af00\">1</span>)              │         <span style=\"color: #00af00; text-decoration-color: #00af00\">1,025</span> │\n",
              "└─────────────────────────────────┴────────────────────────┴───────────────┘\n",
              "</pre>\n"
            ]
          },
          "metadata": {}
        },
        {
          "output_type": "display_data",
          "data": {
            "text/plain": [
              "\u001b[1m Total params: \u001b[0m\u001b[38;5;34m7,038,529\u001b[0m (26.85 MB)\n"
            ],
            "text/html": [
              "<pre style=\"white-space:pre;overflow-x:auto;line-height:normal;font-family:Menlo,'DejaVu Sans Mono',consolas,'Courier New',monospace\"><span style=\"font-weight: bold\"> Total params: </span><span style=\"color: #00af00; text-decoration-color: #00af00\">7,038,529</span> (26.85 MB)\n",
              "</pre>\n"
            ]
          },
          "metadata": {}
        },
        {
          "output_type": "display_data",
          "data": {
            "text/plain": [
              "\u001b[1m Trainable params: \u001b[0m\u001b[38;5;34m1,025\u001b[0m (4.00 KB)\n"
            ],
            "text/html": [
              "<pre style=\"white-space:pre;overflow-x:auto;line-height:normal;font-family:Menlo,'DejaVu Sans Mono',consolas,'Courier New',monospace\"><span style=\"font-weight: bold\"> Trainable params: </span><span style=\"color: #00af00; text-decoration-color: #00af00\">1,025</span> (4.00 KB)\n",
              "</pre>\n"
            ]
          },
          "metadata": {}
        },
        {
          "output_type": "display_data",
          "data": {
            "text/plain": [
              "\u001b[1m Non-trainable params: \u001b[0m\u001b[38;5;34m7,037,504\u001b[0m (26.85 MB)\n"
            ],
            "text/html": [
              "<pre style=\"white-space:pre;overflow-x:auto;line-height:normal;font-family:Menlo,'DejaVu Sans Mono',consolas,'Courier New',monospace\"><span style=\"font-weight: bold\"> Non-trainable params: </span><span style=\"color: #00af00; text-decoration-color: #00af00\">7,037,504</span> (26.85 MB)\n",
              "</pre>\n"
            ]
          },
          "metadata": {}
        }
      ],
      "source": [
        "# === Cell 5: Build DenseNet121 (Stage 1: Frozen base) ===\n",
        "from tensorflow.keras.applications import DenseNet121\n",
        "from tensorflow.keras.applications.densenet import preprocess_input\n",
        "\n",
        "base = DenseNet121(include_top=False, weights=\"imagenet\", input_shape=IMG_SIZE+(3,))\n",
        "base.trainable = False\n",
        "\n",
        "inp = layers.Input(shape=IMG_SIZE+(3,))\n",
        "x   = data_augment(inp)\n",
        "x   = layers.Lambda(preprocess_input)(x)\n",
        "x   = base(x, training=False)\n",
        "x   = layers.GlobalAveragePooling2D()(x)\n",
        "x   = layers.Dropout(0.3)(x)  # increase to 0.4-0.5 if overfitting\n",
        "out = layers.Dense(1, activation=\"sigmoid\")(x)\n",
        "model = keras.Model(inp, out)\n",
        "\n",
        "steps_per_epoch = int(np.ceil(train_ds.cardinality().numpy()))\n",
        "total_steps     = steps_per_epoch * 5   # ~5 epochs in stage 1\n",
        "\n",
        "schedule = keras.optimizers.schedules.CosineDecay(\n",
        "    initial_learning_rate=3e-4, decay_steps=total_steps\n",
        ")\n",
        "opt = keras.optimizers.AdamW(learning_rate=schedule, weight_decay=1e-4)\n",
        "\n",
        "model.compile(\n",
        "    optimizer=opt,\n",
        "    loss=keras.losses.BinaryCrossentropy(label_smoothing=0.05),\n",
        "    metrics=[\n",
        "        keras.metrics.BinaryAccuracy(name=\"acc\"),\n",
        "        keras.metrics.AUC(name=\"auc\"),\n",
        "        keras.metrics.AUC(name=\"auprc\", curve=\"PR\"),\n",
        "        keras.metrics.Precision(name=\"prec\"),\n",
        "        keras.metrics.Recall(name=\"rec\"),\n",
        "    ],\n",
        ")\n",
        "\n",
        "cbs = [\n",
        "    keras.callbacks.ModelCheckpoint(\"densenet_stage1.keras\", save_best_only=True, monitor=\"val_auc\", mode=\"max\"),\n",
        "    keras.callbacks.EarlyStopping(monitor=\"val_auc\", mode=\"max\", patience=3, restore_best_weights=True),\n",
        "]\n",
        "\n",
        "model.summary()\n"
      ]
    },
    {
      "cell_type": "code",
      "execution_count": null,
      "id": "7d42bafa",
      "metadata": {
        "colab": {
          "base_uri": "https://localhost:8080/"
        },
        "id": "7d42bafa",
        "outputId": "ade4e57c-7045-49f4-ecf3-b63ab2f63824"
      },
      "outputs": [
        {
          "output_type": "stream",
          "name": "stdout",
          "text": [
            "Epoch 1/5\n",
            "\u001b[1m87/87\u001b[0m \u001b[32m━━━━━━━━━━━━━━━━━━━━\u001b[0m\u001b[37m\u001b[0m \u001b[1m632s\u001b[0m 7s/step - acc: 0.5779 - auc: 0.4977 - auprc: 0.2325 - loss: 0.8529 - prec: 0.2225 - rec: 0.3274 - val_acc: 0.5494 - val_auc: 0.5582 - val_auprc: 0.2500 - val_loss: 0.6921 - val_prec: 0.2683 - val_rec: 0.5570\n",
            "Epoch 2/5\n",
            "\u001b[1m87/87\u001b[0m \u001b[32m━━━━━━━━━━━━━━━━━━━━\u001b[0m\u001b[37m\u001b[0m \u001b[1m615s\u001b[0m 7s/step - acc: 0.5052 - auc: 0.5086 - auprc: 0.2546 - loss: 0.7708 - prec: 0.2248 - rec: 0.4762 - val_acc: 0.5727 - val_auc: 0.5948 - val_auprc: 0.2771 - val_loss: 0.6894 - val_prec: 0.2927 - val_rec: 0.6076\n",
            "Epoch 3/5\n",
            "\u001b[1m87/87\u001b[0m \u001b[32m━━━━━━━━━━━━━━━━━━━━\u001b[0m\u001b[37m\u001b[0m \u001b[1m619s\u001b[0m 7s/step - acc: 0.5302 - auc: 0.5398 - auprc: 0.2624 - loss: 0.7513 - prec: 0.2609 - rec: 0.5355 - val_acc: 0.5727 - val_auc: 0.6123 - val_auprc: 0.2897 - val_loss: 0.6877 - val_prec: 0.3068 - val_rec: 0.6835\n",
            "Epoch 4/5\n",
            "\u001b[1m87/87\u001b[0m \u001b[32m━━━━━━━━━━━━━━━━━━━━\u001b[0m\u001b[37m\u001b[0m \u001b[1m645s\u001b[0m 7s/step - acc: 0.5378 - auc: 0.5310 - auprc: 0.2714 - loss: 0.7617 - prec: 0.2565 - rec: 0.5192 - val_acc: 0.4448 - val_auc: 0.6164 - val_auprc: 0.2931 - val_loss: 0.7214 - val_prec: 0.2667 - val_rec: 0.8101\n",
            "Epoch 5/5\n",
            "\u001b[1m87/87\u001b[0m \u001b[32m━━━━━━━━━━━━━━━━━━━━\u001b[0m\u001b[37m\u001b[0m \u001b[1m654s\u001b[0m 7s/step - acc: 0.5266 - auc: 0.5312 - auprc: 0.2749 - loss: 0.7414 - prec: 0.2467 - rec: 0.5018 - val_acc: 0.4419 - val_auc: 0.6184 - val_auprc: 0.2963 - val_loss: 0.7256 - val_prec: 0.2694 - val_rec: 0.8354\n"
          ]
        }
      ],
      "source": [
        "# === Cell 6: Train Stage 1 (Frozen) ===\n",
        "history1 = model.fit(\n",
        "    train_ds,\n",
        "    validation_data=val_ds,\n",
        "    epochs=5,                # can increase slightly if still improving\n",
        "    class_weight=cw,\n",
        "    callbacks=cbs\n",
        ")\n"
      ]
    },
    {
      "cell_type": "code",
      "execution_count": null,
      "id": "fd426d1c",
      "metadata": {
        "colab": {
          "base_uri": "https://localhost:8080/"
        },
        "id": "fd426d1c",
        "outputId": "58b41974-485a-4787-b525-fe18019eacff"
      },
      "outputs": [
        {
          "output_type": "stream",
          "name": "stdout",
          "text": [
            "Epoch 1/15\n",
            "\u001b[1m87/87\u001b[0m \u001b[32m━━━━━━━━━━━━━━━━━━━━\u001b[0m\u001b[37m\u001b[0m \u001b[1m747s\u001b[0m 8s/step - accuracy: 0.7569 - auc: 0.5832 - auprc: 0.3266 - loss: 0.5584 - prec: 0.4020 - rec: 0.1179 - val_accuracy: 0.7703 - val_auc: 0.7016 - val_auprc: 0.4114 - val_loss: 0.5058 - val_prec: 0.0000e+00 - val_rec: 0.0000e+00 - learning_rate: 3.0000e-05\n",
            "Epoch 2/15\n",
            "\u001b[1m87/87\u001b[0m \u001b[32m━━━━━━━━━━━━━━━━━━━━\u001b[0m\u001b[37m\u001b[0m \u001b[1m736s\u001b[0m 8s/step - accuracy: 0.7776 - auc: 0.7005 - auprc: 0.4482 - loss: 0.4951 - prec: 0.6588 - rec: 0.0865 - val_accuracy: 0.7703 - val_auc: 0.7423 - val_auprc: 0.4777 - val_loss: 0.5014 - val_prec: 0.0000e+00 - val_rec: 0.0000e+00 - learning_rate: 3.0000e-05\n",
            "Epoch 3/15\n",
            "\u001b[1m87/87\u001b[0m \u001b[32m━━━━━━━━━━━━━━━━━━━━\u001b[0m\u001b[37m\u001b[0m \u001b[1m738s\u001b[0m 8s/step - accuracy: 0.7866 - auc: 0.7451 - auprc: 0.4906 - loss: 0.4730 - prec: 0.6634 - rec: 0.1582 - val_accuracy: 0.7733 - val_auc: 0.7399 - val_auprc: 0.4686 - val_loss: 0.5042 - val_prec: 1.0000 - val_rec: 0.0127 - learning_rate: 3.0000e-05\n",
            "Epoch 4/15\n",
            "\u001b[1m87/87\u001b[0m \u001b[32m━━━━━━━━━━━━━━━━━━━━\u001b[0m\u001b[37m\u001b[0m \u001b[1m713s\u001b[0m 8s/step - accuracy: 0.7876 - auc: 0.7779 - auprc: 0.5269 - loss: 0.4522 - prec: 0.6062 - rec: 0.2321 - val_accuracy: 0.8081 - val_auc: 0.7789 - val_auprc: 0.5520 - val_loss: 0.4534 - val_prec: 0.8824 - val_rec: 0.1899 - learning_rate: 3.0000e-05\n",
            "Epoch 5/15\n",
            "\u001b[1m87/87\u001b[0m \u001b[32m━━━━━━━━━━━━━━━━━━━━\u001b[0m\u001b[37m\u001b[0m \u001b[1m769s\u001b[0m 9s/step - accuracy: 0.7963 - auc: 0.8229 - auprc: 0.5825 - loss: 0.4147 - prec: 0.6223 - rec: 0.3307 - val_accuracy: 0.8023 - val_auc: 0.7827 - val_auprc: 0.5663 - val_loss: 0.4491 - val_prec: 0.6410 - val_rec: 0.3165 - learning_rate: 3.0000e-05\n",
            "Epoch 6/15\n",
            "\u001b[1m87/87\u001b[0m \u001b[32m━━━━━━━━━━━━━━━━━━━━\u001b[0m\u001b[37m\u001b[0m \u001b[1m710s\u001b[0m 8s/step - accuracy: 0.8126 - auc: 0.8502 - auprc: 0.6495 - loss: 0.3870 - prec: 0.6507 - rec: 0.4351 - val_accuracy: 0.7820 - val_auc: 0.7818 - val_auprc: 0.5478 - val_loss: 0.4867 - val_prec: 0.5435 - val_rec: 0.3165 - learning_rate: 3.0000e-05\n",
            "Epoch 7/15\n",
            "\u001b[1m87/87\u001b[0m \u001b[32m━━━━━━━━━━━━━━━━━━━━\u001b[0m\u001b[37m\u001b[0m \u001b[1m0s\u001b[0m 7s/step - accuracy: 0.8098 - auc: 0.8680 - auprc: 0.6580 - loss: 0.3669 - prec: 0.6189 - rec: 0.4786\n",
            "Epoch 7: ReduceLROnPlateau reducing learning rate to 1.4999999621068127e-05.\n",
            "\u001b[1m87/87\u001b[0m \u001b[32m━━━━━━━━━━━━━━━━━━━━\u001b[0m\u001b[37m\u001b[0m \u001b[1m736s\u001b[0m 8s/step - accuracy: 0.8099 - auc: 0.8679 - auprc: 0.6576 - loss: 0.3669 - prec: 0.6192 - rec: 0.4782 - val_accuracy: 0.7878 - val_auc: 0.7773 - val_auprc: 0.5478 - val_loss: 0.5139 - val_prec: 0.6154 - val_rec: 0.2025 - learning_rate: 3.0000e-05\n",
            "Epoch 8/15\n",
            "\u001b[1m87/87\u001b[0m \u001b[32m━━━━━━━━━━━━━━━━━━━━\u001b[0m\u001b[37m\u001b[0m \u001b[1m708s\u001b[0m 8s/step - accuracy: 0.8545 - auc: 0.9023 - auprc: 0.7415 - loss: 0.3292 - prec: 0.7351 - rec: 0.5842 - val_accuracy: 0.7936 - val_auc: 0.7819 - val_auprc: 0.5354 - val_loss: 0.6667 - val_prec: 0.7500 - val_rec: 0.1519 - learning_rate: 1.5000e-05\n",
            "Epoch 9/15\n",
            "\u001b[1m87/87\u001b[0m \u001b[32m━━━━━━━━━━━━━━━━━━━━\u001b[0m\u001b[37m\u001b[0m \u001b[1m0s\u001b[0m 7s/step - accuracy: 0.8579 - auc: 0.9027 - auprc: 0.7616 - loss: 0.3229 - prec: 0.7313 - rec: 0.6137\n",
            "Epoch 9: ReduceLROnPlateau reducing learning rate to 7.499999810534064e-06.\n",
            "\u001b[1m87/87\u001b[0m \u001b[32m━━━━━━━━━━━━━━━━━━━━\u001b[0m\u001b[37m\u001b[0m \u001b[1m708s\u001b[0m 8s/step - accuracy: 0.8579 - auc: 0.9027 - auprc: 0.7614 - loss: 0.3228 - prec: 0.7313 - rec: 0.6135 - val_accuracy: 0.7878 - val_auc: 0.7880 - val_auprc: 0.5297 - val_loss: 0.6718 - val_prec: 0.7143 - val_rec: 0.1266 - learning_rate: 1.5000e-05\n",
            "Epoch 10/15\n",
            "\u001b[1m87/87\u001b[0m \u001b[32m━━━━━━━━━━━━━━━━━━━━\u001b[0m\u001b[37m\u001b[0m \u001b[1m777s\u001b[0m 9s/step - accuracy: 0.8383 - auc: 0.9086 - auprc: 0.7499 - loss: 0.3191 - prec: 0.7172 - rec: 0.5215 - val_accuracy: 0.7878 - val_auc: 0.7892 - val_auprc: 0.5441 - val_loss: 0.5639 - val_prec: 0.5938 - val_rec: 0.2405 - learning_rate: 7.5000e-06\n",
            "Epoch 11/15\n",
            "\u001b[1m87/87\u001b[0m \u001b[32m━━━━━━━━━━━━━━━━━━━━\u001b[0m\u001b[37m\u001b[0m \u001b[1m0s\u001b[0m 7s/step - accuracy: 0.8619 - auc: 0.9261 - auprc: 0.7949 - loss: 0.2887 - prec: 0.7444 - rec: 0.6226\n",
            "Epoch 11: ReduceLROnPlateau reducing learning rate to 3.749999905267032e-06.\n",
            "\u001b[1m87/87\u001b[0m \u001b[32m━━━━━━━━━━━━━━━━━━━━\u001b[0m\u001b[37m\u001b[0m \u001b[1m715s\u001b[0m 8s/step - accuracy: 0.8619 - auc: 0.9261 - auprc: 0.7947 - loss: 0.2886 - prec: 0.7442 - rec: 0.6227 - val_accuracy: 0.7849 - val_auc: 0.7872 - val_auprc: 0.5292 - val_loss: 0.6004 - val_prec: 0.5926 - val_rec: 0.2025 - learning_rate: 7.5000e-06\n",
            "Epoch 12/15\n",
            "\u001b[1m87/87\u001b[0m \u001b[32m━━━━━━━━━━━━━━━━━━━━\u001b[0m\u001b[37m\u001b[0m \u001b[1m716s\u001b[0m 8s/step - accuracy: 0.8697 - auc: 0.9250 - auprc: 0.7693 - loss: 0.2923 - prec: 0.7707 - rec: 0.6329 - val_accuracy: 0.7936 - val_auc: 0.7903 - val_auprc: 0.5398 - val_loss: 0.5657 - val_prec: 0.6053 - val_rec: 0.2911 - learning_rate: 3.7500e-06\n",
            "Epoch 13/15\n",
            "\u001b[1m87/87\u001b[0m \u001b[32m━━━━━━━━━━━━━━━━━━━━\u001b[0m\u001b[37m\u001b[0m \u001b[1m0s\u001b[0m 7s/step - accuracy: 0.8807 - auc: 0.9350 - auprc: 0.8186 - loss: 0.2737 - prec: 0.7951 - rec: 0.6550\n",
            "Epoch 13: ReduceLROnPlateau reducing learning rate to 1.874999952633516e-06.\n",
            "\u001b[1m87/87\u001b[0m \u001b[32m━━━━━━━━━━━━━━━━━━━━\u001b[0m\u001b[37m\u001b[0m \u001b[1m715s\u001b[0m 8s/step - accuracy: 0.8807 - auc: 0.9350 - auprc: 0.8184 - loss: 0.2736 - prec: 0.7947 - rec: 0.6550 - val_accuracy: 0.7849 - val_auc: 0.7897 - val_auprc: 0.5351 - val_loss: 0.5959 - val_prec: 0.5714 - val_rec: 0.2532 - learning_rate: 3.7500e-06\n",
            "Epoch 14/15\n",
            "\u001b[1m87/87\u001b[0m \u001b[32m━━━━━━━━━━━━━━━━━━━━\u001b[0m\u001b[37m\u001b[0m \u001b[1m744s\u001b[0m 8s/step - accuracy: 0.8786 - auc: 0.9364 - auprc: 0.8081 - loss: 0.2676 - prec: 0.7884 - rec: 0.6565 - val_accuracy: 0.7965 - val_auc: 0.7893 - val_auprc: 0.5464 - val_loss: 0.5692 - val_prec: 0.6098 - val_rec: 0.3165 - learning_rate: 1.8750e-06\n",
            "Epoch 15/15\n",
            "\u001b[1m87/87\u001b[0m \u001b[32m━━━━━━━━━━━━━━━━━━━━\u001b[0m\u001b[37m\u001b[0m \u001b[1m0s\u001b[0m 7s/step - accuracy: 0.8871 - auc: 0.9493 - auprc: 0.8504 - loss: 0.2447 - prec: 0.7878 - rec: 0.7042\n",
            "Epoch 15: ReduceLROnPlateau reducing learning rate to 1e-06.\n",
            "\u001b[1m87/87\u001b[0m \u001b[32m━━━━━━━━━━━━━━━━━━━━\u001b[0m\u001b[37m\u001b[0m \u001b[1m746s\u001b[0m 9s/step - accuracy: 0.8871 - auc: 0.9493 - auprc: 0.8502 - loss: 0.2448 - prec: 0.7876 - rec: 0.7041 - val_accuracy: 0.7849 - val_auc: 0.7878 - val_auprc: 0.5400 - val_loss: 0.6056 - val_prec: 0.5714 - val_rec: 0.2532 - learning_rate: 1.8750e-06\n"
          ]
        }
      ],
      "source": [
        "# === Cell 7: Fine-tune Stage 2 (unfreeze deeper layers) ===\n",
        "# 1) Unfreeze the last ~160 layers (adjust count if needed)\n",
        "base.trainable = True\n",
        "n_layers = len(base.layers)\n",
        "unfreeze_last = 160  # tweak as you like\n",
        "freeze_until = max(0, n_layers - unfreeze_last)\n",
        "\n",
        "for i, layer in enumerate(base.layers):\n",
        "    layer.trainable = (i >= freeze_until)\n",
        "    # (Optional but common) keep BatchNorm layers frozen during fine-tuning\n",
        "    if isinstance(layer, tf.keras.layers.BatchNormalization):\n",
        "        layer.trainable = False\n",
        "\n",
        "# 2) Optimizer: plain float LR so callbacks can adjust it\n",
        "# Tip: fine-tuning often benefits from a smaller LR like 3e-5 to 1e-5\n",
        "opt = tf.keras.optimizers.Adam(learning_rate=3e-5)\n",
        "\n",
        "model.compile(\n",
        "    optimizer=opt,\n",
        "    loss='binary_crossentropy',\n",
        "    metrics=[\n",
        "        'accuracy',\n",
        "        tf.keras.metrics.AUC(name='auc'),\n",
        "        tf.keras.metrics.AUC(curve='PR', name='auprc'),\n",
        "        tf.keras.metrics.Precision(name='prec'),\n",
        "        tf.keras.metrics.Recall(name='rec'),\n",
        "    ],\n",
        ")\n",
        "\n",
        "# 3) Callbacks (consistent monitors)\n",
        "cbs_ft = [\n",
        "    keras.callbacks.ModelCheckpoint(\n",
        "        \"densenet_finetuned.keras\", save_best_only=True,\n",
        "        monitor=\"val_auc\", mode=\"max\"\n",
        "    ),\n",
        "    keras.callbacks.ReduceLROnPlateau(\n",
        "        monitor=\"val_loss\", mode=\"min\", factor=0.5,\n",
        "        patience=2, min_lr=1e-6, verbose=1\n",
        "    ),\n",
        "    keras.callbacks.EarlyStopping(\n",
        "        monitor=\"val_auc\", mode=\"max\",\n",
        "        patience=5, restore_best_weights=True\n",
        "    ),\n",
        "]\n",
        "\n",
        "history2 = model.fit(\n",
        "    train_ds,\n",
        "    validation_data=val_ds,\n",
        "    epochs=15,\n",
        "    callbacks=cbs_ft,\n",
        "    verbose=1,\n",
        ")\n"
      ]
    },
    {
      "cell_type": "code",
      "execution_count": null,
      "id": "131f5e2b",
      "metadata": {
        "colab": {
          "base_uri": "https://localhost:8080/"
        },
        "id": "131f5e2b",
        "outputId": "c626eb36-bc42-411d-e68c-7619588e85c1"
      },
      "outputs": [
        {
          "output_type": "stream",
          "name": "stdout",
          "text": [
            "Best threshold (Youden J): 0.085, Val AUC=0.791\n"
          ]
        }
      ],
      "source": [
        "# === Cell 8: Threshold Search (Youden J) on Validation ===\n",
        "import numpy as np\n",
        "y_true, y_score = [], []\n",
        "for Xb, yb in val_ds:\n",
        "    y_true.append(yb.numpy().ravel())\n",
        "    y_score.append(model.predict(Xb, verbose=0).ravel())\n",
        "y_true  = np.concatenate(y_true)\n",
        "y_score = np.concatenate(y_score)\n",
        "\n",
        "from sklearn.metrics import roc_curve, auc\n",
        "fpr, tpr, thr = roc_curve(y_true, y_score)\n",
        "best_idx = np.argmax(tpr - fpr)  # Youden J statistic\n",
        "best_thr = float(thr[best_idx])\n",
        "\n",
        "print(f\"Best threshold (Youden J): {best_thr:.3f}, Val AUC={auc(fpr,tpr):.3f}\")\n"
      ]
    },
    {
      "cell_type": "code",
      "execution_count": null,
      "id": "a50c98cd",
      "metadata": {
        "colab": {
          "base_uri": "https://localhost:8080/"
        },
        "id": "a50c98cd",
        "outputId": "e5c4473a-2552-4a25-9edb-51e1b9a0efd8"
      },
      "outputs": [
        {
          "output_type": "stream",
          "name": "stdout",
          "text": [
            "Confusion matrix:\n",
            " [[183  82]\n",
            " [ 16  63]]\n",
            "              precision    recall  f1-score   support\n",
            "\n",
            "         0.0      0.920     0.691     0.789       265\n",
            "         1.0      0.434     0.797     0.562        79\n",
            "\n",
            "    accuracy                          0.715       344\n",
            "   macro avg      0.677     0.744     0.676       344\n",
            "weighted avg      0.808     0.715     0.737       344\n",
            "\n",
            "Accuracy @best_thr: 0.7151162790697675\n"
          ]
        }
      ],
      "source": [
        "# === Cell 9: Optional Test-Time Augmentation (TTA) and Evaluation ===\n",
        "from sklearn.metrics import confusion_matrix, classification_report, accuracy_score\n",
        "\n",
        "def tta_predict(ds, n=5):\n",
        "    preds = []\n",
        "    for _ in range(n):\n",
        "        batch_preds = []\n",
        "        for Xb, _ in ds:\n",
        "            batch_preds.append(model.predict(Xb, verbose=0))\n",
        "        preds.append(np.concatenate(batch_preds).ravel())\n",
        "    return np.mean(np.stack(preds, axis=0), axis=0)\n",
        "\n",
        "use_tta = True\n",
        "if use_tta:\n",
        "    y_t = []\n",
        "    for _, yb in test_ds:\n",
        "        y_t.append(yb.numpy().ravel())\n",
        "    y_t = np.concatenate(y_t)\n",
        "    y_p = tta_predict(test_ds, n=5)\n",
        "else:\n",
        "    # if you want to evaluate on val with no TTA, reuse the arrays from Cell 8\n",
        "    y_t, y_p = y_true, y_score\n",
        "\n",
        "y_pred = (y_p >= best_thr).astype(int)\n",
        "\n",
        "cm = confusion_matrix(y_t, y_pred)\n",
        "print(\"Confusion matrix:\\n\", cm)\n",
        "print(classification_report(y_t, y_pred, digits=3))\n",
        "print(\"Accuracy @best_thr:\", accuracy_score(y_t, y_pred))\n"
      ]
    }
  ],
  "metadata": {
    "colab": {
      "provenance": []
    },
    "language_info": {
      "name": "python"
    },
    "kernelspec": {
      "name": "python3",
      "display_name": "Python 3"
    }
  },
  "nbformat": 4,
  "nbformat_minor": 5
}