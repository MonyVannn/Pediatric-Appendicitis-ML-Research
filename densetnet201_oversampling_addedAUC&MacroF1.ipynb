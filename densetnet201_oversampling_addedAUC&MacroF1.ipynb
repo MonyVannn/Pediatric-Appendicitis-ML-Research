{
  "cells": [
    {
      "cell_type": "code",
      "source": [
        "# Cell 0\n",
        "!pip -q install --upgrade tensorflow keras\n",
        "\n",
        "import os, numpy as np, pandas as pd, matplotlib.pyplot as plt, seaborn as sns\n",
        "import tensorflow as tf\n",
        "from tensorflow import keras\n",
        "from tensorflow.keras import layers\n",
        "from sklearn.model_selection import train_test_split\n",
        "\n",
        "np.random.seed(42); tf.random.set_seed(42)\n",
        "\n",
        "print(\"TF:\", tf.__version__)\n",
        "print(\"GPU:\", tf.config.list_physical_devices('GPU'))\n",
        "\n",
        "from google.colab import drive\n",
        "drive.mount('/content/drive')\n"
      ],
      "metadata": {
        "colab": {
          "base_uri": "https://localhost:8080/"
        },
        "id": "ToR6VvDJSHmL",
        "outputId": "23a07ff3-f04a-4784-a2ac-c9f87d655b79"
      },
      "id": "ToR6VvDJSHmL",
      "execution_count": 1,
      "outputs": [
        {
          "output_type": "stream",
          "name": "stdout",
          "text": [
            "\u001b[2K   \u001b[90m━━━━━━━━━━━━━━━━━━━━━━━━━━━━━━━━━━━━━━━━\u001b[0m \u001b[32m620.7/620.7 MB\u001b[0m \u001b[31m2.2 MB/s\u001b[0m eta \u001b[36m0:00:00\u001b[0m\n",
            "\u001b[2K   \u001b[90m━━━━━━━━━━━━━━━━━━━━━━━━━━━━━━━━━━━━━━━━\u001b[0m \u001b[32m1.4/1.4 MB\u001b[0m \u001b[31m37.1 MB/s\u001b[0m eta \u001b[36m0:00:00\u001b[0m\n",
            "\u001b[2K   \u001b[90m━━━━━━━━━━━━━━━━━━━━━━━━━━━━━━━━━━━━━━━━\u001b[0m \u001b[32m5.5/5.5 MB\u001b[0m \u001b[31m46.2 MB/s\u001b[0m eta \u001b[36m0:00:00\u001b[0m\n",
            "\u001b[?25h\u001b[31mERROR: pip's dependency resolver does not currently take into account all the packages that are installed. This behaviour is the source of the following dependency conflicts.\n",
            "tensorflow-text 2.19.0 requires tensorflow<2.20,>=2.19.0, but you have tensorflow 2.20.0 which is incompatible.\n",
            "tf-keras 2.19.0 requires tensorflow<2.20,>=2.19, but you have tensorflow 2.20.0 which is incompatible.\n",
            "tensorflow-decision-forests 1.12.0 requires tensorflow==2.19.0, but you have tensorflow 2.20.0 which is incompatible.\u001b[0m\u001b[31m\n",
            "\u001b[0mTF: 2.20.0\n",
            "GPU: [PhysicalDevice(name='/physical_device:GPU:0', device_type='GPU')]\n",
            "Mounted at /content/drive\n"
          ]
        }
      ]
    },
    {
      "cell_type": "code",
      "source": [
        "# Cell 1\n",
        "BASE_DIR = \"/content/drive/MyDrive/Images/Images\"\n",
        "POS_DIR  = os.path.join(BASE_DIR, \"Appendicitis_Images\")       # label 1\n",
        "NEG_DIR  = os.path.join(BASE_DIR, \"No_Appendicitis_Images\")    # label 0\n",
        "\n",
        "def list_images(d):\n",
        "    if not os.path.isdir(d): return []\n",
        "    exts = (\".bmp\",\".jpg\",\".jpeg\",\".png\")\n",
        "    return [os.path.join(d,f) for f in os.listdir(d) if f.lower().endswith(exts)]\n",
        "\n",
        "pos_files = sorted(list_images(POS_DIR))\n",
        "neg_files = sorted(list_images(NEG_DIR))\n",
        "\n",
        "print(\"pos:\", len(pos_files), \"| neg:\", len(neg_files))\n",
        "assert len(pos_files)+len(neg_files) > 0, \"No images found. Check paths.\"\n"
      ],
      "metadata": {
        "colab": {
          "base_uri": "https://localhost:8080/"
        },
        "id": "cB_3HCxNSHop",
        "outputId": "3b770f6a-0eb5-4ed9-d718-ebc7d87e5e81"
      },
      "id": "cB_3HCxNSHop",
      "execution_count": 2,
      "outputs": [
        {
          "output_type": "stream",
          "name": "stdout",
          "text": [
            "pos: 1339 | neg: 382\n"
          ]
        }
      ]
    },
    {
      "cell_type": "code",
      "source": [
        "# Cell 2\n",
        "all_files  = np.array(pos_files + neg_files)\n",
        "all_labels = np.array([1]*len(pos_files) + [0]*len(neg_files))\n",
        "\n",
        "X_train, X_temp, y_train, y_temp = train_test_split(\n",
        "    all_files, all_labels, test_size=0.30, random_state=42, stratify=all_labels\n",
        ")\n",
        "X_val, X_test, y_val, y_test = train_test_split(\n",
        "    X_temp, y_temp, test_size=0.50, random_state=42, stratify=y_temp\n",
        ")\n",
        "\n",
        "def bincount_info(y, name):\n",
        "    unique, counts = np.unique(y, return_counts=True)\n",
        "    d = dict(zip(unique, counts))\n",
        "    print(f\"{name} -> class0:{d.get(0,0)}  class1:{d.get(1,0)}  total:{len(y)}\")\n",
        "\n",
        "bincount_info(y_train, \"Train (before OS)\")\n",
        "bincount_info(y_val,   \"Val\")\n",
        "bincount_info(y_test,  \"Test\")\n"
      ],
      "metadata": {
        "colab": {
          "base_uri": "https://localhost:8080/"
        },
        "id": "HgxlX9IHSHrA",
        "outputId": "a0ceaf3b-357d-40b0-ac3e-7d895d54205f"
      },
      "id": "HgxlX9IHSHrA",
      "execution_count": 3,
      "outputs": [
        {
          "output_type": "stream",
          "name": "stdout",
          "text": [
            "Train (before OS) -> class0:267  class1:937  total:1204\n",
            "Val -> class0:57  class1:201  total:258\n",
            "Test -> class0:58  class1:201  total:259\n"
          ]
        }
      ]
    },
    {
      "cell_type": "code",
      "source": [
        "# Cell 3\n",
        "rng = np.random.default_rng(42)\n",
        "idx_pos = np.where(y_train == 1)[0]\n",
        "idx_neg = np.where(y_train == 0)[0]\n",
        "n_pos, n_neg = len(idx_pos), len(idx_neg)\n",
        "n_major = max(n_pos, n_neg)\n",
        "\n",
        "idx_pos_os = rng.choice(idx_pos, size=n_major, replace=True) if n_pos < n_major else idx_pos\n",
        "idx_neg_os = rng.choice(idx_neg, size=n_major, replace=True) if n_neg < n_major else idx_neg\n",
        "\n",
        "idx_os = np.concatenate([idx_pos_os, idx_neg_os])\n",
        "rng.shuffle(idx_os)\n",
        "\n",
        "X_train_os = X_train[idx_os]\n",
        "y_train_os = y_train[idx_os]\n",
        "\n",
        "bincount_info(y_train,    \"Train  (before OS)\")\n",
        "bincount_info(y_train_os, \"Train* (after  OS)\")\n"
      ],
      "metadata": {
        "colab": {
          "base_uri": "https://localhost:8080/"
        },
        "id": "9npAHCh_SHtB",
        "outputId": "e2ce74ee-5f4a-482c-98f1-fb80ca271fd3"
      },
      "id": "9npAHCh_SHtB",
      "execution_count": 4,
      "outputs": [
        {
          "output_type": "stream",
          "name": "stdout",
          "text": [
            "Train  (before OS) -> class0:267  class1:937  total:1204\n",
            "Train* (after  OS) -> class0:937  class1:937  total:1874\n"
          ]
        }
      ]
    },
    {
      "cell_type": "code",
      "source": [
        "# Cell 4\n",
        "IMG_SIZE = (224, 224)\n",
        "BATCH    = 16\n",
        "\n",
        "AUTOTUNE = tf.data.AUTOTUNE\n",
        "\n",
        "def parse_example(path, label):\n",
        "    img_bytes = tf.io.read_file(path)\n",
        "    img = tf.image.decode_image(img_bytes, channels=3, expand_animations=False)\n",
        "    img = tf.image.resize(img, IMG_SIZE)\n",
        "    img = tf.cast(img, tf.float32) / 255.0\n",
        "    label = tf.cast(label, tf.float32)\n",
        "    label = tf.reshape(label, [1])  # <- ensures (batch,1) later (fixes F1 2D requirement)\n",
        "    return img, label\n",
        "\n",
        "def make_ds(paths, labels, training=False):\n",
        "    ds = tf.data.Dataset.from_tensor_slices((paths, labels))\n",
        "    if training:\n",
        "        ds = ds.shuffle(buffer_size=min(len(paths), 2000), reshuffle_each_iteration=True)\n",
        "    ds = ds.map(parse_example, num_parallel_calls=AUTOTUNE)\n",
        "    ds = ds.batch(BATCH, drop_remainder=False)\n",
        "    ds = ds.prefetch(AUTOTUNE)   # no .cache() -> keeps RAM usage low\n",
        "    return ds\n",
        "\n",
        "train_ds = make_ds(X_train_os, y_train_os, training=True)\n",
        "val_ds   = make_ds(X_val,      y_val,      training=False)\n",
        "test_ds  = make_ds(X_test,     y_test,     training=False)\n",
        "\n",
        "for xb, yb in train_ds.take(1):\n",
        "    print(\"Batch shapes:\", xb.shape, yb.shape)\n"
      ],
      "metadata": {
        "colab": {
          "base_uri": "https://localhost:8080/"
        },
        "id": "YEgcHr6zSHvn",
        "outputId": "6683e198-568e-4155-83d6-46317f746d7a"
      },
      "id": "YEgcHr6zSHvn",
      "execution_count": 5,
      "outputs": [
        {
          "output_type": "stream",
          "name": "stdout",
          "text": [
            "Batch shapes: (16, 224, 224, 3) (16, 1)\n"
          ]
        }
      ]
    },
    {
      "cell_type": "code",
      "source": [
        "# Cell 5  (DenseNet201 instead of DenseNet201)\n",
        "from tensorflow.keras.applications import DenseNet201\n",
        "from keras.metrics import F1Score  # Keras 3 metric\n",
        "\n",
        "def build_model(input_shape=(224,224,3)):\n",
        "    base = DenseNet201(weights=\"imagenet\", include_top=False, input_shape=input_shape)\n",
        "    base.trainable = False\n",
        "    model = keras.Sequential([\n",
        "        layers.Input(shape=input_shape),\n",
        "        base,\n",
        "        layers.GlobalAveragePooling2D(),\n",
        "        layers.BatchNormalization(),\n",
        "        layers.Dense(512, activation='relu'),\n",
        "        layers.Dropout(0.5),\n",
        "        layers.Dense(256, activation='relu'),\n",
        "        layers.Dropout(0.3),\n",
        "        layers.Dense(1, activation='sigmoid')\n",
        "    ])\n",
        "    model.compile(\n",
        "        optimizer=keras.optimizers.Adam(1e-3),\n",
        "        loss=\"binary_crossentropy\",\n",
        "        metrics=[\n",
        "            \"accuracy\",\n",
        "            keras.metrics.Precision(name=\"precision\"),\n",
        "            keras.metrics.Recall(name=\"recall\"),\n",
        "            F1Score(name=\"f1\", threshold=0.5, average=\"micro\"),\n",
        "        ],\n",
        "    )\n",
        "    return model\n",
        "\n",
        "model = build_model()\n",
        "model.summary()\n"
      ],
      "metadata": {
        "colab": {
          "base_uri": "https://localhost:8080/",
          "height": 448
        },
        "id": "ef-cglqNSHyG",
        "outputId": "80220b83-5dd1-47ab-fb68-b36d0ed185df"
      },
      "id": "ef-cglqNSHyG",
      "execution_count": 6,
      "outputs": [
        {
          "output_type": "stream",
          "name": "stdout",
          "text": [
            "Downloading data from https://storage.googleapis.com/tensorflow/keras-applications/densenet/densenet201_weights_tf_dim_ordering_tf_kernels_notop.h5\n",
            "\u001b[1m74836368/74836368\u001b[0m \u001b[32m━━━━━━━━━━━━━━━━━━━━\u001b[0m\u001b[37m\u001b[0m \u001b[1m1s\u001b[0m 0us/step\n"
          ]
        },
        {
          "output_type": "display_data",
          "data": {
            "text/plain": [
              "\u001b[1mModel: \"sequential\"\u001b[0m\n"
            ],
            "text/html": [
              "<pre style=\"white-space:pre;overflow-x:auto;line-height:normal;font-family:Menlo,'DejaVu Sans Mono',consolas,'Courier New',monospace\"><span style=\"font-weight: bold\">Model: \"sequential\"</span>\n",
              "</pre>\n"
            ]
          },
          "metadata": {}
        },
        {
          "output_type": "display_data",
          "data": {
            "text/plain": [
              "┏━━━━━━━━━━━━━━━━━━━━━━━━━━━━━━━━━┳━━━━━━━━━━━━━━━━━━━━━━━━┳━━━━━━━━━━━━━━━┓\n",
              "┃\u001b[1m \u001b[0m\u001b[1mLayer (type)                   \u001b[0m\u001b[1m \u001b[0m┃\u001b[1m \u001b[0m\u001b[1mOutput Shape          \u001b[0m\u001b[1m \u001b[0m┃\u001b[1m \u001b[0m\u001b[1m      Param #\u001b[0m\u001b[1m \u001b[0m┃\n",
              "┡━━━━━━━━━━━━━━━━━━━━━━━━━━━━━━━━━╇━━━━━━━━━━━━━━━━━━━━━━━━╇━━━━━━━━━━━━━━━┩\n",
              "│ densenet201 (\u001b[38;5;33mFunctional\u001b[0m)        │ (\u001b[38;5;45mNone\u001b[0m, \u001b[38;5;34m7\u001b[0m, \u001b[38;5;34m7\u001b[0m, \u001b[38;5;34m1920\u001b[0m)     │    \u001b[38;5;34m18,321,984\u001b[0m │\n",
              "├─────────────────────────────────┼────────────────────────┼───────────────┤\n",
              "│ global_average_pooling2d        │ (\u001b[38;5;45mNone\u001b[0m, \u001b[38;5;34m1920\u001b[0m)           │             \u001b[38;5;34m0\u001b[0m │\n",
              "│ (\u001b[38;5;33mGlobalAveragePooling2D\u001b[0m)        │                        │               │\n",
              "├─────────────────────────────────┼────────────────────────┼───────────────┤\n",
              "│ batch_normalization             │ (\u001b[38;5;45mNone\u001b[0m, \u001b[38;5;34m1920\u001b[0m)           │         \u001b[38;5;34m7,680\u001b[0m │\n",
              "│ (\u001b[38;5;33mBatchNormalization\u001b[0m)            │                        │               │\n",
              "├─────────────────────────────────┼────────────────────────┼───────────────┤\n",
              "│ dense (\u001b[38;5;33mDense\u001b[0m)                   │ (\u001b[38;5;45mNone\u001b[0m, \u001b[38;5;34m512\u001b[0m)            │       \u001b[38;5;34m983,552\u001b[0m │\n",
              "├─────────────────────────────────┼────────────────────────┼───────────────┤\n",
              "│ dropout (\u001b[38;5;33mDropout\u001b[0m)               │ (\u001b[38;5;45mNone\u001b[0m, \u001b[38;5;34m512\u001b[0m)            │             \u001b[38;5;34m0\u001b[0m │\n",
              "├─────────────────────────────────┼────────────────────────┼───────────────┤\n",
              "│ dense_1 (\u001b[38;5;33mDense\u001b[0m)                 │ (\u001b[38;5;45mNone\u001b[0m, \u001b[38;5;34m256\u001b[0m)            │       \u001b[38;5;34m131,328\u001b[0m │\n",
              "├─────────────────────────────────┼────────────────────────┼───────────────┤\n",
              "│ dropout_1 (\u001b[38;5;33mDropout\u001b[0m)             │ (\u001b[38;5;45mNone\u001b[0m, \u001b[38;5;34m256\u001b[0m)            │             \u001b[38;5;34m0\u001b[0m │\n",
              "├─────────────────────────────────┼────────────────────────┼───────────────┤\n",
              "│ dense_2 (\u001b[38;5;33mDense\u001b[0m)                 │ (\u001b[38;5;45mNone\u001b[0m, \u001b[38;5;34m1\u001b[0m)              │           \u001b[38;5;34m257\u001b[0m │\n",
              "└─────────────────────────────────┴────────────────────────┴───────────────┘\n"
            ],
            "text/html": [
              "<pre style=\"white-space:pre;overflow-x:auto;line-height:normal;font-family:Menlo,'DejaVu Sans Mono',consolas,'Courier New',monospace\">┏━━━━━━━━━━━━━━━━━━━━━━━━━━━━━━━━━┳━━━━━━━━━━━━━━━━━━━━━━━━┳━━━━━━━━━━━━━━━┓\n",
              "┃<span style=\"font-weight: bold\"> Layer (type)                    </span>┃<span style=\"font-weight: bold\"> Output Shape           </span>┃<span style=\"font-weight: bold\">       Param # </span>┃\n",
              "┡━━━━━━━━━━━━━━━━━━━━━━━━━━━━━━━━━╇━━━━━━━━━━━━━━━━━━━━━━━━╇━━━━━━━━━━━━━━━┩\n",
              "│ densenet201 (<span style=\"color: #0087ff; text-decoration-color: #0087ff\">Functional</span>)        │ (<span style=\"color: #00d7ff; text-decoration-color: #00d7ff\">None</span>, <span style=\"color: #00af00; text-decoration-color: #00af00\">7</span>, <span style=\"color: #00af00; text-decoration-color: #00af00\">7</span>, <span style=\"color: #00af00; text-decoration-color: #00af00\">1920</span>)     │    <span style=\"color: #00af00; text-decoration-color: #00af00\">18,321,984</span> │\n",
              "├─────────────────────────────────┼────────────────────────┼───────────────┤\n",
              "│ global_average_pooling2d        │ (<span style=\"color: #00d7ff; text-decoration-color: #00d7ff\">None</span>, <span style=\"color: #00af00; text-decoration-color: #00af00\">1920</span>)           │             <span style=\"color: #00af00; text-decoration-color: #00af00\">0</span> │\n",
              "│ (<span style=\"color: #0087ff; text-decoration-color: #0087ff\">GlobalAveragePooling2D</span>)        │                        │               │\n",
              "├─────────────────────────────────┼────────────────────────┼───────────────┤\n",
              "│ batch_normalization             │ (<span style=\"color: #00d7ff; text-decoration-color: #00d7ff\">None</span>, <span style=\"color: #00af00; text-decoration-color: #00af00\">1920</span>)           │         <span style=\"color: #00af00; text-decoration-color: #00af00\">7,680</span> │\n",
              "│ (<span style=\"color: #0087ff; text-decoration-color: #0087ff\">BatchNormalization</span>)            │                        │               │\n",
              "├─────────────────────────────────┼────────────────────────┼───────────────┤\n",
              "│ dense (<span style=\"color: #0087ff; text-decoration-color: #0087ff\">Dense</span>)                   │ (<span style=\"color: #00d7ff; text-decoration-color: #00d7ff\">None</span>, <span style=\"color: #00af00; text-decoration-color: #00af00\">512</span>)            │       <span style=\"color: #00af00; text-decoration-color: #00af00\">983,552</span> │\n",
              "├─────────────────────────────────┼────────────────────────┼───────────────┤\n",
              "│ dropout (<span style=\"color: #0087ff; text-decoration-color: #0087ff\">Dropout</span>)               │ (<span style=\"color: #00d7ff; text-decoration-color: #00d7ff\">None</span>, <span style=\"color: #00af00; text-decoration-color: #00af00\">512</span>)            │             <span style=\"color: #00af00; text-decoration-color: #00af00\">0</span> │\n",
              "├─────────────────────────────────┼────────────────────────┼───────────────┤\n",
              "│ dense_1 (<span style=\"color: #0087ff; text-decoration-color: #0087ff\">Dense</span>)                 │ (<span style=\"color: #00d7ff; text-decoration-color: #00d7ff\">None</span>, <span style=\"color: #00af00; text-decoration-color: #00af00\">256</span>)            │       <span style=\"color: #00af00; text-decoration-color: #00af00\">131,328</span> │\n",
              "├─────────────────────────────────┼────────────────────────┼───────────────┤\n",
              "│ dropout_1 (<span style=\"color: #0087ff; text-decoration-color: #0087ff\">Dropout</span>)             │ (<span style=\"color: #00d7ff; text-decoration-color: #00d7ff\">None</span>, <span style=\"color: #00af00; text-decoration-color: #00af00\">256</span>)            │             <span style=\"color: #00af00; text-decoration-color: #00af00\">0</span> │\n",
              "├─────────────────────────────────┼────────────────────────┼───────────────┤\n",
              "│ dense_2 (<span style=\"color: #0087ff; text-decoration-color: #0087ff\">Dense</span>)                 │ (<span style=\"color: #00d7ff; text-decoration-color: #00d7ff\">None</span>, <span style=\"color: #00af00; text-decoration-color: #00af00\">1</span>)              │           <span style=\"color: #00af00; text-decoration-color: #00af00\">257</span> │\n",
              "└─────────────────────────────────┴────────────────────────┴───────────────┘\n",
              "</pre>\n"
            ]
          },
          "metadata": {}
        },
        {
          "output_type": "display_data",
          "data": {
            "text/plain": [
              "\u001b[1m Total params: \u001b[0m\u001b[38;5;34m19,444,801\u001b[0m (74.18 MB)\n"
            ],
            "text/html": [
              "<pre style=\"white-space:pre;overflow-x:auto;line-height:normal;font-family:Menlo,'DejaVu Sans Mono',consolas,'Courier New',monospace\"><span style=\"font-weight: bold\"> Total params: </span><span style=\"color: #00af00; text-decoration-color: #00af00\">19,444,801</span> (74.18 MB)\n",
              "</pre>\n"
            ]
          },
          "metadata": {}
        },
        {
          "output_type": "display_data",
          "data": {
            "text/plain": [
              "\u001b[1m Trainable params: \u001b[0m\u001b[38;5;34m1,118,977\u001b[0m (4.27 MB)\n"
            ],
            "text/html": [
              "<pre style=\"white-space:pre;overflow-x:auto;line-height:normal;font-family:Menlo,'DejaVu Sans Mono',consolas,'Courier New',monospace\"><span style=\"font-weight: bold\"> Trainable params: </span><span style=\"color: #00af00; text-decoration-color: #00af00\">1,118,977</span> (4.27 MB)\n",
              "</pre>\n"
            ]
          },
          "metadata": {}
        },
        {
          "output_type": "display_data",
          "data": {
            "text/plain": [
              "\u001b[1m Non-trainable params: \u001b[0m\u001b[38;5;34m18,325,824\u001b[0m (69.91 MB)\n"
            ],
            "text/html": [
              "<pre style=\"white-space:pre;overflow-x:auto;line-height:normal;font-family:Menlo,'DejaVu Sans Mono',consolas,'Courier New',monospace\"><span style=\"font-weight: bold\"> Non-trainable params: </span><span style=\"color: #00af00; text-decoration-color: #00af00\">18,325,824</span> (69.91 MB)\n",
              "</pre>\n"
            ]
          },
          "metadata": {}
        }
      ]
    },
    {
      "cell_type": "code",
      "source": [
        "# Cell 6\n",
        "from tensorflow.keras.callbacks import ReduceLROnPlateau, ModelCheckpoint\n",
        "\n",
        "callbacks_phase1 = [\n",
        "    ReduceLROnPlateau(monitor='val_loss', factor=0.5, patience=5, min_lr=1e-7, verbose=1),\n",
        "    ModelCheckpoint('best_phase1.keras', monitor='val_accuracy', mode='max', save_best_only=True, verbose=1)\n",
        "]\n"
      ],
      "metadata": {
        "id": "KkdgIUVxSH0Z"
      },
      "id": "KkdgIUVxSH0Z",
      "execution_count": 7,
      "outputs": []
    },
    {
      "cell_type": "code",
      "source": [
        "# Cell 7\n",
        "print(\"Starting Phase 1 (frozen backbone, oversampled train, NO augmentation)...\")\n",
        "hist1 = model.fit(\n",
        "    train_ds,\n",
        "    epochs=20,\n",
        "    validation_data=val_ds,\n",
        "    callbacks=callbacks_phase1,\n",
        "    verbose=1\n",
        ")\n",
        "print(\"Phase 1 done.\")\n"
      ],
      "metadata": {
        "colab": {
          "base_uri": "https://localhost:8080/"
        },
        "id": "pg5kPvYLSH2z",
        "outputId": "b8379bf4-32b9-4bfe-d5fb-4314749bd361"
      },
      "id": "pg5kPvYLSH2z",
      "execution_count": 8,
      "outputs": [
        {
          "output_type": "stream",
          "name": "stdout",
          "text": [
            "Starting Phase 1 (frozen backbone, oversampled train, NO augmentation)...\n",
            "Epoch 1/20\n",
            "\u001b[1m118/118\u001b[0m \u001b[32m━━━━━━━━━━━━━━━━━━━━\u001b[0m\u001b[37m\u001b[0m \u001b[1m0s\u001b[0m 2s/step - accuracy: 0.6176 - f1: 0.5936 - loss: 0.7823 - precision: 0.6127 - recall: 0.5762\n",
            "Epoch 1: val_accuracy improved from None to 0.75581, saving model to best_phase1.keras\n",
            "\u001b[1m118/118\u001b[0m \u001b[32m━━━━━━━━━━━━━━━━━━━━\u001b[0m\u001b[37m\u001b[0m \u001b[1m349s\u001b[0m 3s/step - accuracy: 0.6403 - f1: 0.6345 - loss: 0.7367 - precision: 0.6450 - recall: 0.6243 - val_accuracy: 0.7558 - val_f1: 0.8372 - val_loss: 0.5248 - val_precision: 0.8710 - val_recall: 0.8060 - learning_rate: 0.0010\n",
            "Epoch 2/20\n",
            "\u001b[1m117/118\u001b[0m \u001b[32m━━━━━━━━━━━━━━━━━━━\u001b[0m\u001b[37m━\u001b[0m \u001b[1m0s\u001b[0m 109ms/step - accuracy: 0.7504 - f1: 0.7531 - loss: 0.5381 - precision: 0.7526 - recall: 0.7547\n",
            "Epoch 2: val_accuracy did not improve from 0.75581\n",
            "\u001b[1m118/118\u001b[0m \u001b[32m━━━━━━━━━━━━━━━━━━━━\u001b[0m\u001b[37m\u001b[0m \u001b[1m15s\u001b[0m 125ms/step - accuracy: 0.7647 - f1: 0.7638 - loss: 0.5212 - precision: 0.7667 - recall: 0.7609 - val_accuracy: 0.7442 - val_f1: 0.8390 - val_loss: 0.4855 - val_precision: 0.8230 - val_recall: 0.8557 - learning_rate: 0.0010\n",
            "Epoch 3/20\n",
            "\u001b[1m117/118\u001b[0m \u001b[32m━━━━━━━━━━━━━━━━━━━\u001b[0m\u001b[37m━\u001b[0m \u001b[1m0s\u001b[0m 106ms/step - accuracy: 0.8120 - f1: 0.8050 - loss: 0.3982 - precision: 0.8360 - recall: 0.7774\n",
            "Epoch 3: val_accuracy improved from 0.75581 to 0.79845, saving model to best_phase1.keras\n",
            "\u001b[1m118/118\u001b[0m \u001b[32m━━━━━━━━━━━━━━━━━━━━\u001b[0m\u001b[37m\u001b[0m \u001b[1m16s\u001b[0m 134ms/step - accuracy: 0.8138 - f1: 0.8108 - loss: 0.4012 - precision: 0.8238 - recall: 0.7983 - val_accuracy: 0.7984 - val_f1: 0.8680 - val_loss: 0.4903 - val_precision: 0.8860 - val_recall: 0.8507 - learning_rate: 0.0010\n",
            "Epoch 4/20\n",
            "\u001b[1m117/118\u001b[0m \u001b[32m━━━━━━━━━━━━━━━━━━━\u001b[0m\u001b[37m━\u001b[0m \u001b[1m0s\u001b[0m 106ms/step - accuracy: 0.8508 - f1: 0.8460 - loss: 0.3553 - precision: 0.8552 - recall: 0.8375\n",
            "Epoch 4: val_accuracy did not improve from 0.79845\n",
            "\u001b[1m118/118\u001b[0m \u001b[32m━━━━━━━━━━━━━━━━━━━━\u001b[0m\u001b[37m\u001b[0m \u001b[1m19s\u001b[0m 118ms/step - accuracy: 0.8671 - f1: 0.8661 - loss: 0.3261 - precision: 0.8731 - recall: 0.8591 - val_accuracy: 0.7868 - val_f1: 0.8635 - val_loss: 0.5167 - val_precision: 0.8614 - val_recall: 0.8657 - learning_rate: 0.0010\n",
            "Epoch 5/20\n",
            "\u001b[1m117/118\u001b[0m \u001b[32m━━━━━━━━━━━━━━━━━━━\u001b[0m\u001b[37m━\u001b[0m \u001b[1m0s\u001b[0m 107ms/step - accuracy: 0.8640 - f1: 0.8641 - loss: 0.3574 - precision: 0.8725 - recall: 0.8561\n",
            "Epoch 5: val_accuracy did not improve from 0.79845\n",
            "\u001b[1m118/118\u001b[0m \u001b[32m━━━━━━━━━━━━━━━━━━━━\u001b[0m\u001b[37m\u001b[0m \u001b[1m22s\u001b[0m 129ms/step - accuracy: 0.8661 - f1: 0.8645 - loss: 0.3356 - precision: 0.8745 - recall: 0.8549 - val_accuracy: 0.7442 - val_f1: 0.8281 - val_loss: 0.5385 - val_precision: 0.8689 - val_recall: 0.7910 - learning_rate: 0.0010\n",
            "Epoch 6/20\n",
            "\u001b[1m117/118\u001b[0m \u001b[32m━━━━━━━━━━━━━━━━━━━\u001b[0m\u001b[37m━\u001b[0m \u001b[1m0s\u001b[0m 106ms/step - accuracy: 0.8961 - f1: 0.8947 - loss: 0.2384 - precision: 0.9010 - recall: 0.8886\n",
            "Epoch 6: val_accuracy did not improve from 0.79845\n",
            "\u001b[1m118/118\u001b[0m \u001b[32m━━━━━━━━━━━━━━━━━━━━\u001b[0m\u001b[37m\u001b[0m \u001b[1m14s\u001b[0m 119ms/step - accuracy: 0.8938 - f1: 0.8931 - loss: 0.2527 - precision: 0.8994 - recall: 0.8869 - val_accuracy: 0.7481 - val_f1: 0.8426 - val_loss: 0.5557 - val_precision: 0.8208 - val_recall: 0.8657 - learning_rate: 0.0010\n",
            "Epoch 7/20\n",
            "\u001b[1m117/118\u001b[0m \u001b[32m━━━━━━━━━━━━━━━━━━━\u001b[0m\u001b[37m━\u001b[0m \u001b[1m0s\u001b[0m 105ms/step - accuracy: 0.9294 - f1: 0.9266 - loss: 0.1839 - precision: 0.9355 - recall: 0.9194\n",
            "Epoch 7: ReduceLROnPlateau reducing learning rate to 0.0005000000237487257.\n",
            "\n",
            "Epoch 7: val_accuracy did not improve from 0.79845\n",
            "\u001b[1m118/118\u001b[0m \u001b[32m━━━━━━━━━━━━━━━━━━━━\u001b[0m\u001b[37m\u001b[0m \u001b[1m21s\u001b[0m 127ms/step - accuracy: 0.9242 - f1: 0.9239 - loss: 0.1966 - precision: 0.9279 - recall: 0.9200 - val_accuracy: 0.7481 - val_f1: 0.8456 - val_loss: 0.6108 - val_precision: 0.8091 - val_recall: 0.8856 - learning_rate: 0.0010\n",
            "Epoch 8/20\n",
            "\u001b[1m117/118\u001b[0m \u001b[32m━━━━━━━━━━━━━━━━━━━\u001b[0m\u001b[37m━\u001b[0m \u001b[1m0s\u001b[0m 108ms/step - accuracy: 0.9445 - f1: 0.9437 - loss: 0.1368 - precision: 0.9478 - recall: 0.9398\n",
            "Epoch 8: val_accuracy did not improve from 0.79845\n",
            "\u001b[1m118/118\u001b[0m \u001b[32m━━━━━━━━━━━━━━━━━━━━\u001b[0m\u001b[37m\u001b[0m \u001b[1m15s\u001b[0m 129ms/step - accuracy: 0.9370 - f1: 0.9368 - loss: 0.1488 - precision: 0.9408 - recall: 0.9328 - val_accuracy: 0.7829 - val_f1: 0.8614 - val_loss: 0.6276 - val_precision: 0.8571 - val_recall: 0.8657 - learning_rate: 5.0000e-04\n",
            "Epoch 9/20\n",
            "\u001b[1m117/118\u001b[0m \u001b[32m━━━━━━━━━━━━━━━━━━━\u001b[0m\u001b[37m━\u001b[0m \u001b[1m0s\u001b[0m 104ms/step - accuracy: 0.9494 - f1: 0.9509 - loss: 0.1368 - precision: 0.9564 - recall: 0.9459\n",
            "Epoch 9: val_accuracy did not improve from 0.79845\n",
            "\u001b[1m118/118\u001b[0m \u001b[32m━━━━━━━━━━━━━━━━━━━━\u001b[0m\u001b[37m\u001b[0m \u001b[1m19s\u001b[0m 116ms/step - accuracy: 0.9546 - f1: 0.9546 - loss: 0.1253 - precision: 0.9561 - recall: 0.9530 - val_accuracy: 0.7519 - val_f1: 0.8384 - val_loss: 0.6331 - val_precision: 0.8513 - val_recall: 0.8259 - learning_rate: 5.0000e-04\n",
            "Epoch 10/20\n",
            "\u001b[1m117/118\u001b[0m \u001b[32m━━━━━━━━━━━━━━━━━━━\u001b[0m\u001b[37m━\u001b[0m \u001b[1m0s\u001b[0m 110ms/step - accuracy: 0.9583 - f1: 0.9579 - loss: 0.1179 - precision: 0.9665 - recall: 0.9497\n",
            "Epoch 10: val_accuracy did not improve from 0.79845\n",
            "\u001b[1m118/118\u001b[0m \u001b[32m━━━━━━━━━━━━━━━━━━━━\u001b[0m\u001b[37m\u001b[0m \u001b[1m22s\u001b[0m 132ms/step - accuracy: 0.9621 - f1: 0.9620 - loss: 0.1085 - precision: 0.9646 - recall: 0.9594 - val_accuracy: 0.7829 - val_f1: 0.8600 - val_loss: 0.6971 - val_precision: 0.8643 - val_recall: 0.8557 - learning_rate: 5.0000e-04\n",
            "Epoch 11/20\n",
            "\u001b[1m117/118\u001b[0m \u001b[32m━━━━━━━━━━━━━━━━━━━\u001b[0m\u001b[37m━\u001b[0m \u001b[1m0s\u001b[0m 111ms/step - accuracy: 0.9686 - f1: 0.9686 - loss: 0.0896 - precision: 0.9769 - recall: 0.9606\n",
            "Epoch 11: val_accuracy did not improve from 0.79845\n",
            "\u001b[1m118/118\u001b[0m \u001b[32m━━━━━━━━━━━━━━━━━━━━\u001b[0m\u001b[37m\u001b[0m \u001b[1m15s\u001b[0m 123ms/step - accuracy: 0.9685 - f1: 0.9684 - loss: 0.0884 - precision: 0.9731 - recall: 0.9637 - val_accuracy: 0.7519 - val_f1: 0.8431 - val_loss: 0.7124 - val_precision: 0.8309 - val_recall: 0.8557 - learning_rate: 5.0000e-04\n",
            "Epoch 12/20\n",
            "\u001b[1m117/118\u001b[0m \u001b[32m━━━━━━━━━━━━━━━━━━━\u001b[0m\u001b[37m━\u001b[0m \u001b[1m0s\u001b[0m 106ms/step - accuracy: 0.9580 - f1: 0.9585 - loss: 0.1202 - precision: 0.9606 - recall: 0.9566\n",
            "Epoch 12: ReduceLROnPlateau reducing learning rate to 0.0002500000118743628.\n",
            "\n",
            "Epoch 12: val_accuracy did not improve from 0.79845\n",
            "\u001b[1m118/118\u001b[0m \u001b[32m━━━━━━━━━━━━━━━━━━━━\u001b[0m\u001b[37m\u001b[0m \u001b[1m20s\u001b[0m 118ms/step - accuracy: 0.9562 - f1: 0.9561 - loss: 0.1139 - precision: 0.9582 - recall: 0.9541 - val_accuracy: 0.7752 - val_f1: 0.8592 - val_loss: 0.7262 - val_precision: 0.8389 - val_recall: 0.8806 - learning_rate: 5.0000e-04\n",
            "Epoch 13/20\n",
            "\u001b[1m117/118\u001b[0m \u001b[32m━━━━━━━━━━━━━━━━━━━\u001b[0m\u001b[37m━\u001b[0m \u001b[1m0s\u001b[0m 105ms/step - accuracy: 0.9729 - f1: 0.9740 - loss: 0.0729 - precision: 0.9810 - recall: 0.9672\n",
            "Epoch 13: val_accuracy did not improve from 0.79845\n",
            "\u001b[1m118/118\u001b[0m \u001b[32m━━━━━━━━━━━━━━━━━━━━\u001b[0m\u001b[37m\u001b[0m \u001b[1m21s\u001b[0m 127ms/step - accuracy: 0.9765 - f1: 0.9764 - loss: 0.0666 - precision: 0.9806 - recall: 0.9723 - val_accuracy: 0.7713 - val_f1: 0.8550 - val_loss: 0.7462 - val_precision: 0.8447 - val_recall: 0.8657 - learning_rate: 2.5000e-04\n",
            "Epoch 14/20\n",
            "\u001b[1m117/118\u001b[0m \u001b[32m━━━━━━━━━━━━━━━━━━━\u001b[0m\u001b[37m━\u001b[0m \u001b[1m0s\u001b[0m 104ms/step - accuracy: 0.9822 - f1: 0.9824 - loss: 0.0569 - precision: 0.9898 - recall: 0.9751\n",
            "Epoch 14: val_accuracy did not improve from 0.79845\n",
            "\u001b[1m118/118\u001b[0m \u001b[32m━━━━━━━━━━━━━━━━━━━━\u001b[0m\u001b[37m\u001b[0m \u001b[1m15s\u001b[0m 123ms/step - accuracy: 0.9797 - f1: 0.9796 - loss: 0.0600 - precision: 0.9859 - recall: 0.9733 - val_accuracy: 0.7713 - val_f1: 0.8612 - val_loss: 0.7979 - val_precision: 0.8170 - val_recall: 0.9104 - learning_rate: 2.5000e-04\n",
            "Epoch 15/20\n",
            "\u001b[1m117/118\u001b[0m \u001b[32m━━━━━━━━━━━━━━━━━━━\u001b[0m\u001b[37m━\u001b[0m \u001b[1m0s\u001b[0m 108ms/step - accuracy: 0.9780 - f1: 0.9780 - loss: 0.0537 - precision: 0.9729 - recall: 0.9832\n",
            "Epoch 15: val_accuracy did not improve from 0.79845\n",
            "\u001b[1m118/118\u001b[0m \u001b[32m━━━━━━━━━━━━━━━━━━━━\u001b[0m\u001b[37m\u001b[0m \u001b[1m20s\u001b[0m 120ms/step - accuracy: 0.9829 - f1: 0.9830 - loss: 0.0490 - precision: 0.9809 - recall: 0.9851 - val_accuracy: 0.7984 - val_f1: 0.8744 - val_loss: 0.7597 - val_precision: 0.8498 - val_recall: 0.9005 - learning_rate: 2.5000e-04\n",
            "Epoch 16/20\n",
            "\u001b[1m117/118\u001b[0m \u001b[32m━━━━━━━━━━━━━━━━━━━\u001b[0m\u001b[37m━\u001b[0m \u001b[1m0s\u001b[0m 107ms/step - accuracy: 0.9845 - f1: 0.9845 - loss: 0.0565 - precision: 0.9854 - recall: 0.9837\n",
            "Epoch 16: val_accuracy did not improve from 0.79845\n",
            "\u001b[1m118/118\u001b[0m \u001b[32m━━━━━━━━━━━━━━━━━━━━\u001b[0m\u001b[37m\u001b[0m \u001b[1m15s\u001b[0m 129ms/step - accuracy: 0.9883 - f1: 0.9883 - loss: 0.0459 - precision: 0.9872 - recall: 0.9893 - val_accuracy: 0.7791 - val_f1: 0.8613 - val_loss: 0.7947 - val_precision: 0.8429 - val_recall: 0.8806 - learning_rate: 2.5000e-04\n",
            "Epoch 17/20\n",
            "\u001b[1m117/118\u001b[0m \u001b[32m━━━━━━━━━━━━━━━━━━━\u001b[0m\u001b[37m━\u001b[0m \u001b[1m0s\u001b[0m 108ms/step - accuracy: 0.9840 - f1: 0.9843 - loss: 0.0465 - precision: 0.9917 - recall: 0.9770\n",
            "Epoch 17: ReduceLROnPlateau reducing learning rate to 0.0001250000059371814.\n",
            "\n",
            "Epoch 17: val_accuracy improved from 0.79845 to 0.80233, saving model to best_phase1.keras\n",
            "\u001b[1m118/118\u001b[0m \u001b[32m━━━━━━━━━━━━━━━━━━━━\u001b[0m\u001b[37m\u001b[0m \u001b[1m16s\u001b[0m 139ms/step - accuracy: 0.9845 - f1: 0.9845 - loss: 0.0477 - precision: 0.9882 - recall: 0.9808 - val_accuracy: 0.8023 - val_f1: 0.8771 - val_loss: 0.7569 - val_precision: 0.8505 - val_recall: 0.9055 - learning_rate: 2.5000e-04\n",
            "Epoch 18/20\n",
            "\u001b[1m117/118\u001b[0m \u001b[32m━━━━━━━━━━━━━━━━━━━\u001b[0m\u001b[37m━\u001b[0m \u001b[1m0s\u001b[0m 107ms/step - accuracy: 0.9855 - f1: 0.9858 - loss: 0.0412 - precision: 0.9923 - recall: 0.9796\n",
            "Epoch 18: val_accuracy did not improve from 0.80233\n",
            "\u001b[1m118/118\u001b[0m \u001b[32m━━━━━━━━━━━━━━━━━━━━\u001b[0m\u001b[37m\u001b[0m \u001b[1m18s\u001b[0m 118ms/step - accuracy: 0.9883 - f1: 0.9882 - loss: 0.0371 - precision: 0.9925 - recall: 0.9840 - val_accuracy: 0.7868 - val_f1: 0.8687 - val_loss: 0.8237 - val_precision: 0.8349 - val_recall: 0.9055 - learning_rate: 1.2500e-04\n",
            "Epoch 19/20\n",
            "\u001b[1m117/118\u001b[0m \u001b[32m━━━━━━━━━━━━━━━━━━━\u001b[0m\u001b[37m━\u001b[0m \u001b[1m0s\u001b[0m 110ms/step - accuracy: 0.9924 - f1: 0.9923 - loss: 0.0258 - precision: 0.9917 - recall: 0.9929\n",
            "Epoch 19: val_accuracy did not improve from 0.80233\n",
            "\u001b[1m118/118\u001b[0m \u001b[32m━━━━━━━━━━━━━━━━━━━━\u001b[0m\u001b[37m\u001b[0m \u001b[1m15s\u001b[0m 131ms/step - accuracy: 0.9893 - f1: 0.9893 - loss: 0.0315 - precision: 0.9893 - recall: 0.9893 - val_accuracy: 0.7907 - val_f1: 0.8714 - val_loss: 0.8456 - val_precision: 0.8356 - val_recall: 0.9104 - learning_rate: 1.2500e-04\n",
            "Epoch 20/20\n",
            "\u001b[1m117/118\u001b[0m \u001b[32m━━━━━━━━━━━━━━━━━━━\u001b[0m\u001b[37m━\u001b[0m \u001b[1m0s\u001b[0m 99ms/step - accuracy: 0.9893 - f1: 0.9888 - loss: 0.0260 - precision: 0.9890 - recall: 0.9886\n",
            "Epoch 20: val_accuracy did not improve from 0.80233\n",
            "\u001b[1m118/118\u001b[0m \u001b[32m━━━━━━━━━━━━━━━━━━━━\u001b[0m\u001b[37m\u001b[0m \u001b[1m19s\u001b[0m 121ms/step - accuracy: 0.9899 - f1: 0.9899 - loss: 0.0296 - precision: 0.9893 - recall: 0.9904 - val_accuracy: 0.7791 - val_f1: 0.8620 - val_loss: 0.8248 - val_precision: 0.8396 - val_recall: 0.8856 - learning_rate: 1.2500e-04\n",
            "Phase 1 done.\n"
          ]
        }
      ]
    },
    {
      "cell_type": "code",
      "source": [
        "# === Cell 8 (fixed): Unfreeze tail & recompile ===\n",
        "from keras.metrics import F1Score\n",
        "from tensorflow.keras.callbacks import ReduceLROnPlateau, ModelCheckpoint\n",
        "\n",
        "# 1) Grab the backbone safely\n",
        "try:\n",
        "    base_model = model.layers[0]  # In your Sequential, index 0 is DenseNet201 backbone\n",
        "except Exception as e:\n",
        "    # Fallback: search by name (denseNet/efficientNet/etc.)\n",
        "    base_model = None\n",
        "    for lyr in model.layers:\n",
        "        if hasattr(lyr, \"layers\") and (\"densenet\" in lyr.name.lower() or \"efficientnet\" in lyr.name.lower()):\n",
        "            base_model = lyr\n",
        "            break\n",
        "    if base_model is None:\n",
        "        raise RuntimeError(\"Backbone not found. Inspect model.layers to locate the base CNN.\") from e\n",
        "\n",
        "print(\"Backbone:\", base_model.name, \"| inner layers:\", len(getattr(base_model, \"layers\", [])))\n",
        "\n",
        "# 2) Unfreeze the last N layers of the backbone\n",
        "unfreeze_last = 4  # tweak as you like\n",
        "for lyr in base_model.layers[:-unfreeze_last]:\n",
        "    lyr.trainable = False\n",
        "for lyr in base_model.layers[-unfreeze_last:]:\n",
        "    lyr.trainable = True\n",
        "\n",
        "# 3) Recompile\n",
        "model.compile(\n",
        "    optimizer=keras.optimizers.Adam(1e-4),\n",
        "    loss=\"binary_crossentropy\",\n",
        "    metrics=[\n",
        "        \"accuracy\",\n",
        "        keras.metrics.Precision(name=\"precision\"),\n",
        "        keras.metrics.Recall(name=\"recall\"),\n",
        "        F1Score(name=\"f1\", threshold=0.5, average=\"micro\"),\n",
        "    ],\n",
        ")\n",
        "\n",
        "# 4) Callbacks for phase 2\n",
        "callbacks_phase2 = [\n",
        "    ReduceLROnPlateau(monitor='val_loss', factor=0.5, patience=3, min_lr=1e-8, verbose=1),\n",
        "    ModelCheckpoint('best_phase2.keras', monitor='val_accuracy', mode='max', save_best_only=True, verbose=1)\n",
        "]\n",
        "\n",
        "print(\"Fine-tuning setup complete. Base trainable tail:\", sum(int(l.trainable) for l in base_model.layers), \"of\", len(base_model.layers))\n"
      ],
      "metadata": {
        "colab": {
          "base_uri": "https://localhost:8080/"
        },
        "id": "QgcgqUq8SH5G",
        "outputId": "b794e6bb-72ff-49e4-dce3-c53012b7e1c9"
      },
      "id": "QgcgqUq8SH5G",
      "execution_count": 9,
      "outputs": [
        {
          "output_type": "stream",
          "name": "stdout",
          "text": [
            "Backbone: densenet201 | inner layers: 707\n",
            "Fine-tuning setup complete. Base trainable tail: 4 of 707\n"
          ]
        }
      ]
    },
    {
      "cell_type": "code",
      "source": [
        "# Cell 9\n",
        "print(\"Starting Phase 2 (fine-tuning tail, oversampled train, NO augmentation)...\")\n",
        "hist2 = model.fit(\n",
        "    train_ds,\n",
        "    epochs=15,\n",
        "    validation_data=val_ds,\n",
        "    callbacks=callbacks_phase2,\n",
        "    verbose=1\n",
        ")\n",
        "print(\"Phase 2 done.\")\n"
      ],
      "metadata": {
        "colab": {
          "base_uri": "https://localhost:8080/"
        },
        "id": "iZGBnEE0SH7W",
        "outputId": "80eabcbe-a8ba-4276-c0c8-6d190e19393a"
      },
      "id": "iZGBnEE0SH7W",
      "execution_count": 10,
      "outputs": [
        {
          "output_type": "stream",
          "name": "stdout",
          "text": [
            "Starting Phase 2 (fine-tuning tail, oversampled train, NO augmentation)...\n",
            "Epoch 1/15\n",
            "\u001b[1m118/118\u001b[0m \u001b[32m━━━━━━━━━━━━━━━━━━━━\u001b[0m\u001b[37m\u001b[0m \u001b[1m0s\u001b[0m 315ms/step - accuracy: 0.9884 - f1: 0.9882 - loss: 0.0445 - precision: 0.9908 - recall: 0.9857\n",
            "Epoch 1: val_accuracy improved from None to 0.74806, saving model to best_phase2.keras\n",
            "\u001b[1m118/118\u001b[0m \u001b[32m━━━━━━━━━━━━━━━━━━━━\u001b[0m\u001b[37m\u001b[0m \u001b[1m130s\u001b[0m 707ms/step - accuracy: 0.9888 - f1: 0.9888 - loss: 0.0409 - precision: 0.9925 - recall: 0.9851 - val_accuracy: 0.7481 - val_f1: 0.8303 - val_loss: 0.9024 - val_precision: 0.8736 - val_recall: 0.7910 - learning_rate: 1.0000e-04\n",
            "Epoch 2/15\n",
            "\u001b[1m117/118\u001b[0m \u001b[32m━━━━━━━━━━━━━━━━━━━\u001b[0m\u001b[37m━\u001b[0m \u001b[1m0s\u001b[0m 109ms/step - accuracy: 0.9907 - f1: 0.9905 - loss: 0.0264 - precision: 0.9922 - recall: 0.9889\n",
            "Epoch 2: val_accuracy improved from 0.74806 to 0.76744, saving model to best_phase2.keras\n",
            "\u001b[1m118/118\u001b[0m \u001b[32m━━━━━━━━━━━━━━━━━━━━\u001b[0m\u001b[37m\u001b[0m \u001b[1m17s\u001b[0m 141ms/step - accuracy: 0.9893 - f1: 0.9893 - loss: 0.0336 - precision: 0.9914 - recall: 0.9872 - val_accuracy: 0.7674 - val_f1: 0.8551 - val_loss: 0.8754 - val_precision: 0.8310 - val_recall: 0.8806 - learning_rate: 1.0000e-04\n",
            "Epoch 3/15\n",
            "\u001b[1m117/118\u001b[0m \u001b[32m━━━━━━━━━━━━━━━━━━━\u001b[0m\u001b[37m━\u001b[0m \u001b[1m0s\u001b[0m 108ms/step - accuracy: 0.9910 - f1: 0.9910 - loss: 0.0280 - precision: 0.9902 - recall: 0.9920\n",
            "Epoch 3: val_accuracy improved from 0.76744 to 0.78295, saving model to best_phase2.keras\n",
            "\u001b[1m118/118\u001b[0m \u001b[32m━━━━━━━━━━━━━━━━━━━━\u001b[0m\u001b[37m\u001b[0m \u001b[1m17s\u001b[0m 146ms/step - accuracy: 0.9904 - f1: 0.9904 - loss: 0.0380 - precision: 0.9914 - recall: 0.9893 - val_accuracy: 0.7829 - val_f1: 0.8641 - val_loss: 0.8775 - val_precision: 0.8436 - val_recall: 0.8856 - learning_rate: 1.0000e-04\n",
            "Epoch 4/15\n",
            "\u001b[1m117/118\u001b[0m \u001b[32m━━━━━━━━━━━━━━━━━━━\u001b[0m\u001b[37m━\u001b[0m \u001b[1m0s\u001b[0m 134ms/step - accuracy: 0.9915 - f1: 0.9914 - loss: 0.0286 - precision: 0.9914 - recall: 0.9914\n",
            "Epoch 4: val_accuracy did not improve from 0.78295\n",
            "\u001b[1m118/118\u001b[0m \u001b[32m━━━━━━━━━━━━━━━━━━━━\u001b[0m\u001b[37m\u001b[0m \u001b[1m17s\u001b[0m 146ms/step - accuracy: 0.9909 - f1: 0.9909 - loss: 0.0279 - precision: 0.9936 - recall: 0.9883 - val_accuracy: 0.7829 - val_f1: 0.8679 - val_loss: 0.9611 - val_precision: 0.8251 - val_recall: 0.9154 - learning_rate: 1.0000e-04\n",
            "Epoch 5/15\n",
            "\u001b[1m117/118\u001b[0m \u001b[32m━━━━━━━━━━━━━━━━━━━\u001b[0m\u001b[37m━\u001b[0m \u001b[1m0s\u001b[0m 109ms/step - accuracy: 0.9933 - f1: 0.9932 - loss: 0.0204 - precision: 0.9882 - recall: 0.9983\n",
            "Epoch 5: ReduceLROnPlateau reducing learning rate to 4.999999873689376e-05.\n",
            "\n",
            "Epoch 5: val_accuracy improved from 0.78295 to 0.78682, saving model to best_phase2.keras\n",
            "\u001b[1m118/118\u001b[0m \u001b[32m━━━━━━━━━━━━━━━━━━━━\u001b[0m\u001b[37m\u001b[0m \u001b[1m20s\u001b[0m 138ms/step - accuracy: 0.9904 - f1: 0.9904 - loss: 0.0253 - precision: 0.9904 - recall: 0.9904 - val_accuracy: 0.7868 - val_f1: 0.8694 - val_loss: 0.9923 - val_precision: 0.8318 - val_recall: 0.9104 - learning_rate: 1.0000e-04\n",
            "Epoch 6/15\n",
            "\u001b[1m117/118\u001b[0m \u001b[32m━━━━━━━━━━━━━━━━━━━\u001b[0m\u001b[37m━\u001b[0m \u001b[1m0s\u001b[0m 108ms/step - accuracy: 0.9939 - f1: 0.9942 - loss: 0.0259 - precision: 0.9954 - recall: 0.9929\n",
            "Epoch 6: val_accuracy improved from 0.78682 to 0.80233, saving model to best_phase2.keras\n",
            "\u001b[1m118/118\u001b[0m \u001b[32m━━━━━━━━━━━━━━━━━━━━\u001b[0m\u001b[37m\u001b[0m \u001b[1m18s\u001b[0m 146ms/step - accuracy: 0.9936 - f1: 0.9936 - loss: 0.0247 - precision: 0.9936 - recall: 0.9936 - val_accuracy: 0.8023 - val_f1: 0.8800 - val_loss: 0.9871 - val_precision: 0.8348 - val_recall: 0.9303 - learning_rate: 5.0000e-05\n",
            "Epoch 7/15\n",
            "\u001b[1m117/118\u001b[0m \u001b[32m━━━━━━━━━━━━━━━━━━━\u001b[0m\u001b[37m━\u001b[0m \u001b[1m0s\u001b[0m 110ms/step - accuracy: 0.9952 - f1: 0.9951 - loss: 0.0151 - precision: 0.9948 - recall: 0.9954\n",
            "Epoch 7: val_accuracy did not improve from 0.80233\n",
            "\u001b[1m118/118\u001b[0m \u001b[32m━━━━━━━━━━━━━━━━━━━━\u001b[0m\u001b[37m\u001b[0m \u001b[1m17s\u001b[0m 122ms/step - accuracy: 0.9931 - f1: 0.9930 - loss: 0.0173 - precision: 0.9968 - recall: 0.9893 - val_accuracy: 0.7946 - val_f1: 0.8747 - val_loss: 0.9763 - val_precision: 0.8333 - val_recall: 0.9204 - learning_rate: 5.0000e-05\n",
            "Epoch 8/15\n",
            "\u001b[1m117/118\u001b[0m \u001b[32m━━━━━━━━━━━━━━━━━━━\u001b[0m\u001b[37m━\u001b[0m \u001b[1m0s\u001b[0m 109ms/step - accuracy: 0.9946 - f1: 0.9944 - loss: 0.0201 - precision: 0.9952 - recall: 0.9936\n",
            "Epoch 8: ReduceLROnPlateau reducing learning rate to 2.499999936844688e-05.\n",
            "\n",
            "Epoch 8: val_accuracy did not improve from 0.80233\n",
            "\u001b[1m118/118\u001b[0m \u001b[32m━━━━━━━━━━━━━━━━━━━━\u001b[0m\u001b[37m\u001b[0m \u001b[1m21s\u001b[0m 131ms/step - accuracy: 0.9925 - f1: 0.9925 - loss: 0.0261 - precision: 0.9936 - recall: 0.9915 - val_accuracy: 0.8023 - val_f1: 0.8800 - val_loss: 0.9653 - val_precision: 0.8348 - val_recall: 0.9303 - learning_rate: 5.0000e-05\n",
            "Epoch 9/15\n",
            "\u001b[1m117/118\u001b[0m \u001b[32m━━━━━━━━━━━━━━━━━━━\u001b[0m\u001b[37m━\u001b[0m \u001b[1m0s\u001b[0m 113ms/step - accuracy: 0.9948 - f1: 0.9949 - loss: 0.0231 - precision: 0.9951 - recall: 0.9946\n",
            "Epoch 9: val_accuracy did not improve from 0.80233\n",
            "\u001b[1m118/118\u001b[0m \u001b[32m━━━━━━━━━━━━━━━━━━━━\u001b[0m\u001b[37m\u001b[0m \u001b[1m15s\u001b[0m 125ms/step - accuracy: 0.9947 - f1: 0.9947 - loss: 0.0216 - precision: 0.9947 - recall: 0.9947 - val_accuracy: 0.7984 - val_f1: 0.8774 - val_loss: 0.9700 - val_precision: 0.8341 - val_recall: 0.9254 - learning_rate: 2.5000e-05\n",
            "Epoch 10/15\n",
            "\u001b[1m117/118\u001b[0m \u001b[32m━━━━━━━━━━━━━━━━━━━\u001b[0m\u001b[37m━\u001b[0m \u001b[1m0s\u001b[0m 111ms/step - accuracy: 0.9941 - f1: 0.9941 - loss: 0.0190 - precision: 0.9947 - recall: 0.9934\n",
            "Epoch 10: val_accuracy did not improve from 0.80233\n",
            "\u001b[1m118/118\u001b[0m \u001b[32m━━━━━━━━━━━━━━━━━━━━\u001b[0m\u001b[37m\u001b[0m \u001b[1m15s\u001b[0m 124ms/step - accuracy: 0.9925 - f1: 0.9925 - loss: 0.0246 - precision: 0.9936 - recall: 0.9915 - val_accuracy: 0.7984 - val_f1: 0.8768 - val_loss: 0.9590 - val_precision: 0.8371 - val_recall: 0.9204 - learning_rate: 2.5000e-05\n",
            "Epoch 11/15\n",
            "\u001b[1m117/118\u001b[0m \u001b[32m━━━━━━━━━━━━━━━━━━━\u001b[0m\u001b[37m━\u001b[0m \u001b[1m0s\u001b[0m 111ms/step - accuracy: 0.9946 - f1: 0.9948 - loss: 0.0198 - precision: 0.9960 - recall: 0.9936\n",
            "Epoch 11: ReduceLROnPlateau reducing learning rate to 1.249999968422344e-05.\n",
            "\n",
            "Epoch 11: val_accuracy did not improve from 0.80233\n",
            "\u001b[1m118/118\u001b[0m \u001b[32m━━━━━━━━━━━━━━━━━━━━\u001b[0m\u001b[37m\u001b[0m \u001b[1m15s\u001b[0m 123ms/step - accuracy: 0.9947 - f1: 0.9947 - loss: 0.0194 - precision: 0.9936 - recall: 0.9957 - val_accuracy: 0.8023 - val_f1: 0.8794 - val_loss: 0.9467 - val_precision: 0.8378 - val_recall: 0.9254 - learning_rate: 2.5000e-05\n",
            "Epoch 12/15\n",
            "\u001b[1m117/118\u001b[0m \u001b[32m━━━━━━━━━━━━━━━━━━━\u001b[0m\u001b[37m━\u001b[0m \u001b[1m0s\u001b[0m 106ms/step - accuracy: 0.9912 - f1: 0.9914 - loss: 0.0213 - precision: 0.9950 - recall: 0.9878\n",
            "Epoch 12: val_accuracy did not improve from 0.80233\n",
            "\u001b[1m118/118\u001b[0m \u001b[32m━━━━━━━━━━━━━━━━━━━━\u001b[0m\u001b[37m\u001b[0m \u001b[1m21s\u001b[0m 124ms/step - accuracy: 0.9909 - f1: 0.9909 - loss: 0.0241 - precision: 0.9925 - recall: 0.9893 - val_accuracy: 0.7984 - val_f1: 0.8774 - val_loss: 0.9470 - val_precision: 0.8341 - val_recall: 0.9254 - learning_rate: 1.2500e-05\n",
            "Epoch 13/15\n",
            "\u001b[1m117/118\u001b[0m \u001b[32m━━━━━━━━━━━━━━━━━━━\u001b[0m\u001b[37m━\u001b[0m \u001b[1m0s\u001b[0m 112ms/step - accuracy: 0.9968 - f1: 0.9967 - loss: 0.0139 - precision: 0.9977 - recall: 0.9958\n",
            "Epoch 13: val_accuracy did not improve from 0.80233\n",
            "\u001b[1m118/118\u001b[0m \u001b[32m━━━━━━━━━━━━━━━━━━━━\u001b[0m\u001b[37m\u001b[0m \u001b[1m15s\u001b[0m 125ms/step - accuracy: 0.9947 - f1: 0.9947 - loss: 0.0216 - precision: 0.9926 - recall: 0.9968 - val_accuracy: 0.7984 - val_f1: 0.8774 - val_loss: 0.9460 - val_precision: 0.8341 - val_recall: 0.9254 - learning_rate: 1.2500e-05\n",
            "Epoch 14/15\n",
            "\u001b[1m117/118\u001b[0m \u001b[32m━━━━━━━━━━━━━━━━━━━\u001b[0m\u001b[37m━\u001b[0m \u001b[1m0s\u001b[0m 115ms/step - accuracy: 0.9959 - f1: 0.9959 - loss: 0.0144 - precision: 0.9997 - recall: 0.9921\n",
            "Epoch 14: ReduceLROnPlateau reducing learning rate to 6.24999984211172e-06.\n",
            "\n",
            "Epoch 14: val_accuracy did not improve from 0.80233\n",
            "\u001b[1m118/118\u001b[0m \u001b[32m━━━━━━━━━━━━━━━━━━━━\u001b[0m\u001b[37m\u001b[0m \u001b[1m16s\u001b[0m 136ms/step - accuracy: 0.9963 - f1: 0.9963 - loss: 0.0160 - precision: 0.9979 - recall: 0.9947 - val_accuracy: 0.7984 - val_f1: 0.8774 - val_loss: 0.9379 - val_precision: 0.8341 - val_recall: 0.9254 - learning_rate: 1.2500e-05\n",
            "Epoch 15/15\n",
            "\u001b[1m117/118\u001b[0m \u001b[32m━━━━━━━━━━━━━━━━━━━\u001b[0m\u001b[37m━\u001b[0m \u001b[1m0s\u001b[0m 113ms/step - accuracy: 0.9955 - f1: 0.9955 - loss: 0.0193 - precision: 0.9998 - recall: 0.9913\n",
            "Epoch 15: val_accuracy did not improve from 0.80233\n",
            "\u001b[1m118/118\u001b[0m \u001b[32m━━━━━━━━━━━━━━━━━━━━\u001b[0m\u001b[37m\u001b[0m \u001b[1m20s\u001b[0m 134ms/step - accuracy: 0.9957 - f1: 0.9957 - loss: 0.0186 - precision: 0.9989 - recall: 0.9925 - val_accuracy: 0.7984 - val_f1: 0.8774 - val_loss: 0.9421 - val_precision: 0.8341 - val_recall: 0.9254 - learning_rate: 6.2500e-06\n",
            "Phase 2 done.\n"
          ]
        }
      ]
    },
    {
      "cell_type": "code",
      "source": [
        "# Cell 10\n",
        "print(\"Evaluating on TEST...\")\n",
        "test_metrics = model.evaluate(test_ds, verbose=0)\n",
        "metric_names = model.metrics_names\n",
        "for n,v in zip(metric_names, test_metrics):\n",
        "    print(f\"{n}: {v:.4f}\")\n",
        "\n",
        "# Collect predictions for sklearn report\n",
        "y_true = []\n",
        "y_prob = []\n",
        "for xb, yb in test_ds:\n",
        "    y_true.append(yb.numpy().reshape(-1))     # (batch,1) -> (-1,)\n",
        "    y_prob.append(model.predict(xb, verbose=0).reshape(-1))\n",
        "y_true = np.concatenate(y_true)\n",
        "y_prob = np.concatenate(y_prob)\n",
        "y_pred = (y_prob > 0.5).astype(int)\n",
        "\n",
        "from sklearn.metrics import classification_report, confusion_matrix, f1_score\n",
        "print(\"\\nClassification Report:\")\n",
        "print(classification_report(y_true, y_pred, target_names=['No Appendicitis','Appendicitis']))\n",
        "\n",
        "cm = confusion_matrix(y_true, y_pred)\n",
        "plt.figure(figsize=(6,5))\n",
        "sns.heatmap(cm, annot=True, fmt='d', cmap='Blues', xticklabels=['No Appendicitis','Appendicitis'],\n",
        "            yticklabels=['No Appendicitis','Appendicitis'])\n",
        "plt.title('Confusion Matrix - Test'); plt.ylabel('True'); plt.xlabel('Pred'); plt.show()\n",
        "\n",
        "tn, fp, fn, tp = cm.ravel()\n",
        "sens = tp/(tp+fn) if (tp+fn)>0 else 0.0\n",
        "spec = tn/(tn+fp) if (tn+fp)>0 else 0.0\n",
        "bal_acc = (sens + spec) / 2\n",
        "print(f\"Sensitivity: {sens:.3f}  Specificity: {spec:.3f}  \"\n",
        "      f\"Balanced Acc: {bal_acc:.3f}  F1: {f1_score(y_true,y_pred):.3f}\")\n"
      ],
      "metadata": {
        "colab": {
          "base_uri": "https://localhost:8080/",
          "height": 747
        },
        "id": "Kb3DY-6R07no",
        "outputId": "ba13a8e0-3b58-4c56-818e-418d6468248d"
      },
      "id": "Kb3DY-6R07no",
      "execution_count": 13,
      "outputs": [
        {
          "output_type": "stream",
          "name": "stdout",
          "text": [
            "Evaluating on TEST...\n",
            "loss: 0.8794\n",
            "compile_metrics: 0.7915\n",
            "\n",
            "Classification Report:\n",
            "                 precision    recall  f1-score   support\n",
            "\n",
            "No Appendicitis       0.55      0.38      0.45        58\n",
            "   Appendicitis       0.84      0.91      0.87       201\n",
            "\n",
            "       accuracy                           0.79       259\n",
            "      macro avg       0.69      0.64      0.66       259\n",
            "   weighted avg       0.77      0.79      0.78       259\n",
            "\n"
          ]
        },
        {
          "output_type": "display_data",
          "data": {
            "text/plain": [
              "<Figure size 600x500 with 2 Axes>"
            ],
            "image/png": "[encoded data removed]"
          },
          "metadata": {}
        },
        {
          "output_type": "stream",
          "name": "stdout",
          "text": [
            "Sensitivity: 0.910  Specificity: 0.379  Balanced Acc: 0.645  F1: 0.871\n"
          ]
        }
      ]
    },
    {
      "cell_type": "code",
      "source": [
        "# === Additional Metrics: Macro F1 and AUC (use existing y_true/y_prob/y_pred) ===\n",
        "from sklearn.metrics import f1_score, roc_auc_score, roc_curve\n",
        "import matplotlib.pyplot as plt\n",
        "\n",
        "# Safety: ensure arrays exist and are 1-D\n",
        "assert y_true.ndim == 1 and y_prob.ndim == 1 and y_pred.ndim == 1, \"Arrays must be 1-D.\"\n",
        "\n",
        "macro_f1 = f1_score(y_true, y_pred, average='macro')   # equal weight to both classes\n",
        "auc      = roc_auc_score(y_true, y_prob)               # use probabilities, not hard labels\n",
        "\n",
        "print(\"\\n✅ Additional Evaluation Metrics:\")\n",
        "print(f\"Macro F1: {macro_f1:.4f}\")\n",
        "print(f\"AUC (ROC): {auc:.4f}\")\n",
        "\n",
        "# ROC curve\n",
        "fpr, tpr, _ = roc_curve(y_true, y_prob)\n",
        "plt.figure(figsize=(6,5))\n",
        "plt.plot(fpr, tpr, label=f\"AUC = {auc:.3f}\")\n",
        "plt.plot([0,1],[0,1],'k--')\n",
        "plt.xlabel(\"False Positive Rate\"); plt.ylabel(\"True Positive Rate\")\n",
        "plt.title(\"ROC Curve – Test Set\"); plt.legend(loc=\"lower right\"); plt.grid(True)\n",
        "plt.show()\n"
      ],
      "metadata": {
        "colab": {
          "base_uri": "https://localhost:8080/",
          "height": 556
        },
        "id": "IcJvwcRJ099G",
        "outputId": "f25a32fd-6b50-4d28-a38f-ac9c772583cb"
      },
      "id": "IcJvwcRJ099G",
      "execution_count": 17,
      "outputs": [
        {
          "output_type": "stream",
          "name": "stdout",
          "text": [
            "\n",
            "✅ Additional Evaluation Metrics:\n",
            "Macro F1: 0.6602\n",
            "AUC (ROC): 0.7886\n"
          ]
        },
        {
          "output_type": "display_data",
          "data": {
            "text/plain": [
              "<Figure size 600x500 with 1 Axes>"
            ],
            "image/png": "[encoded data removed]"
          },
          "metadata": {}
        }
      ]
    },
    {
      "cell_type": "code",
      "source": [
        "# Cell 11\n",
        "model.save('final_appendicitis_densenet201_oversampling_stream.keras')\n",
        "print(\"Saved: final_appendicitis_densenet201_oversampling_stream.keras\")\n",
        "\n",
        "# Save model architecture as JSON\n",
        "model_json = model.to_json()\n",
        "with open(\"appendicitis_model_architecture_oversampling.json\", \"w\") as json_file:\n",
        "    json_file.write(model_json)\n",
        "\n",
        "# Save only the weights\n",
        "model.save_weights(\"appendicitis_model_weights_oversampling.weights.h5\")\n",
        "print(\"Model architecture and weights saved separately\")\n"
      ],
      "metadata": {
        "id": "HDs29naxSIAE",
        "colab": {
          "base_uri": "https://localhost:8080/"
        },
        "outputId": "6d44ecca-7a29-4311-f350-7b68a492f7ec"
      },
      "id": "HDs29naxSIAE",
      "execution_count": 18,
      "outputs": [
        {
          "output_type": "stream",
          "name": "stdout",
          "text": [
            "Saved: final_appendicitis_densenet201_oversampling_stream.keras\n",
            "Model architecture and weights saved separately\n"
          ]
        }
      ]
    },
    {
      "cell_type": "code",
      "source": [
        "import os, shutil\n",
        "\n",
        "# === Define your model-specific subfolder ===\n",
        "model_name = \"DenseNet201_oversampling\"  # 👈 change for each model if needed\n",
        "\n",
        "# === Create the nested directory in Drive ===\n",
        "save_dir = f\"/content/drive/MyDrive/Appendicitis_Models/{model_name}\"\n",
        "os.makedirs(save_dir, exist_ok=True)\n",
        "\n",
        "# === Copy all your key files into that subfolder ===\n",
        "for f in [\n",
        "    \"final_appendicitis_densenet201_oversampling_stream.keras\",\n",
        "    \"appendicitis_model_weights_oversampling.weights.h5\",\n",
        "    \"appendicitis_model_architecture_oversampling.json\"\n",
        "]:\n",
        "    if os.path.exists(f):\n",
        "        shutil.copy(f, save_dir)\n",
        "        print(f\"✅ Saved: {f} → {save_dir}\")\n",
        "    else:\n",
        "        print(f\"⚠️ File not found: {f}\")\n",
        "\n",
        "print(f\"\\nAll files safely stored in: {save_dir}\")\n"
      ],
      "metadata": {
        "id": "aHeeVhdVSIEt",
        "colab": {
          "base_uri": "https://localhost:8080/"
        },
        "outputId": "74b866c9-3613-4bba-81e2-3cc5494f8a9c"
      },
      "id": "aHeeVhdVSIEt",
      "execution_count": 20,
      "outputs": [
        {
          "output_type": "stream",
          "name": "stdout",
          "text": [
            "✅ Saved: final_appendicitis_densenet201_oversampling_stream.keras → /content/drive/MyDrive/Appendicitis_Models/DenseNet201_oversampling\n",
            "✅ Saved: appendicitis_model_weights_oversampling.weights.h5 → /content/drive/MyDrive/Appendicitis_Models/DenseNet201_oversampling\n",
            "✅ Saved: appendicitis_model_architecture_oversampling.json → /content/drive/MyDrive/Appendicitis_Models/DenseNet201_oversampling\n",
            "\n",
            "All files safely stored in: /content/drive/MyDrive/Appendicitis_Models/DenseNet201_oversampling\n"
          ]
        }
      ]
    }
  ],
  "metadata": {
    "kernelspec": {
      "display_name": "Python 3",
      "name": "python3"
    },
    "language_info": {
      "codemirror_mode": {
        "name": "ipython",
        "version": 3
      },
      "file_extension": ".py",
      "mimetype": "text/x-python",
      "name": "python",
      "nbconvert_exporter": "python",
      "pygments_lexer": "ipython3",
      "version": "3.10.2"
    },
    "colab": {
      "provenance": [],
      "gpuType": "T4"
    },
    "accelerator": "GPU"
  },
  "nbformat": 4,
  "nbformat_minor": 5
}