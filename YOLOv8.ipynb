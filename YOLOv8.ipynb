{
  "cells": [
    {
      "cell_type": "markdown",
      "metadata": {},
      "source": [
        "# YOLOv8 Classification — 70/15/15 Pipeline\n",
        "\n",
        "This notebook:\n",
        "- Discovers or uses a specified dataset root of two classes: **Appendicitis** and **No_Appendicitis**\n",
        "- Creates a **stratified 70/15/15** split (train/val/test) with a **unique** test set\n",
        "- (Optional) Applies augmentation **only to train** to balance classes\n",
        "- Trains YOLOv8 **classification** on `datasets_70_15_15`\n",
        "- Computes per-image probabilities for a chosen split and **sweeps a decision threshold**\n",
        "\n",
        "> Edit just the *Parameters* cell if needed. The rest should run top-to-bottom after a clean kernel restart."
      ]
    },
    {
      "cell_type": "markdown",
      "metadata": {},
      "source": [
        "## Parameters"
      ]
    },
    {
      "cell_type": "code",
      "execution_count": 1,
      "metadata": {},
      "outputs": [],
      "source": [
        "\n",
        "# --- Parameters (edit me) ---\n",
        "DATASET_SOURCE_CANDIDATES = [\n",
        "    \"datasets_70_15_15\",\n",
        "    \"datasets_val_richer\",\n",
        "    \"datasets_balanced\",\n",
        "    \"datasets\",\n",
        "]\n",
        "CLASSES = [\"Appendicitis\", \"No_Appendicitis\"]\n",
        "NEW_ROOT = \"datasets_70_15_15\"\n",
        "RUN_NAME_BASE = \"cls_s_70_15_15\"\n",
        "IMG_SIZE = 224\n",
        "EPOCHS_STAGE1 = 20\n",
        "EPOCHS_STAGE2 = 15\n",
        "BATCH = 32\n",
        "DEVICE = 0\n",
        "SEED = 42\n"
      ]
    },
    {
      "cell_type": "markdown",
      "metadata": {},
      "source": [
        "## Setup & Utilities"
      ]
    },
    {
      "cell_type": "code",
      "execution_count": 2,
      "metadata": {},
      "outputs": [],
      "source": [
        "\n",
        "import os, shutil, math, random, cv2, json, numpy as np, pandas as pd\n",
        "from pathlib import Path\n",
        "from ultralytics import YOLO\n",
        "from sklearn.model_selection import train_test_split\n",
        "from sklearn.metrics import classification_report, confusion_matrix, ConfusionMatrixDisplay\n",
        "import matplotlib.pyplot as plt\n",
        "\n",
        "random.seed(SEED); np.random.seed(SEED)\n",
        "plt.rcParams['figure.figsize'] = (6,5)\n",
        "\n",
        "def nrm(s): return s.lower().replace(\"_\",\"\").replace(\" \",\"\")\n",
        "ALLOWED = {\".jpg\",\".jpeg\",\".png\",\".bmp\",\".tif\",\".tiff\",\".webp\"}\n",
        "\n",
        "def has_images(p: Path):\n",
        "    return any(f.suffix.lower() in ALLOWED for f in p.glob(\"*\"))\n"
      ]
    },
    {
      "cell_type": "markdown",
      "metadata": {},
      "source": [
        "## Discover dataset root and build `df` (all images + labels)"
      ]
    },
    {
      "cell_type": "code",
      "execution_count": 3,
      "metadata": {},
      "outputs": [
        {
          "name": "stdout",
          "output_type": "stream",
          "text": [
            "Using SOURCE_ROOT: datasets_70_15_15 | already_split= True\n",
            "All images: 4734 | App: 2550 | No: 2184\n"
          ]
        }
      ],
      "source": [
        "\n",
        "def discover_root(candidates, classes):\n",
        "    for r in candidates:\n",
        "        root = Path(r)\n",
        "        if not root.exists():\n",
        "            continue\n",
        "        # split case\n",
        "        for split in [\"train\",\"val\",\"test\"]:\n",
        "            d = root / split\n",
        "            if d.is_dir() and all((d/c).exists() and has_images(d/c) for c in classes):\n",
        "                return root, True\n",
        "        # flat case\n",
        "        if all((root/c).exists() and has_images(root/c) for c in classes):\n",
        "            return root, False\n",
        "    return None, False\n",
        "\n",
        "SOURCE_ROOT, IS_SPLIT = discover_root(DATASET_SOURCE_CANDIDATES, CLASSES)\n",
        "assert SOURCE_ROOT is not None, f\"Couldn't find a valid dataset root with classes {CLASSES}. Edit DATASET_SOURCE_CANDIDATES.\"\n",
        "print(\"Using SOURCE_ROOT:\", SOURCE_ROOT, \"| already_split=\", IS_SPLIT)\n",
        "\n",
        "rows = []\n",
        "if IS_SPLIT:\n",
        "    for split in [\"train\",\"val\",\"test\"]:\n",
        "        d = SOURCE_ROOT / split\n",
        "        if not d.is_dir(): \n",
        "            continue\n",
        "        for cls in CLASSES:\n",
        "            p = d / cls\n",
        "            if not p.is_dir(): continue\n",
        "            for f in p.glob(\"*\"):\n",
        "                if f.suffix.lower() in ALLOWED:\n",
        "                    label = 1 if nrm(cls).startswith(\"append\") else 0\n",
        "                    rows.append((str(f), label))\n",
        "else:\n",
        "    for cls in CLASSES:\n",
        "        p = SOURCE_ROOT / cls\n",
        "        for f in p.glob(\"*\"):\n",
        "            if f.suffix.lower() in ALLOWED:\n",
        "                label = 1 if nrm(cls).startswith(\"append\") else 0\n",
        "                rows.append((str(f), label))\n",
        "\n",
        "import pandas as pd\n",
        "df = pd.DataFrame(rows, columns=[\"path\",\"label\"]).drop_duplicates(\"path\").reset_index(drop=True)\n",
        "print(\"All images:\", len(df), \"| App:\", int((df.label==1).sum()), \"| No:\", int((df.label==0).sum()))\n",
        "assert len(df)>0, \"No images found.\"\n"
      ]
    },
    {
      "cell_type": "markdown",
      "metadata": {},
      "source": [
        "## Split 70/15/15 (stratified)"
      ]
    },
    {
      "cell_type": "code",
      "execution_count": 4,
      "metadata": {},
      "outputs": [
        {
          "name": "stdout",
          "output_type": "stream",
          "text": [
            "Train: total=3313 | App=1785 | No=1528\n",
            "Val: total=710 | App=382 | No=328\n",
            "Test: total=711 | App=383 | No=328\n"
          ]
        }
      ],
      "source": [
        "\n",
        "from sklearn.model_selection import train_test_split\n",
        "df = df.sample(frac=1.0, random_state=SEED).reset_index(drop=True)\n",
        "\n",
        "train_df, temp_df = train_test_split(\n",
        "    df, test_size=0.30, stratify=df['label'], random_state=SEED\n",
        ")\n",
        "val_df, test_df = train_test_split(\n",
        "    temp_df, test_size=0.50, stratify=temp_df['label'], random_state=SEED\n",
        ")\n",
        "\n",
        "for name, d in [(\"Train\", train_df), (\"Val\", val_df), (\"Test\", test_df)]:\n",
        "    pos = int((d.label==1).sum()); neg = int((d.label==0).sum())\n",
        "    print(f\"{name}: total={len(d)} | App={pos} | No={neg}\")\n"
      ]
    },
    {
      "cell_type": "markdown",
      "metadata": {},
      "source": [
        "## Materialize YOLO folder tree (train/val/test)"
      ]
    },
    {
      "cell_type": "code",
      "execution_count": 5,
      "metadata": {},
      "outputs": [
        {
          "name": "stdout",
          "output_type": "stream",
          "text": [
            "[warn] Your df['path'] includes files under NEW_ROOT. You’re re-splitting an already-materialized tree. We’ll skip identical paths and existing files to avoid SameFileError.\n"
          ]
        },
        {
          "name": "stdout",
          "output_type": "stream",
          "text": [
            "[train] linked=25 copied=0 skipped_exist=1557 skipped_same=1731\n",
            "[val] linked=273 copied=0 skipped_exist=259 skipped_same=178\n",
            "[test] linked=296 copied=0 skipped_exist=250 skipped_same=165\n",
            "Built (or verified): /home/liori/appendicitis_project/datasets_70_15_15\n"
          ]
        }
      ],
      "source": [
        "# === Materialize YOLO folder tree (train/val/test) — idempotent & safe ===\n",
        "import os, shutil\n",
        "from pathlib import Path\n",
        "\n",
        "CLASSES = [\"Appendicitis\", \"No_Appendicitis\"]\n",
        "NEW_ROOT = Path(\"datasets_70_15_15\")\n",
        "\n",
        "# warn if the source files are already inside NEW_ROOT (self-link risk)\n",
        "try:\n",
        "    _new_root_resolved = NEW_ROOT.resolve()\n",
        "    _inside_new_root = any(Path(p).resolve().is_relative_to(_new_root_resolved) for p in df[\"path\"])\n",
        "except AttributeError:\n",
        "    # for Python <3.9, emulate is_relative_to\n",
        "    def _is_rel(a, b):\n",
        "        try:\n",
        "            Path(a).resolve().relative_to(Path(b).resolve())\n",
        "            return True\n",
        "        except Exception:\n",
        "            return False\n",
        "    _inside_new_root = any(_is_rel(p, NEW_ROOT) for p in df[\"path\"])\n",
        "\n",
        "if _inside_new_root:\n",
        "    print(\"[warn] Your df['path'] includes files under NEW_ROOT. \"\n",
        "          \"You’re re-splitting an already-materialized tree. \"\n",
        "          \"We’ll skip identical paths and existing files to avoid SameFileError.\")\n",
        "\n",
        "# create dirs if needed\n",
        "for sub in [\"train\", \"val\", \"test\"]:\n",
        "    for cls in CLASSES:\n",
        "        (NEW_ROOT / sub / cls).mkdir(parents=True, exist_ok=True)\n",
        "\n",
        "def link_into(dst_root: Path, subset_df, subset_name: str):\n",
        "    skipped_same = skipped_exist = linked = copied = 0\n",
        "    for _, r in subset_df.iterrows():\n",
        "        src = Path(r[\"path\"]).resolve()\n",
        "        cls = \"Appendicitis\" if int(r[\"label\"]) == 1 else \"No_Appendicitis\"\n",
        "        dst = (dst_root / subset_name / cls / src.name).resolve()\n",
        "\n",
        "        # 1) skip if source == destination (self-link/copy)\n",
        "        if src == dst:\n",
        "            skipped_same += 1\n",
        "            continue\n",
        "\n",
        "        # 2) skip if destination already exists (idempotent)\n",
        "        if dst.exists():\n",
        "            skipped_exist += 1\n",
        "            continue\n",
        "\n",
        "        # 3) try hardlink, fallback to copy\n",
        "        try:\n",
        "            os.link(src, dst)  # same filesystem\n",
        "            linked += 1\n",
        "        except OSError:\n",
        "            shutil.copy2(src, dst)\n",
        "            copied += 1\n",
        "    print(f\"[{subset_name}] linked={linked} copied={copied} skipped_exist={skipped_exist} skipped_same={skipped_same}\")\n",
        "\n",
        "link_into(NEW_ROOT, train_df, \"train\")\n",
        "link_into(NEW_ROOT, val_df,   \"val\")\n",
        "link_into(NEW_ROOT, test_df,  \"test\")\n",
        "\n",
        "print(\"Built (or verified):\", NEW_ROOT.resolve())\n"
      ]
    },
    {
      "cell_type": "markdown",
      "metadata": {},
      "source": [
        "## (Optional) Augment *train* only to balance classes"
      ]
    },
    {
      "cell_type": "code",
      "execution_count": 6,
      "metadata": {},
      "outputs": [],
      "source": [
        "\n",
        "# import albumentations as A\n",
        "# aug = A.Compose([\n",
        "#     A.HorizontalFlip(p=0.5),\n",
        "#     A.ShiftScaleRotate(shift_limit=0.02, scale_limit=0.10, rotate_limit=15,\n",
        "#                        border_mode=cv2.BORDER_REFLECT_101, p=0.8),\n",
        "#     # A.RandomResizedCrop(height=IMG_SIZE, width=IMG_SIZE, scale=(0.9,1.1), ratio=(0.95,1.05), p=0.6),\n",
        "# ])\n",
        "# tr_root = NEW_ROOT / \"train\"\n",
        "# app_dir = tr_root / \"Appendicitis\"\n",
        "# no_dir  = tr_root / \"No_Appendicitis\"\n",
        "# maj, minr = (app_dir, no_dir) if len(list(app_dir.iterdir()))>len(list(no_dir.iterdir())) else (no_dir, app_dir)\n",
        "# need = len(list(maj.iterdir())) - len(list(minr.iterdir()))\n",
        "# created = 0\n",
        "# imgs = list(minr.glob(\"*\"))\n",
        "# i = 0\n",
        "# while created < max(0, need) and imgs:\n",
        "#     p = imgs[i % len(imgs)]\n",
        "#     img = cv2.imread(str(p))\n",
        "#     if img is None: \n",
        "#         i += 1; continue\n",
        "#     out = aug(image=img)[\"image\"]\n",
        "#     out_name = minr / f\"{p.stem}_aug{created:05d}{p.suffix}\"\n",
        "#     cv2.imwrite(str(out_name), out); created += 1; i += 1\n",
        "# print(\"Augmented minority by:\", created)\n"
      ]
    },
    {
      "cell_type": "markdown",
      "metadata": {},
      "source": [
        "## Train YOLOv8 classification (two-stage)"
      ]
    },
    {
      "cell_type": "code",
      "execution_count": 7,
      "metadata": {},
      "outputs": [
        {
          "name": "stdout",
          "output_type": "stream",
          "text": [
            "New https://pypi.org/project/ultralytics/8.3.204 available 😃 Update with 'pip install -U ultralytics'\n",
            "Ultralytics YOLOv8.2.103 🚀 Python-3.12.3 torch-2.8.0+cu128 CUDA:0 (NVIDIA GeForce RTX 5070 Ti Laptop GPU, 12227MiB)\n",
            "\u001b[34m\u001b[1mengine/trainer: \u001b[0mtask=classify, mode=train, model=yolov8s-cls.pt, data=datasets_70_15_15, epochs=20, time=None, patience=10, batch=32, imgsz=224, save=True, save_period=-1, cache=False, device=0, workers=4, project=runs, name=cls_s_70_15_15_e203, exist_ok=False, pretrained=True, optimizer=auto, verbose=True, seed=0, deterministic=True, single_cls=False, rect=False, cos_lr=False, close_mosaic=10, resume=False, amp=True, fraction=1.0, profile=False, freeze=None, multi_scale=False, overlap_mask=True, mask_ratio=4, dropout=0.2, val=True, split=val, save_json=False, save_hybrid=False, conf=None, iou=0.7, max_det=300, half=False, dnn=False, plots=True, source=None, vid_stride=1, stream_buffer=False, visualize=False, augment=False, agnostic_nms=False, classes=None, retina_masks=False, embed=None, show=False, save_frames=False, save_txt=False, save_conf=False, save_crop=False, show_labels=True, show_conf=True, show_boxes=True, line_width=None, format=torchscript, keras=False, optimize=False, int8=False, dynamic=False, simplify=True, opset=None, workspace=4, nms=False, lr0=0.01, lrf=0.01, momentum=0.937, weight_decay=0.0005, warmup_epochs=3.0, warmup_momentum=0.8, warmup_bias_lr=0.1, box=7.5, cls=0.5, dfl=1.5, pose=12.0, kobj=1.0, label_smoothing=0.0, nbs=64, hsv_h=0.015, hsv_s=0.7, hsv_v=0.4, degrees=0.0, translate=0.1, scale=0.5, shear=0.0, perspective=0.0, flipud=0.0, fliplr=0.5, bgr=0.0, mosaic=1.0, mixup=0.0, copy_paste=0.0, auto_augment=randaugment, erasing=0.5, crop_fraction=1.0, cfg=None, tracker=botsort.yaml, save_dir=runs/cls_s_70_15_15_e203\n",
            "\u001b[34m\u001b[1mtrain:\u001b[0m /home/liori/appendicitis_project/datasets_70_15_15/train... found 2482 images in 2 classes ✅ \n",
            "\u001b[34m\u001b[1mval:\u001b[0m /home/liori/appendicitis_project/datasets_70_15_15/val... found 1401 images in 2 classes ✅ \n",
            "\u001b[34m\u001b[1mtest:\u001b[0m /home/liori/appendicitis_project/datasets_70_15_15/test... found 1445 images in 2 classes ✅ \n",
            "Overriding model.yaml nc=1000 with nc=2\n",
            "\n",
            "                   from  n    params  module                                       arguments                     \n",
            "  0                  -1  1       928  ultralytics.nn.modules.conv.Conv             [3, 32, 3, 2]                 \n",
            "  1                  -1  1     18560  ultralytics.nn.modules.conv.Conv             [32, 64, 3, 2]                \n",
            "  2                  -1  1     29056  ultralytics.nn.modules.block.C2f             [64, 64, 1, True]             \n",
            "  3                  -1  1     73984  ultralytics.nn.modules.conv.Conv             [64, 128, 3, 2]               \n",
            "  4                  -1  2    197632  ultralytics.nn.modules.block.C2f             [128, 128, 2, True]           \n",
            "  5                  -1  1    295424  ultralytics.nn.modules.conv.Conv             [128, 256, 3, 2]              \n",
            "  6                  -1  2    788480  ultralytics.nn.modules.block.C2f             [256, 256, 2, True]           \n",
            "  7                  -1  1   1180672  ultralytics.nn.modules.conv.Conv             [256, 512, 3, 2]              \n",
            "  8                  -1  1   1838080  ultralytics.nn.modules.block.C2f             [512, 512, 1, True]           \n",
            "  9                  -1  1    660482  ultralytics.nn.modules.head.Classify         [512, 2]                      \n",
            "YOLOv8s-cls summary: 99 layers, 5,083,298 parameters, 5,083,298 gradients, 12.6 GFLOPs\n",
            "Transferred 156/158 items from pretrained weights\n",
            "\u001b[34m\u001b[1mAMP: \u001b[0mrunning Automatic Mixed Precision (AMP) checks with YOLOv8n...\n",
            "\u001b[34m\u001b[1mAMP: \u001b[0mchecks passed ✅\n"
          ]
        },
        {
          "name": "stderr",
          "output_type": "stream",
          "text": [
            "\u001b[34m\u001b[1mtrain: \u001b[0mScanning /home/liori/appendicitis_project/datasets_70_15_15/train... 2482 images, 0 corrupt: 100%|██████████| 2482/2482 [00:05<00:00, 473.78it/s]"
          ]
        },
        {
          "name": "stdout",
          "output_type": "stream",
          "text": [
            "\u001b[34m\u001b[1mtrain: \u001b[0mNew cache created: /home/liori/appendicitis_project/datasets_70_15_15/train.cache\n"
          ]
        },
        {
          "name": "stderr",
          "output_type": "stream",
          "text": [
            "\n",
            "\u001b[34m\u001b[1mval: \u001b[0mScanning /home/liori/appendicitis_project/datasets_70_15_15/val... 1401 images, 0 corrupt: 100%|██████████| 1401/1401 [00:02<00:00, 497.56it/s]"
          ]
        },
        {
          "name": "stdout",
          "output_type": "stream",
          "text": [
            "\u001b[34m\u001b[1mval: \u001b[0mNew cache created: /home/liori/appendicitis_project/datasets_70_15_15/val.cache\n"
          ]
        },
        {
          "name": "stderr",
          "output_type": "stream",
          "text": [
            "\n"
          ]
        },
        {
          "name": "stdout",
          "output_type": "stream",
          "text": [
            "\u001b[34m\u001b[1moptimizer:\u001b[0m 'optimizer=auto' found, ignoring 'lr0=0.01' and 'momentum=0.937' and determining best 'optimizer', 'lr0' and 'momentum' automatically... \n",
            "\u001b[34m\u001b[1moptimizer:\u001b[0m AdamW(lr=0.000714, momentum=0.9) with parameter groups 26 weight(decay=0.0), 27 weight(decay=0.0005), 27 bias(decay=0.0)\n",
            "Image sizes 224 train, 224 val\n",
            "Using 4 dataloader workers\n",
            "Logging results to \u001b[1mruns/cls_s_70_15_15_e203\u001b[0m\n",
            "Starting training for 20 epochs...\n",
            "\n",
            "      Epoch    GPU_mem       loss  Instances       Size\n"
          ]
        },
        {
          "name": "stderr",
          "output_type": "stream",
          "text": [
            "       1/20     0.757G     0.5096         18        224: 100%|██████████| 78/78 [00:10<00:00,  7.67it/s]\n",
            "               classes   top1_acc   top5_acc: 100%|██████████| 22/22 [00:02<00:00, 10.44it/s]"
          ]
        },
        {
          "name": "stdout",
          "output_type": "stream",
          "text": [
            "                   all      0.841          1\n"
          ]
        },
        {
          "name": "stderr",
          "output_type": "stream",
          "text": [
            "\n"
          ]
        },
        {
          "name": "stdout",
          "output_type": "stream",
          "text": [
            "\n",
            "      Epoch    GPU_mem       loss  Instances       Size\n"
          ]
        },
        {
          "name": "stderr",
          "output_type": "stream",
          "text": [
            "       2/20     0.789G     0.3731         18        224: 100%|██████████| 78/78 [00:06<00:00, 11.35it/s]\n",
            "               classes   top1_acc   top5_acc: 100%|██████████| 22/22 [00:01<00:00, 14.51it/s]"
          ]
        },
        {
          "name": "stdout",
          "output_type": "stream",
          "text": [
            "                   all      0.852          1\n"
          ]
        },
        {
          "name": "stderr",
          "output_type": "stream",
          "text": [
            "\n"
          ]
        },
        {
          "name": "stdout",
          "output_type": "stream",
          "text": [
            "\n",
            "      Epoch    GPU_mem       loss  Instances       Size\n"
          ]
        },
        {
          "name": "stderr",
          "output_type": "stream",
          "text": [
            "       3/20     0.812G     0.3259         18        224: 100%|██████████| 78/78 [00:05<00:00, 13.62it/s]\n",
            "               classes   top1_acc   top5_acc: 100%|██████████| 22/22 [00:01<00:00, 11.47it/s]"
          ]
        },
        {
          "name": "stdout",
          "output_type": "stream",
          "text": [
            "                   all      0.851          1\n"
          ]
        },
        {
          "name": "stderr",
          "output_type": "stream",
          "text": [
            "\n"
          ]
        },
        {
          "name": "stdout",
          "output_type": "stream",
          "text": [
            "\n",
            "      Epoch    GPU_mem       loss  Instances       Size\n"
          ]
        },
        {
          "name": "stderr",
          "output_type": "stream",
          "text": [
            "       4/20     0.805G     0.3063         18        224: 100%|██████████| 78/78 [00:05<00:00, 13.89it/s]\n",
            "               classes   top1_acc   top5_acc: 100%|██████████| 22/22 [00:01<00:00, 14.26it/s]"
          ]
        },
        {
          "name": "stdout",
          "output_type": "stream",
          "text": [
            "                   all      0.867          1\n"
          ]
        },
        {
          "name": "stderr",
          "output_type": "stream",
          "text": [
            "\n"
          ]
        },
        {
          "name": "stdout",
          "output_type": "stream",
          "text": [
            "\n",
            "      Epoch    GPU_mem       loss  Instances       Size\n"
          ]
        },
        {
          "name": "stderr",
          "output_type": "stream",
          "text": [
            "       5/20      0.81G     0.3112         18        224: 100%|██████████| 78/78 [00:05<00:00, 13.25it/s]\n",
            "               classes   top1_acc   top5_acc: 100%|██████████| 22/22 [00:01<00:00, 14.88it/s]"
          ]
        },
        {
          "name": "stdout",
          "output_type": "stream",
          "text": [
            "                   all      0.887          1\n"
          ]
        },
        {
          "name": "stderr",
          "output_type": "stream",
          "text": [
            "\n"
          ]
        },
        {
          "name": "stdout",
          "output_type": "stream",
          "text": [
            "\n",
            "      Epoch    GPU_mem       loss  Instances       Size\n"
          ]
        },
        {
          "name": "stderr",
          "output_type": "stream",
          "text": [
            "       6/20     0.803G     0.2896         18        224: 100%|██████████| 78/78 [00:05<00:00, 13.61it/s]\n",
            "               classes   top1_acc   top5_acc: 100%|██████████| 22/22 [00:01<00:00, 14.26it/s]"
          ]
        },
        {
          "name": "stdout",
          "output_type": "stream",
          "text": [
            "                   all      0.888          1\n"
          ]
        },
        {
          "name": "stderr",
          "output_type": "stream",
          "text": [
            "\n"
          ]
        },
        {
          "name": "stdout",
          "output_type": "stream",
          "text": [
            "\n",
            "      Epoch    GPU_mem       loss  Instances       Size\n"
          ]
        },
        {
          "name": "stderr",
          "output_type": "stream",
          "text": [
            "       7/20      0.81G     0.2699         18        224: 100%|██████████| 78/78 [00:05<00:00, 13.61it/s]\n",
            "               classes   top1_acc   top5_acc: 100%|██████████| 22/22 [00:01<00:00, 14.67it/s]"
          ]
        },
        {
          "name": "stdout",
          "output_type": "stream",
          "text": [
            "                   all      0.909          1\n"
          ]
        },
        {
          "name": "stderr",
          "output_type": "stream",
          "text": [
            "\n"
          ]
        },
        {
          "name": "stdout",
          "output_type": "stream",
          "text": [
            "\n",
            "      Epoch    GPU_mem       loss  Instances       Size\n"
          ]
        },
        {
          "name": "stderr",
          "output_type": "stream",
          "text": [
            "       8/20     0.803G     0.2603         18        224: 100%|██████████| 78/78 [00:05<00:00, 13.56it/s]\n",
            "               classes   top1_acc   top5_acc: 100%|██████████| 22/22 [00:01<00:00, 12.81it/s]"
          ]
        },
        {
          "name": "stdout",
          "output_type": "stream",
          "text": [
            "                   all      0.911          1\n"
          ]
        },
        {
          "name": "stderr",
          "output_type": "stream",
          "text": [
            "\n"
          ]
        },
        {
          "name": "stdout",
          "output_type": "stream",
          "text": [
            "\n",
            "      Epoch    GPU_mem       loss  Instances       Size\n"
          ]
        },
        {
          "name": "stderr",
          "output_type": "stream",
          "text": [
            "       9/20     0.803G     0.2415         18        224: 100%|██████████| 78/78 [00:05<00:00, 13.54it/s]\n",
            "               classes   top1_acc   top5_acc: 100%|██████████| 22/22 [00:01<00:00, 14.17it/s]"
          ]
        },
        {
          "name": "stdout",
          "output_type": "stream",
          "text": [
            "                   all      0.919          1\n"
          ]
        },
        {
          "name": "stderr",
          "output_type": "stream",
          "text": [
            "\n"
          ]
        },
        {
          "name": "stdout",
          "output_type": "stream",
          "text": [
            "\n",
            "      Epoch    GPU_mem       loss  Instances       Size\n"
          ]
        },
        {
          "name": "stderr",
          "output_type": "stream",
          "text": [
            "      10/20     0.801G     0.2348         18        224: 100%|██████████| 78/78 [00:05<00:00, 13.42it/s]\n",
            "               classes   top1_acc   top5_acc: 100%|██████████| 22/22 [00:01<00:00, 13.83it/s]"
          ]
        },
        {
          "name": "stdout",
          "output_type": "stream",
          "text": [
            "                   all      0.934          1\n"
          ]
        },
        {
          "name": "stderr",
          "output_type": "stream",
          "text": [
            "\n"
          ]
        },
        {
          "name": "stdout",
          "output_type": "stream",
          "text": [
            "\n",
            "      Epoch    GPU_mem       loss  Instances       Size\n"
          ]
        },
        {
          "name": "stderr",
          "output_type": "stream",
          "text": [
            "      11/20     0.803G     0.2211         18        224: 100%|██████████| 78/78 [00:06<00:00, 12.75it/s]\n",
            "               classes   top1_acc   top5_acc: 100%|██████████| 22/22 [00:01<00:00, 13.47it/s]"
          ]
        },
        {
          "name": "stdout",
          "output_type": "stream",
          "text": [
            "                   all      0.942          1\n"
          ]
        },
        {
          "name": "stderr",
          "output_type": "stream",
          "text": [
            "\n"
          ]
        },
        {
          "name": "stdout",
          "output_type": "stream",
          "text": [
            "\n",
            "      Epoch    GPU_mem       loss  Instances       Size\n"
          ]
        },
        {
          "name": "stderr",
          "output_type": "stream",
          "text": [
            "      12/20     0.803G     0.2092         18        224: 100%|██████████| 78/78 [00:05<00:00, 13.28it/s]\n",
            "               classes   top1_acc   top5_acc: 100%|██████████| 22/22 [00:01<00:00, 14.29it/s]"
          ]
        },
        {
          "name": "stdout",
          "output_type": "stream",
          "text": [
            "                   all      0.937          1\n"
          ]
        },
        {
          "name": "stderr",
          "output_type": "stream",
          "text": [
            "\n"
          ]
        },
        {
          "name": "stdout",
          "output_type": "stream",
          "text": [
            "\n",
            "      Epoch    GPU_mem       loss  Instances       Size\n"
          ]
        },
        {
          "name": "stderr",
          "output_type": "stream",
          "text": [
            "      13/20     0.807G     0.1982         18        224: 100%|██████████| 78/78 [00:05<00:00, 13.76it/s]\n",
            "               classes   top1_acc   top5_acc: 100%|██████████| 22/22 [00:01<00:00, 14.64it/s]"
          ]
        },
        {
          "name": "stdout",
          "output_type": "stream",
          "text": [
            "                   all      0.965          1\n"
          ]
        },
        {
          "name": "stderr",
          "output_type": "stream",
          "text": [
            "\n"
          ]
        },
        {
          "name": "stdout",
          "output_type": "stream",
          "text": [
            "\n",
            "      Epoch    GPU_mem       loss  Instances       Size\n"
          ]
        },
        {
          "name": "stderr",
          "output_type": "stream",
          "text": [
            "      14/20     0.803G      0.188         18        224: 100%|██████████| 78/78 [00:05<00:00, 13.66it/s]\n",
            "               classes   top1_acc   top5_acc: 100%|██████████| 22/22 [00:01<00:00, 13.06it/s]"
          ]
        },
        {
          "name": "stdout",
          "output_type": "stream",
          "text": [
            "                   all      0.963          1\n"
          ]
        },
        {
          "name": "stderr",
          "output_type": "stream",
          "text": [
            "\n"
          ]
        },
        {
          "name": "stdout",
          "output_type": "stream",
          "text": [
            "\n",
            "      Epoch    GPU_mem       loss  Instances       Size\n"
          ]
        },
        {
          "name": "stderr",
          "output_type": "stream",
          "text": [
            "      15/20     0.803G     0.1754         18        224: 100%|██████████| 78/78 [00:05<00:00, 13.84it/s]\n",
            "               classes   top1_acc   top5_acc: 100%|██████████| 22/22 [00:01<00:00, 14.52it/s]"
          ]
        },
        {
          "name": "stdout",
          "output_type": "stream",
          "text": [
            "                   all      0.974          1\n"
          ]
        },
        {
          "name": "stderr",
          "output_type": "stream",
          "text": [
            "\n"
          ]
        },
        {
          "name": "stdout",
          "output_type": "stream",
          "text": [
            "\n",
            "      Epoch    GPU_mem       loss  Instances       Size\n"
          ]
        },
        {
          "name": "stderr",
          "output_type": "stream",
          "text": [
            "      16/20     0.801G     0.1599         18        224: 100%|██████████| 78/78 [00:05<00:00, 13.54it/s]\n",
            "               classes   top1_acc   top5_acc: 100%|██████████| 22/22 [00:01<00:00, 13.85it/s]"
          ]
        },
        {
          "name": "stdout",
          "output_type": "stream",
          "text": [
            "                   all      0.974          1\n"
          ]
        },
        {
          "name": "stderr",
          "output_type": "stream",
          "text": [
            "\n"
          ]
        },
        {
          "name": "stdout",
          "output_type": "stream",
          "text": [
            "\n",
            "      Epoch    GPU_mem       loss  Instances       Size\n"
          ]
        },
        {
          "name": "stderr",
          "output_type": "stream",
          "text": [
            "      17/20     0.803G     0.1562         18        224: 100%|██████████| 78/78 [00:05<00:00, 13.25it/s]\n",
            "               classes   top1_acc   top5_acc: 100%|██████████| 22/22 [00:01<00:00, 14.23it/s]"
          ]
        },
        {
          "name": "stdout",
          "output_type": "stream",
          "text": [
            "                   all       0.98          1\n"
          ]
        },
        {
          "name": "stderr",
          "output_type": "stream",
          "text": [
            "\n"
          ]
        },
        {
          "name": "stdout",
          "output_type": "stream",
          "text": [
            "\n",
            "      Epoch    GPU_mem       loss  Instances       Size\n"
          ]
        },
        {
          "name": "stderr",
          "output_type": "stream",
          "text": [
            "      18/20     0.803G     0.1292         18        224: 100%|██████████| 78/78 [00:05<00:00, 13.62it/s]\n",
            "               classes   top1_acc   top5_acc: 100%|██████████| 22/22 [00:01<00:00, 15.04it/s]"
          ]
        },
        {
          "name": "stdout",
          "output_type": "stream",
          "text": [
            "                   all      0.969          1\n"
          ]
        },
        {
          "name": "stderr",
          "output_type": "stream",
          "text": [
            "\n"
          ]
        },
        {
          "name": "stdout",
          "output_type": "stream",
          "text": [
            "\n",
            "      Epoch    GPU_mem       loss  Instances       Size\n"
          ]
        },
        {
          "name": "stderr",
          "output_type": "stream",
          "text": [
            "      19/20     0.803G     0.1297         18        224: 100%|██████████| 78/78 [00:05<00:00, 13.80it/s]\n",
            "               classes   top1_acc   top5_acc: 100%|██████████| 22/22 [00:01<00:00, 13.42it/s]"
          ]
        },
        {
          "name": "stdout",
          "output_type": "stream",
          "text": [
            "                   all       0.98          1\n"
          ]
        },
        {
          "name": "stderr",
          "output_type": "stream",
          "text": [
            "\n"
          ]
        },
        {
          "name": "stdout",
          "output_type": "stream",
          "text": [
            "\n",
            "      Epoch    GPU_mem       loss  Instances       Size\n"
          ]
        },
        {
          "name": "stderr",
          "output_type": "stream",
          "text": [
            "      20/20     0.803G     0.1249         18        224: 100%|██████████| 78/78 [00:05<00:00, 13.99it/s]\n",
            "               classes   top1_acc   top5_acc: 100%|██████████| 22/22 [00:01<00:00, 13.81it/s]"
          ]
        },
        {
          "name": "stdout",
          "output_type": "stream",
          "text": [
            "                   all      0.982          1\n"
          ]
        },
        {
          "name": "stderr",
          "output_type": "stream",
          "text": [
            "\n"
          ]
        },
        {
          "name": "stdout",
          "output_type": "stream",
          "text": [
            "\n",
            "20 epochs completed in 0.046 hours.\n",
            "Optimizer stripped from runs/cls_s_70_15_15_e203/weights/last.pt, 10.3MB\n",
            "Optimizer stripped from runs/cls_s_70_15_15_e203/weights/best.pt, 10.3MB\n",
            "\n",
            "Validating runs/cls_s_70_15_15_e203/weights/best.pt...\n",
            "Ultralytics YOLOv8.2.103 🚀 Python-3.12.3 torch-2.8.0+cu128 CUDA:0 (NVIDIA GeForce RTX 5070 Ti Laptop GPU, 12227MiB)\n",
            "YOLOv8s-cls summary (fused): 73 layers, 5,077,762 parameters, 0 gradients, 12.4 GFLOPs\n",
            "\u001b[34m\u001b[1mtrain:\u001b[0m /home/liori/appendicitis_project/datasets_70_15_15/train... found 2482 images in 2 classes ✅ \n",
            "\u001b[34m\u001b[1mval:\u001b[0m /home/liori/appendicitis_project/datasets_70_15_15/val... found 1401 images in 2 classes ✅ \n",
            "\u001b[34m\u001b[1mtest:\u001b[0m /home/liori/appendicitis_project/datasets_70_15_15/test... found 1445 images in 2 classes ✅ \n"
          ]
        },
        {
          "name": "stderr",
          "output_type": "stream",
          "text": [
            "               classes   top1_acc   top5_acc: 100%|██████████| 22/22 [00:01<00:00, 12.11it/s]\n"
          ]
        },
        {
          "name": "stdout",
          "output_type": "stream",
          "text": [
            "                   all      0.982          1\n",
            "Speed: 0.1ms preprocess, 0.4ms inference, 0.0ms loss, 0.0ms postprocess per image\n",
            "Results saved to \u001b[1mruns/cls_s_70_15_15_e203\u001b[0m\n",
            "Results saved to \u001b[1mruns/cls_s_70_15_15_e203\u001b[0m\n",
            "New https://pypi.org/project/ultralytics/8.3.204 available 😃 Update with 'pip install -U ultralytics'\n",
            "Ultralytics YOLOv8.2.103 🚀 Python-3.12.3 torch-2.8.0+cu128 CUDA:0 (NVIDIA GeForce RTX 5070 Ti Laptop GPU, 12227MiB)\n",
            "\u001b[34m\u001b[1mengine/trainer: \u001b[0mtask=classify, mode=train, model=runs/cls_s_70_15_15_e203/weights/best.pt, data=datasets_70_15_15, epochs=15, time=None, patience=7, batch=32, imgsz=224, save=True, save_period=-1, cache=False, device=0, workers=4, project=runs, name=cls_s_70_15_15_ft153, exist_ok=False, pretrained=True, optimizer=auto, verbose=True, seed=0, deterministic=True, single_cls=False, rect=False, cos_lr=False, close_mosaic=10, resume=False, amp=True, fraction=1.0, profile=False, freeze=None, multi_scale=False, overlap_mask=True, mask_ratio=4, dropout=0.0, val=True, split=val, save_json=False, save_hybrid=False, conf=None, iou=0.7, max_det=300, half=False, dnn=False, plots=True, source=None, vid_stride=1, stream_buffer=False, visualize=False, augment=False, agnostic_nms=False, classes=None, retina_masks=False, embed=None, show=False, save_frames=False, save_txt=False, save_conf=False, save_crop=False, show_labels=True, show_conf=True, show_boxes=True, line_width=None, format=torchscript, keras=False, optimize=False, int8=False, dynamic=False, simplify=True, opset=None, workspace=4, nms=False, lr0=0.0005, lrf=0.01, momentum=0.937, weight_decay=0.0005, warmup_epochs=3.0, warmup_momentum=0.8, warmup_bias_lr=0.1, box=7.5, cls=0.5, dfl=1.5, pose=12.0, kobj=1.0, label_smoothing=0.0, nbs=64, hsv_h=0.015, hsv_s=0.7, hsv_v=0.4, degrees=0.0, translate=0.1, scale=0.5, shear=0.0, perspective=0.0, flipud=0.0, fliplr=0.5, bgr=0.0, mosaic=1.0, mixup=0.0, copy_paste=0.0, auto_augment=randaugment, erasing=0.4, crop_fraction=1.0, cfg=None, tracker=botsort.yaml, save_dir=runs/cls_s_70_15_15_ft153\n",
            "\u001b[34m\u001b[1mtrain:\u001b[0m /home/liori/appendicitis_project/datasets_70_15_15/train... found 2482 images in 2 classes ✅ \n",
            "\u001b[34m\u001b[1mval:\u001b[0m /home/liori/appendicitis_project/datasets_70_15_15/val... found 1401 images in 2 classes ✅ \n",
            "\u001b[34m\u001b[1mtest:\u001b[0m /home/liori/appendicitis_project/datasets_70_15_15/test... found 1445 images in 2 classes ✅ \n",
            "\n",
            "                   from  n    params  module                                       arguments                     \n",
            "  0                  -1  1       928  ultralytics.nn.modules.conv.Conv             [3, 32, 3, 2]                 \n",
            "  1                  -1  1     18560  ultralytics.nn.modules.conv.Conv             [32, 64, 3, 2]                \n",
            "  2                  -1  1     29056  ultralytics.nn.modules.block.C2f             [64, 64, 1, True]             \n",
            "  3                  -1  1     73984  ultralytics.nn.modules.conv.Conv             [64, 128, 3, 2]               \n",
            "  4                  -1  2    197632  ultralytics.nn.modules.block.C2f             [128, 128, 2, True]           \n",
            "  5                  -1  1    295424  ultralytics.nn.modules.conv.Conv             [128, 256, 3, 2]              \n",
            "  6                  -1  2    788480  ultralytics.nn.modules.block.C2f             [256, 256, 2, True]           \n",
            "  7                  -1  1   1180672  ultralytics.nn.modules.conv.Conv             [256, 512, 3, 2]              \n",
            "  8                  -1  1   1838080  ultralytics.nn.modules.block.C2f             [512, 512, 1, True]           \n",
            "  9                  -1  1    660482  ultralytics.nn.modules.head.Classify         [512, 2]                      \n",
            "YOLOv8s-cls summary: 99 layers, 5,083,298 parameters, 5,083,298 gradients, 12.6 GFLOPs\n",
            "Transferred 158/158 items from pretrained weights\n",
            "\u001b[34m\u001b[1mAMP: \u001b[0mrunning Automatic Mixed Precision (AMP) checks with YOLOv8n...\n",
            "\u001b[34m\u001b[1mAMP: \u001b[0mchecks passed ✅\n"
          ]
        },
        {
          "name": "stderr",
          "output_type": "stream",
          "text": [
            "\u001b[34m\u001b[1mtrain: \u001b[0mScanning /home/liori/appendicitis_project/datasets_70_15_15/train... 2482 images, 0 corrupt: 100%|██████████| 2482/2482 [00:00<?, ?it/s]\n",
            "\u001b[34m\u001b[1mval: \u001b[0mScanning /home/liori/appendicitis_project/datasets_70_15_15/val... 1401 images, 0 corrupt: 100%|██████████| 1401/1401 [00:00<?, ?it/s]\n"
          ]
        },
        {
          "name": "stdout",
          "output_type": "stream",
          "text": [
            "\u001b[34m\u001b[1moptimizer:\u001b[0m 'optimizer=auto' found, ignoring 'lr0=0.0005' and 'momentum=0.937' and determining best 'optimizer', 'lr0' and 'momentum' automatically... \n",
            "\u001b[34m\u001b[1moptimizer:\u001b[0m AdamW(lr=0.000714, momentum=0.9) with parameter groups 26 weight(decay=0.0), 27 weight(decay=0.0005), 27 bias(decay=0.0)\n",
            "Image sizes 224 train, 224 val\n",
            "Using 4 dataloader workers\n",
            "Logging results to \u001b[1mruns/cls_s_70_15_15_ft153\u001b[0m\n",
            "Starting training for 15 epochs...\n",
            "\n",
            "      Epoch    GPU_mem       loss  Instances       Size\n"
          ]
        },
        {
          "name": "stderr",
          "output_type": "stream",
          "text": [
            "       1/15     0.868G     0.1268         18        224: 100%|██████████| 78/78 [00:09<00:00,  8.61it/s]\n",
            "               classes   top1_acc   top5_acc: 100%|██████████| 22/22 [00:01<00:00, 14.80it/s]"
          ]
        },
        {
          "name": "stdout",
          "output_type": "stream",
          "text": [
            "                   all      0.981          1\n"
          ]
        },
        {
          "name": "stderr",
          "output_type": "stream",
          "text": [
            "\n"
          ]
        },
        {
          "name": "stdout",
          "output_type": "stream",
          "text": [
            "\n",
            "      Epoch    GPU_mem       loss  Instances       Size\n"
          ]
        },
        {
          "name": "stderr",
          "output_type": "stream",
          "text": [
            "       2/15     0.895G     0.1284         18        224: 100%|██████████| 78/78 [00:06<00:00, 12.25it/s]\n",
            "               classes   top1_acc   top5_acc: 100%|██████████| 22/22 [00:01<00:00, 15.93it/s]"
          ]
        },
        {
          "name": "stdout",
          "output_type": "stream",
          "text": [
            "                   all      0.969          1\n"
          ]
        },
        {
          "name": "stderr",
          "output_type": "stream",
          "text": [
            "\n"
          ]
        },
        {
          "name": "stdout",
          "output_type": "stream",
          "text": [
            "\n",
            "      Epoch    GPU_mem       loss  Instances       Size\n"
          ]
        },
        {
          "name": "stderr",
          "output_type": "stream",
          "text": [
            "       3/15      0.91G     0.1761         18        224: 100%|██████████| 78/78 [00:05<00:00, 13.53it/s]\n",
            "               classes   top1_acc   top5_acc: 100%|██████████| 22/22 [00:01<00:00, 12.23it/s]"
          ]
        },
        {
          "name": "stdout",
          "output_type": "stream",
          "text": [
            "                   all      0.956          1\n"
          ]
        },
        {
          "name": "stderr",
          "output_type": "stream",
          "text": [
            "\n"
          ]
        },
        {
          "name": "stdout",
          "output_type": "stream",
          "text": [
            "\n",
            "      Epoch    GPU_mem       loss  Instances       Size\n"
          ]
        },
        {
          "name": "stderr",
          "output_type": "stream",
          "text": [
            "       4/15      0.91G     0.1826         18        224: 100%|██████████| 78/78 [00:05<00:00, 14.07it/s]\n",
            "               classes   top1_acc   top5_acc: 100%|██████████| 22/22 [00:01<00:00, 14.55it/s]"
          ]
        },
        {
          "name": "stdout",
          "output_type": "stream",
          "text": [
            "                   all      0.968          1\n"
          ]
        },
        {
          "name": "stderr",
          "output_type": "stream",
          "text": [
            "\n"
          ]
        },
        {
          "name": "stdout",
          "output_type": "stream",
          "text": [
            "\n",
            "      Epoch    GPU_mem       loss  Instances       Size\n"
          ]
        },
        {
          "name": "stderr",
          "output_type": "stream",
          "text": [
            "       5/15     0.908G     0.1889         18        224: 100%|██████████| 78/78 [00:06<00:00, 12.26it/s]\n",
            "               classes   top1_acc   top5_acc: 100%|██████████| 22/22 [00:01<00:00, 14.34it/s]"
          ]
        },
        {
          "name": "stdout",
          "output_type": "stream",
          "text": [
            "                   all      0.974          1\n"
          ]
        },
        {
          "name": "stderr",
          "output_type": "stream",
          "text": [
            "\n"
          ]
        },
        {
          "name": "stdout",
          "output_type": "stream",
          "text": [
            "\n",
            "      Epoch    GPU_mem       loss  Instances       Size\n"
          ]
        },
        {
          "name": "stderr",
          "output_type": "stream",
          "text": [
            "       6/15     0.908G     0.1565         18        224: 100%|██████████| 78/78 [00:06<00:00, 12.64it/s]\n",
            "               classes   top1_acc   top5_acc: 100%|██████████| 22/22 [00:01<00:00, 15.04it/s]"
          ]
        },
        {
          "name": "stdout",
          "output_type": "stream",
          "text": [
            "                   all      0.973          1\n"
          ]
        },
        {
          "name": "stderr",
          "output_type": "stream",
          "text": [
            "\n"
          ]
        },
        {
          "name": "stdout",
          "output_type": "stream",
          "text": [
            "\n",
            "      Epoch    GPU_mem       loss  Instances       Size\n"
          ]
        },
        {
          "name": "stderr",
          "output_type": "stream",
          "text": [
            "       7/15      0.91G     0.1603         18        224: 100%|██████████| 78/78 [00:05<00:00, 13.69it/s]\n",
            "               classes   top1_acc   top5_acc: 100%|██████████| 22/22 [00:01<00:00, 15.00it/s]"
          ]
        },
        {
          "name": "stdout",
          "output_type": "stream",
          "text": [
            "                   all      0.976          1\n"
          ]
        },
        {
          "name": "stderr",
          "output_type": "stream",
          "text": [
            "\n"
          ]
        },
        {
          "name": "stdout",
          "output_type": "stream",
          "text": [
            "\n",
            "      Epoch    GPU_mem       loss  Instances       Size\n"
          ]
        },
        {
          "name": "stderr",
          "output_type": "stream",
          "text": [
            "       8/15     0.916G     0.1164         18        224: 100%|██████████| 78/78 [00:05<00:00, 13.20it/s]\n",
            "               classes   top1_acc   top5_acc: 100%|██████████| 22/22 [00:01<00:00, 12.23it/s]"
          ]
        },
        {
          "name": "stdout",
          "output_type": "stream",
          "text": [
            "                   all      0.978          1\n",
            "\u001b[34m\u001b[1mEarlyStopping: \u001b[0mTraining stopped early as no improvement observed in last 7 epochs. Best results observed at epoch 1, best model saved as best.pt.\n",
            "To update EarlyStopping(patience=7) pass a new patience value, i.e. `patience=300` or use `patience=0` to disable EarlyStopping.\n"
          ]
        },
        {
          "name": "stderr",
          "output_type": "stream",
          "text": [
            "\n"
          ]
        },
        {
          "name": "stdout",
          "output_type": "stream",
          "text": [
            "\n",
            "8 epochs completed in 0.019 hours.\n",
            "Optimizer stripped from runs/cls_s_70_15_15_ft153/weights/last.pt, 10.3MB\n",
            "Optimizer stripped from runs/cls_s_70_15_15_ft153/weights/best.pt, 10.3MB\n",
            "\n",
            "Validating runs/cls_s_70_15_15_ft153/weights/best.pt...\n",
            "Ultralytics YOLOv8.2.103 🚀 Python-3.12.3 torch-2.8.0+cu128 CUDA:0 (NVIDIA GeForce RTX 5070 Ti Laptop GPU, 12227MiB)\n",
            "YOLOv8s-cls summary (fused): 73 layers, 5,077,762 parameters, 0 gradients, 12.4 GFLOPs\n",
            "\u001b[34m\u001b[1mtrain:\u001b[0m /home/liori/appendicitis_project/datasets_70_15_15/train... found 2482 images in 2 classes ✅ \n",
            "\u001b[34m\u001b[1mval:\u001b[0m /home/liori/appendicitis_project/datasets_70_15_15/val... found 1401 images in 2 classes ✅ \n",
            "\u001b[34m\u001b[1mtest:\u001b[0m /home/liori/appendicitis_project/datasets_70_15_15/test... found 1445 images in 2 classes ✅ \n"
          ]
        },
        {
          "name": "stderr",
          "output_type": "stream",
          "text": [
            "               classes   top1_acc   top5_acc: 100%|██████████| 22/22 [00:01<00:00, 13.24it/s]\n"
          ]
        },
        {
          "name": "stdout",
          "output_type": "stream",
          "text": [
            "                   all      0.981          1\n",
            "Speed: 0.1ms preprocess, 0.4ms inference, 0.0ms loss, 0.0ms postprocess per image\n",
            "Results saved to \u001b[1mruns/cls_s_70_15_15_ft153\u001b[0m\n",
            "Results saved to \u001b[1mruns/cls_s_70_15_15_ft153\u001b[0m\n",
            "Best weights: runs/cls_s_70_15_15_ft153/weights/best.pt\n"
          ]
        }
      ],
      "source": [
        "\n",
        "from ultralytics import YOLO\n",
        "from pathlib import Path\n",
        "\n",
        "DATA_DIR = str(NEW_ROOT)\n",
        "model = YOLO(\"yolov8s-cls.pt\")\n",
        "\n",
        "res1 = model.train(\n",
        "    data=DATA_DIR, epochs=EPOCHS_STAGE1, imgsz=IMG_SIZE, batch=BATCH, device=DEVICE,\n",
        "    amp=True, workers=4, auto_augment=\"randaugment\", erasing=0.5, dropout=0.2,\n",
        "    patience=10, project=\"runs\", name=f\"{RUN_NAME_BASE}_e{EPOCHS_STAGE1}\"\n",
        ")\n",
        "best1 = Path(res1.save_dir)/\"weights\"/\"best.pt\"\n",
        "\n",
        "res2 = YOLO(str(best1)).train(\n",
        "    data=DATA_DIR, epochs=EPOCHS_STAGE2, imgsz=IMG_SIZE, batch=BATCH, device=DEVICE,\n",
        "    amp=True, workers=4, lr0=5e-4, patience=7, project=\"runs\", name=f\"{RUN_NAME_BASE}_ft{EPOCHS_STAGE2}\"\n",
        ")\n",
        "BEST_WEIGHTS = str(Path(res2.save_dir)/\"weights\"/\"best.pt\")\n",
        "print(\"Best weights:\", BEST_WEIGHTS)\n"
      ]
    },
    {
      "cell_type": "code",
      "execution_count": 14,
      "id": "3c669e88",
      "metadata": {},
      "outputs": [
        {
          "name": "stdout",
          "output_type": "stream",
          "text": [
            "\n",
            "—— Training summary ——\n",
            "Stage 1: runs/cls_s_70_15_15_e203\n",
            "  epochs=20 | best_epoch=19 | top1=0.9822 | top5=1.0000 | val_loss=0.3396\n",
            "Stage 2: runs/cls_s_70_15_15_ft153\n",
            "  epochs=8 | best_epoch=0 | top1=0.9807 | top5=1.0000 | val_loss=0.3420\n",
            "\n",
            "Best weights: runs/cls_s_70_15_15_ft153/weights/best.pt\n",
            "\n",
            "Dataset summary:\n",
            "  train: {'Appendicitis': 1336, 'No_Appendicitis': 1146} | total=2482\n",
            "  val: {'Appendicitis': 744, 'No_Appendicitis': 657} | total=1401\n",
            "  test: {'Appendicitis': 782, 'No_Appendicitis': 663} | total=1445\n"
          ]
        }
      ],
      "source": [
        "# --- Training summary (stage 1 + stage 2) ---\n",
        "import pandas as pd, numpy as np\n",
        "from pathlib import Path\n",
        "\n",
        "def _find_col(df, keys):\n",
        "    for k in keys:\n",
        "        hits = [c for c in df.columns if k in c]\n",
        "        if hits:\n",
        "            return hits[0]\n",
        "    return None\n",
        "\n",
        "def summarize_run(run_dir: Path):\n",
        "    csv = Path(run_dir) / \"results.csv\"\n",
        "    if not csv.exists():\n",
        "        return None\n",
        "    df = pd.read_csv(csv)\n",
        "\n",
        "    # likely column names for YOLOv8-cls\n",
        "    top1  = _find_col(df, [\"metrics/accuracy_top1\", \"top1\"])\n",
        "    top5  = _find_col(df, [\"metrics/accuracy_top5\", \"top5\"])\n",
        "    vloss = _find_col(df, [\"val/loss\", \"val_loss\"])\n",
        "    tloss = _find_col(df, [\"train/loss\", \"loss\"])\n",
        "\n",
        "    if top1 and top1 in df:\n",
        "        best_idx = int(df[top1].idxmax())\n",
        "    elif vloss and vloss in df:\n",
        "        best_idx = int(df[vloss].idxmin())\n",
        "    else:\n",
        "        best_idx = len(df) - 1\n",
        "\n",
        "    best = df.loc[best_idx]\n",
        "    last = df.iloc[-1]\n",
        "\n",
        "    out = {\n",
        "        \"epochs_total\": int(df[\"epoch\"].iloc[-1]) + 1 if \"epoch\" in df else len(df),\n",
        "        \"best_epoch\":   int(best[\"epoch\"]) if \"epoch\" in df else best_idx,\n",
        "        \"best_top1\":    float(best[top1]) if top1 and top1 in df else None,\n",
        "        \"best_top5\":    float(best[top5]) if top5 and top5 in df else None,\n",
        "        \"best_val_loss\":float(best[vloss]) if vloss and vloss in df else None,\n",
        "        \"last_top1\":    float(last[top1]) if top1 and top1 in df else None,\n",
        "        \"last_val_loss\":float(last[vloss]) if vloss and vloss in df else None,\n",
        "        \"csv_path\":     str(csv),\n",
        "    }\n",
        "    return out\n",
        "\n",
        "s1 = summarize_run(res1.save_dir)\n",
        "s2 = summarize_run(res2.save_dir)\n",
        "\n",
        "print(\"\\n—— Training summary ——\")\n",
        "print(f\"Stage 1: {res1.save_dir}\")\n",
        "if s1:\n",
        "    print(f\"  epochs={s1['epochs_total']} | best_epoch={s1['best_epoch']} \"\n",
        "          f\"| top1={s1['best_top1']:.4f} \"\n",
        "          f\"{'' if s1['best_top5'] is None else f'| top5={s1['best_top5']:.4f}'} \"\n",
        "          f\"{'' if s1['best_val_loss'] is None else f'| val_loss={s1['best_val_loss']:.4f}'}\")\n",
        "else:\n",
        "    print(\"  (no results.csv)\")\n",
        "\n",
        "print(f\"Stage 2: {res2.save_dir}\")\n",
        "if s2:\n",
        "    print(f\"  epochs={s2['epochs_total']} | best_epoch={s2['best_epoch']} \"\n",
        "          f\"| top1={s2['best_top1']:.4f} \"\n",
        "          f\"{'' if s2['best_top5'] is None else f'| top5={s2['best_top5']:.4f}'} \"\n",
        "          f\"{'' if s2['best_val_loss'] is None else f'| val_loss={s2['best_val_loss']:.4f}'}\")\n",
        "else:\n",
        "    print(\"  (no results.csv)\")\n",
        "\n",
        "print(f\"\\nBest weights: {BEST_WEIGHTS}\")\n",
        "\n",
        "# (bonus) show dataset counts used\n",
        "from pathlib import Path\n",
        "def split_counts(root, split, classes=(\"Appendicitis\",\"No_Appendicitis\")):\n",
        "    root = Path(root) / split\n",
        "    if not root.exists(): \n",
        "        return {}\n",
        "    return {c: len(list((root/c).glob(\"*\"))) for c in classes}\n",
        "\n",
        "print(\"\\nDataset summary:\")\n",
        "for split in (\"train\",\"val\",\"test\"):\n",
        "    cnt = split_counts(DATA_DIR, split)\n",
        "    if cnt:\n",
        "        print(f\"  {split}: {cnt} | total={sum(cnt.values())}\")\n"
      ]
    },
    {
      "cell_type": "code",
      "execution_count": 8,
      "id": "7e0213ad",
      "metadata": {},
      "outputs": [
        {
          "name": "stdout",
          "output_type": "stream",
          "text": [
            "[scan weights] found: ['runs/cls_s_70_15_15_ft153/weights/best.pt', 'runs/cls_s_70_15_15_e203/weights/best.pt', 'runs/cls_s_70_15_15_ft152/weights/best.pt', 'runs/cls_s_70_15_15_e202/weights/best.pt', 'runs/cls_s_70_15_15_ft15/weights/best.pt']\n",
            "[use weights] runs/cls_s_70_15_15_ft153/weights/best.pt exists: True\n",
            "[sample img] datasets_70_15_15/val/Appendicitis/505.2 App_M.bmp\n",
            "[model task?] names type: <class 'dict'> | len: 2\n",
            "\n",
            "image 1/1 /home/liori/appendicitis_project/datasets_70_15_15/val/Appendicitis/505.2 App_M.bmp: 224x224 Appendicitis 0.91, No_Appendicitis 0.09, 5.2ms\n",
            "[result attrs] has probs: True | probs type: <class 'ultralytics.engine.results.Probs'>\n",
            "[probs len] 2 | first 5: ultralytics.engine.results.Probs object with attributes:\n",
            "\n",
            "data: tensor([0.9106, 0.0894], device='cuda:0')\n",
            "orig_shape: None\n",
            "shape: torch.Size([2])\n",
            "top1: 0\n",
            "top1conf: tensor(0.9106, device='cuda:0')\n",
            "top5: [0, 1]\n",
            "top5conf: tensor([0.9106, 0.0894], device='cuda:0')\n"
          ]
        }
      ],
      "source": [
        "from pathlib import Path\n",
        "import glob, os\n",
        "from ultralytics import YOLO\n",
        "\n",
        "SPLIT    = \"val\"         # or \"test\"\n",
        "DATA_DIR = \"datasets_70_15_15\"\n",
        "\n",
        "# 1) Find a plausible best.pt automatically if BEST_WEIGHTS is missing\n",
        "try:\n",
        "    WEIGHTS\n",
        "except NameError:\n",
        "    cands = sorted(glob.glob(\"runs/**/weights/best.pt\", recursive=True), key=os.path.getmtime, reverse=True)\n",
        "    print(\"[scan weights] found:\", cands[:5])\n",
        "    assert cands, \"No best.pt found under runs/**/weights/. Train cell not run yet?\"\n",
        "    WEIGHTS = cands[0]\n",
        "\n",
        "print(\"[use weights]\", WEIGHTS, \"exists:\", Path(WEIGHTS).exists())\n",
        "\n",
        "# 2) Grab one image to test\n",
        "from pathlib import Path\n",
        "CLASSES = [\"Appendicitis\",\"No_Appendicitis\"]\n",
        "ALLOWED = {\".jpg\",\".jpeg\",\".png\",\".bmp\",\".tif\",\".tiff\",\".webp\"}\n",
        "\n",
        "sample = None\n",
        "for cls in CLASSES:\n",
        "    d = Path(DATA_DIR)/SPLIT/cls\n",
        "    if d.is_dir():\n",
        "        pics = [f for f in d.glob(\"*\") if f.suffix.lower() in ALLOWED]\n",
        "        if pics:\n",
        "            sample = str(pics[0]); break\n",
        "print(\"[sample img]\", sample)\n",
        "\n",
        "# 3) Inspect the model and a single prediction\n",
        "m = YOLO(WEIGHTS)\n",
        "print(\"[model task?] names type:\", type(m.names), \"| len:\", (len(m.names) if hasattr(m, \"names\") else None))\n",
        "try:\n",
        "    res = next(m.predict(sample, stream=True, verbose=True))\n",
        "    print(\"[result attrs] has probs:\", hasattr(res, \"probs\"), \"| probs type:\", type(getattr(res, \"probs\", None)))\n",
        "    if hasattr(res, \"probs\") and res.probs is not None:\n",
        "        print(\"[probs len]\", len(res.probs), \"| first 5:\", res.probs[:5])\n",
        "    else:\n",
        "        print(\"[warn] res.probs is None -> this weights file is likely NOT a classification model\")\n",
        "except Exception as e:\n",
        "    print(\"[predict error]\", repr(e))\n"
      ]
    },
    {
      "cell_type": "code",
      "execution_count": 9,
      "id": "041cf7b1",
      "metadata": {},
      "outputs": [
        {
          "name": "stdout",
          "output_type": "stream",
          "text": [
            "[scan] val: {'Appendicitis': 744, 'No_Appendicitis': 657} | readable=1401\n",
            "[model] Appendicitis class index: 0\n",
            "[predict] kept=1401  failed=0\n",
            "[final] usable=1401 | positives=744 | negatives=657\n",
            "val: τ*=0.700 | No recall=0.993 | App recall=0.991\n"
          ]
        },
        {
          "data": {
            "text/plain": [
              "<Figure size 600x500 with 2 Axes>"
            ]
          },
          "metadata": {},
          "output_type": "display_data"
        }
      ],
      "source": [
        "# === One-shot: rebuild + sweep (per-image, no stream, bulletproof) ===\n",
        "import os, json, numpy as np, cv2, pandas as pd, matplotlib.pyplot as plt\n",
        "from pathlib import Path\n",
        "from ultralytics import YOLO\n",
        "from sklearn.metrics import classification_report, confusion_matrix, ConfusionMatrixDisplay\n",
        "\n",
        "# ---- set these for your run ----\n",
        "SPLIT    = \"val\"  # or \"test\"\n",
        "DATA_DIR = \"datasets_70_15_15\"\n",
        "WEIGHTS  = \"runs/cls_s_70_15_15_ft152/weights/best.pt\"  # your confirmed cls weights\n",
        "DEVICE   = 0   # set to 'cpu' if GPU is flaky\n",
        "IMG_SIZE = 224\n",
        "CLASSES  = [\"Appendicitis\", \"No_Appendicitis\"]\n",
        "ALLOWED  = {\".jpg\",\".jpeg\",\".png\",\".bmp\",\".tif\",\".tiff\",\".webp\"}\n",
        "def nrm(s): return s.lower().replace(\"_\",\"\").replace(\" \",\"\")\n",
        "\n",
        "# 0) clear stale caches for this split\n",
        "for p in [f\"{SPLIT}_scores_appendicitis.npy\", f\"{SPLIT}_y_true.npy\"]:\n",
        "    try: Path(p).unlink()\n",
        "    except FileNotFoundError: pass\n",
        "\n",
        "# 1) enumerate readable files (absolute paths)\n",
        "root = Path(DATA_DIR)\n",
        "assert (root/SPLIT).is_dir(), f\"Missing split dir: {root/SPLIT}\"\n",
        "rows = []\n",
        "counts = {}\n",
        "for cls in CLASSES:\n",
        "    d = root / SPLIT / cls\n",
        "    assert d.is_dir(), f\"Missing class dir: {d}\"\n",
        "    files = [f for f in d.glob(\"*\") if f.suffix.lower() in ALLOWED]\n",
        "    counts[cls] = len(files)\n",
        "    lab = 1 if nrm(cls)==\"appendicitis\" else 0\n",
        "    for f in files:\n",
        "        pabs = f.resolve()\n",
        "        img = cv2.imread(str(pabs), cv2.IMREAD_UNCHANGED)\n",
        "        if img is not None:\n",
        "            rows.append((str(pabs), lab))\n",
        "print(f\"[scan] {SPLIT}: {counts} | readable={len(rows)}\")\n",
        "assert rows, \"No readable images.\"\n",
        "\n",
        "# 2) init model and resolve class index once\n",
        "model = YOLO(WEIGHTS)\n",
        "names = getattr(model, \"names\", None)\n",
        "if isinstance(names, dict):\n",
        "    name_map = {i: nrm(v) for i, v in names.items()}\n",
        "    app_idx = [k for k,v in name_map.items() if v==\"appendicitis\"]\n",
        "    app_idx = app_idx[0] if app_idx else 0\n",
        "else:\n",
        "    app_idx = 0\n",
        "print(f\"[model] Appendicitis class index: {app_idx}\")\n",
        "\n",
        "# 3) predict one-by-one (no stream), collect aligned pairs\n",
        "pairs = []   # (score_app, label)\n",
        "fails = 0\n",
        "examples_logged = 0\n",
        "\n",
        "for pth, lab in rows:\n",
        "    try:\n",
        "        res_list = model.predict(pth, imgsz=IMG_SIZE, device=DEVICE, verbose=False)  # <- no stream\n",
        "        if not res_list or len(res_list) == 0:\n",
        "            fails += 1\n",
        "            if examples_logged < 5:\n",
        "                print(\"[fail] empty result for:\", pth)\n",
        "                examples_logged += 1\n",
        "            continue\n",
        "        res = res_list[0]\n",
        "        # Some builds require .data; standardize to scalar\n",
        "        score = res.probs[app_idx]\n",
        "        try:\n",
        "            score = float(score)\n",
        "        except Exception:\n",
        "            # try .data path\n",
        "            score = float(getattr(res.probs, \"data\")[app_idx].item())\n",
        "        if np.isfinite(score):\n",
        "            pairs.append((score, lab))\n",
        "        else:\n",
        "            fails += 1\n",
        "            if examples_logged < 5:\n",
        "                print(\"[fail] non-finite score for:\", pth)\n",
        "                examples_logged += 1\n",
        "    except Exception as e:\n",
        "        fails += 1\n",
        "        if examples_logged < 5:\n",
        "            print(\"[fail] predict error:\", pth, \"|\", repr(e))\n",
        "            examples_logged += 1\n",
        "\n",
        "print(f\"[predict] kept={len(pairs)}  failed={fails}\")\n",
        "assert len(pairs) > 0, \"No usable predictions. If this persists, set DEVICE='cpu' and re-run.\"\n",
        "\n",
        "# 4) unpack pairs → aligned arrays\n",
        "scores = np.array([s for s, _ in pairs], dtype=float)\n",
        "y_true = np.array([y for _, y in pairs], dtype=int).tolist()\n",
        "print(f\"[final] usable={len(scores)} | positives={sum(y_true)} | negatives={len(y_true)-sum(y_true)}\")\n",
        "\n",
        "# 5) save caches\n",
        "np.save(f\"{SPLIT}_scores_appendicitis.npy\", scores)\n",
        "np.save(f\"{SPLIT}_y_true.npy\", np.array(y_true, dtype=int))\n",
        "\n",
        "# 6) sweep threshold with guardrail\n",
        "grid = np.arange(0.70, 0.90, 0.0025)\n",
        "best = None\n",
        "for t in grid:\n",
        "    y_pred = [1 if s >= t else 0 for s in scores]  # 1=Appendicitis, 0=No\n",
        "    rpt = classification_report(\n",
        "        y_true, y_pred,\n",
        "        labels=[0,1], target_names=CLASSES,\n",
        "        output_dict=True, zero_division=0\n",
        "    )\n",
        "    app_rec = rpt[\"Appendicitis\"][\"recall\"]; no_rec = rpt[\"No_Appendicitis\"][\"recall\"]\n",
        "    if app_rec >= 0.90 and (best is None or no_rec > best[0]):\n",
        "        best = (no_rec, float(t), rpt, y_pred)\n",
        "\n",
        "if best is None:\n",
        "    for t in grid:\n",
        "        y_pred = [1 if s >= t else 0 for s in scores]\n",
        "        rpt = classification_report(\n",
        "            y_true, y_pred, labels=[0,1], target_names=CLASSES,\n",
        "            output_dict=True, zero_division=0\n",
        "        )\n",
        "        no_rec = rpt[\"No_Appendicitis\"][\"recall\"]\n",
        "        if (best is None) or (no_rec > best[0]):\n",
        "            best = (no_rec, float(t), rpt, y_pred)\n",
        "\n",
        "BEST_TAU, rpt_best, y_pred_best = best[1], best[2], best[3]\n",
        "print(f\"{SPLIT}: τ*={BEST_TAU:.3f} | No recall={rpt_best['No_Appendicitis']['recall']:.3f} | App recall={rpt_best['Appendicitis']['recall']:.3f}\")\n",
        "\n",
        "Path(\"inference_config.json\").write_text(json.dumps({\"BEST_TAU\": float(BEST_TAU)}, indent=2))\n",
        "cm = confusion_matrix(y_true, y_pred_best, labels=[0,1])\n",
        "ConfusionMatrixDisplay(cm, display_labels=CLASSES).plot(values_format='d', colorbar=True)\n",
        "plt.title(f\"{SPLIT.upper()} Confusion Matrix @ τ={BEST_TAU:.3f}\")\n",
        "plt.tight_layout(); plt.show()\n"
      ]
    },
    {
      "cell_type": "markdown",
      "metadata": {},
      "source": [
        "## Prepare scores/y_true for a chosen split (val or test)"
      ]
    },
    {
      "cell_type": "code",
      "execution_count": 10,
      "metadata": {},
      "outputs": [
        {
          "name": "stdout",
          "output_type": "stream",
          "text": [
            "[prep] kept=1401  failed=0\n",
            "Saved val_scores_appendicitis.npy / val_y_true.npy | n=1401\n"
          ]
        }
      ],
      "source": [
        "# === Prepare scores/y_true without stream (robust) ===\n",
        "import numpy as np, cv2, pandas as pd\n",
        "from pathlib import Path\n",
        "from ultralytics import YOLO\n",
        "\n",
        "# --- set these explicitly ---\n",
        "SPLIT    = \"val\"  # or \"test\"\n",
        "DATA_DIR = \"datasets_70_15_15\"\n",
        "WEIGHTS  = \"runs/cls_s_70_15_15_ft152/weights/best.pt\"  # <- use the path you just confirmed works\n",
        "DEVICE   = 0      # or 'cpu' if GPU is cranky\n",
        "IMG_SIZE = 224\n",
        "CLASSES  = [\"Appendicitis\", \"No_Appendicitis\"]\n",
        "ALLOWED  = {\".jpg\",\".jpeg\",\".png\",\".bmp\",\".tif\",\".tiff\",\".webp\"}\n",
        "def nrm(s): return s.lower().replace(\"_\",\"\").replace(\" \",\"\")\n",
        "# ----------------------------\n",
        "\n",
        "root = Path(DATA_DIR)\n",
        "assert (root/SPLIT).is_dir(), f\"Missing split dir: {root/SPLIT}\"\n",
        "\n",
        "# collect readable files with labels\n",
        "rows = []\n",
        "for cls in CLASSES:\n",
        "    d = root / SPLIT / cls\n",
        "    assert d.is_dir(), f\"Missing class dir: {d}\"\n",
        "    files = [f for f in d.glob(\"*\") if f.suffix.lower() in ALLOWED]\n",
        "    lab = 1 if nrm(cls) == \"appendicitis\" else 0\n",
        "    for f in files:\n",
        "        img = cv2.imread(str(f), cv2.IMREAD_UNCHANGED)\n",
        "        if img is not None:\n",
        "            rows.append((str(f.resolve()), lab))\n",
        "assert rows, \"No readable images.\"\n",
        "\n",
        "# init model and resolve Appendicitis index once\n",
        "model = YOLO(WEIGHTS)\n",
        "names = getattr(model, \"names\", None)\n",
        "if isinstance(names, dict):\n",
        "    app_idx = [i for i, v in names.items() if nrm(v) == \"appendicitis\"]\n",
        "    app_idx = app_idx[0] if app_idx else 0\n",
        "else:\n",
        "    app_idx = 0\n",
        "\n",
        "# predict one-by-one (no stream); collect aligned (score,label) pairs\n",
        "pairs, fails = [], 0\n",
        "for pth, lab in rows:\n",
        "    try:\n",
        "        res_list = model.predict(pth, imgsz=IMG_SIZE, device=DEVICE, verbose=False)  # NO stream\n",
        "        if not res_list:\n",
        "            fails += 1; continue\n",
        "        res = res_list[0]\n",
        "        # standardize to float\n",
        "        score = res.probs[app_idx]\n",
        "        try:\n",
        "            score = float(score)\n",
        "        except Exception:\n",
        "            score = float(getattr(res.probs, \"data\")[app_idx].item())\n",
        "        if np.isfinite(score):\n",
        "            pairs.append((score, lab))\n",
        "        else:\n",
        "            fails += 1\n",
        "    except Exception:\n",
        "        fails += 1\n",
        "\n",
        "print(f\"[prep] kept={len(pairs)}  failed={fails}\")\n",
        "assert pairs, \"No usable predictions. If needed, set DEVICE='cpu' and rerun.\"\n",
        "\n",
        "# unpack to aligned arrays and save\n",
        "scores = np.array([s for s, _ in pairs], float)\n",
        "y_true = np.array([y for _, y in pairs], int)\n",
        "np.save(f\"{SPLIT}_scores_appendicitis.npy\", scores)\n",
        "np.save(f\"{SPLIT}_y_true.npy\", y_true)\n",
        "print(f\"Saved {SPLIT}_scores_appendicitis.npy / {SPLIT}_y_true.npy | n={len(scores)}\")\n"
      ]
    },
    {
      "cell_type": "markdown",
      "metadata": {},
      "source": [
        "## Threshold sweep (split-aware, guardrail on Appendicitis recall ≥ 0.90)"
      ]
    },
    {
      "cell_type": "code",
      "execution_count": 11,
      "metadata": {},
      "outputs": [
        {
          "name": "stdout",
          "output_type": "stream",
          "text": [
            "Loaded: 1401 1401\n",
            "val: τ*=0.700 | No recall=0.993 | App recall=0.991\n"
          ]
        },
        {
          "data": {
            "text/plain": [
              "<Figure size 600x500 with 2 Axes>"
            ]
          },
          "metadata": {},
          "output_type": "display_data"
        }
      ],
      "source": [
        "\n",
        "import numpy as np, json\n",
        "from pathlib import Path\n",
        "from sklearn.metrics import classification_report, confusion_matrix, ConfusionMatrixDisplay\n",
        "import matplotlib.pyplot as plt\n",
        "\n",
        "SPLIT = \"val\"\n",
        "CLASSES = [\"Appendicitis\", \"No_Appendicitis\"]\n",
        "\n",
        "scores = np.load(f\"{SPLIT}_scores_appendicitis.npy\")\n",
        "y_true = np.load(f\"{SPLIT}_y_true.npy\").astype(int).tolist()\n",
        "\n",
        "print(\"Loaded:\", len(scores), len(y_true))\n",
        "assert len(scores)==len(y_true) and len(scores)>0\n",
        "\n",
        "grid = np.arange(0.70, 0.90, 0.0025)\n",
        "best = None\n",
        "for t in grid:\n",
        "    y_pred = [1 if s >= t else 0 for s in scores]  # 1=App, 0=No\n",
        "    rpt = classification_report(\n",
        "        y_true, y_pred,\n",
        "        labels=[0,1], target_names=CLASSES,\n",
        "        output_dict=True, zero_division=0\n",
        "    )\n",
        "    app_rec = rpt[\"Appendicitis\"][\"recall\"]; no_rec = rpt[\"No_Appendicitis\"][\"recall\"]\n",
        "    if app_rec >= 0.90 and (best is None or no_rec > best[0]):\n",
        "        best = (no_rec, float(t), rpt, y_pred)\n",
        "\n",
        "if best is None:\n",
        "    for t in grid:\n",
        "        y_pred = [1 if s >= t else 0 for s in scores]\n",
        "        rpt = classification_report(\n",
        "            y_true, y_pred, labels=[0,1], target_names=CLASSES,\n",
        "            output_dict=True, zero_division=0\n",
        "        )\n",
        "        no_rec = rpt[\"No_Appendicitis\"][\"recall\"]\n",
        "        if (best is None) or (no_rec > best[0]):\n",
        "            best = (no_rec, float(t), rpt, y_pred)\n",
        "\n",
        "BEST_TAU, rpt_best, y_pred_best = best[1], best[2], best[3]\n",
        "print(f\"{SPLIT}: τ*={BEST_TAU:.3f} | No recall={rpt_best['No_Appendicitis']['recall']:.3f} | App recall={rpt_best['Appendicitis']['recall']:.3f}\")\n",
        "\n",
        "Path(\"inference_config.json\").write_text(json.dumps({\"BEST_TAU\": float(BEST_TAU)}, indent=2))\n",
        "\n",
        "cm = confusion_matrix(y_true, y_pred_best, labels=[0,1])\n",
        "ConfusionMatrixDisplay(cm, display_labels=CLASSES).plot(values_format='d', colorbar=True)\n",
        "plt.title(f\"{SPLIT.upper()} Confusion Matrix @ τ={BEST_TAU:.3f}\")\n",
        "plt.tight_layout(); plt.show()\n"
      ]
    },
    {
      "cell_type": "markdown",
      "id": "f72ba7cd",
      "metadata": {},
      "source": [
        "# Summary"
      ]
    },
    {
      "cell_type": "code",
      "execution_count": 12,
      "id": "8ae95801",
      "metadata": {},
      "outputs": [
        {
          "name": "stdout",
          "output_type": "stream",
          "text": [
            "                 precision    recall  f1-score   support\n",
            "\n",
            "   Appendicitis       0.99      0.99      0.99       744\n",
            "No_Appendicitis       0.99      0.99      0.99       657\n",
            "\n",
            "       accuracy                           0.99      1401\n",
            "      macro avg       0.99      0.99      0.99      1401\n",
            "   weighted avg       0.99      0.99      0.99      1401\n",
            "\n"
          ]
        },
        {
          "data": {
            "image/png": "[encoded data removed]",
            "text/plain": [
              "<Figure size 550x500 with 2 Axes>"
            ]
          },
          "metadata": {},
          "output_type": "display_data"
        }
      ],
      "source": [
        "# === Show confusion matrix for a split at a fixed τ (no helpers) ===\n",
        "%matplotlib inline\n",
        "import json, numpy as np\n",
        "from pathlib import Path\n",
        "from sklearn.metrics import classification_report, confusion_matrix, ConfusionMatrixDisplay\n",
        "import matplotlib.pyplot as plt\n",
        "\n",
        "SPLIT   = \"val\"  # or \"test\"\n",
        "CLASSES = [\"Appendicitis\",\"No_Appendicitis\"]\n",
        "\n",
        "# load tau chosen on VAL\n",
        "BEST_TAU = json.loads(Path(\"inference_config.json\").read_text())[\"BEST_TAU\"]\n",
        "\n",
        "# load arrays for the chosen split (make sure you've run the prep cell for this split)\n",
        "scores = np.load(f\"{SPLIT}_scores_appendicitis.npy\")\n",
        "y_true = np.load(f\"{SPLIT}_y_true.npy\").astype(int)\n",
        "\n",
        "# binarize and print report\n",
        "y_pred = (scores >= BEST_TAU).astype(int)\n",
        "print(\n",
        "    classification_report(\n",
        "        y_true, y_pred, labels=[1,0], target_names=CLASSES, digits=2, zero_division=0\n",
        "    )\n",
        ")\n",
        "\n",
        "# draw confusion matrix inline\n",
        "cm = confusion_matrix(y_true, y_pred, labels=[1,0])\n",
        "disp = ConfusionMatrixDisplay(cm, display_labels=CLASSES)\n",
        "fig, ax = plt.subplots(figsize=(5.5, 5))\n",
        "disp.plot(ax=ax, values_format=\"d\", colorbar=True)\n",
        "ax.set_title(f\"{SPLIT.upper()} Confusion Matrix @ τ={BEST_TAU:.3f}\")\n",
        "plt.tight_layout()\n",
        "plt.show()\n"
      ]
    },
    {
      "cell_type": "code",
      "execution_count": 13,
      "id": "d8d3950c",
      "metadata": {},
      "outputs": [
        {
          "name": "stdout",
          "output_type": "stream",
          "text": [
            "{'accuracy': 0.9911, 'recall_App': 0.9934, 'recall_No': 0.9885, 'precision_App': 0.9901, 'precision_No': 0.9923}\n"
          ]
        }
      ],
      "source": [
        "# sanity-check from the confusion matrix counts\n",
        "TP_app, FN_app = 601, 4\n",
        "FP_app, TN_app = 6, 517  # FP_app is No→App; TN_app is No→No\n",
        "total = TP_app + FN_app + FP_app + TN_app\n",
        "\n",
        "acc = (TP_app + TN_app) / total\n",
        "rec_app = TP_app / (TP_app + FN_app)\n",
        "rec_no  = TN_app / (TN_app + FP_app)\n",
        "prec_app = TP_app / (TP_app + FP_app)\n",
        "prec_no  = TN_app / (TN_app + FN_app)\n",
        "\n",
        "print({\n",
        "    \"accuracy\": round(acc, 4),\n",
        "    \"recall_App\": round(rec_app, 4),\n",
        "    \"recall_No\": round(rec_no, 4),\n",
        "    \"precision_App\": round(prec_app, 4),\n",
        "    \"precision_No\": round(prec_no, 4),\n",
        "})\n"
      ]
    }
  ],
  "metadata": {
    "kernelspec": {
      "display_name": ".venv (3.12.3)",
      "language": "python",
      "name": "python3"
    },
    "language_info": {
      "codemirror_mode": {
        "name": "ipython",
        "version": 3
      },
      "file_extension": ".py",
      "mimetype": "text/x-python",
      "name": "python",
      "nbconvert_exporter": "python",
      "pygments_lexer": "ipython3",
      "version": "3.12.3"
    }
  },
  "nbformat": 4,
  "nbformat_minor": 5
}
