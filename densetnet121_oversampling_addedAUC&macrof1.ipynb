{
  "cells": [
    {
      "cell_type": "code",
      "source": [
        "# Cell 0\n",
        "!pip -q install --upgrade tensorflow keras\n",
        "\n",
        "import os, numpy as np, pandas as pd, matplotlib.pyplot as plt, seaborn as sns\n",
        "import tensorflow as tf\n",
        "from tensorflow import keras\n",
        "from tensorflow.keras import layers\n",
        "from sklearn.model_selection import train_test_split\n",
        "\n",
        "np.random.seed(42); tf.random.set_seed(42)\n",
        "\n",
        "print(\"TF:\", tf.__version__)\n",
        "print(\"GPU:\", tf.config.list_physical_devices('GPU'))\n",
        "\n",
        "from google.colab import drive\n",
        "drive.mount('/content/drive')\n"
      ],
      "metadata": {
        "colab": {
          "base_uri": "https://localhost:8080/"
        },
        "id": "ToR6VvDJSHmL",
        "outputId": "41bb6350-957c-4b86-fa78-cb20aea265fe"
      },
      "id": "ToR6VvDJSHmL",
      "execution_count": 1,
      "outputs": [
        {
          "output_type": "stream",
          "name": "stdout",
          "text": [
            "\u001b[2K   \u001b[90m━━━━━━━━━━━━━━━━━━━━━━━━━━━━━━━━━━━━━━━━\u001b[0m \u001b[32m620.7/620.7 MB\u001b[0m \u001b[31m2.8 MB/s\u001b[0m eta \u001b[36m0:00:00\u001b[0m\n",
            "\u001b[2K   \u001b[90m━━━━━━━━━━━━━━━━━━━━━━━━━━━━━━━━━━━━━━━━\u001b[0m \u001b[32m1.4/1.4 MB\u001b[0m \u001b[31m33.0 MB/s\u001b[0m eta \u001b[36m0:00:00\u001b[0m\n",
            "\u001b[2K   \u001b[90m━━━━━━━━━━━━━━━━━━━━━━━━━━━━━━━━━━━━━━━━\u001b[0m \u001b[32m5.5/5.5 MB\u001b[0m \u001b[31m63.7 MB/s\u001b[0m eta \u001b[36m0:00:00\u001b[0m\n",
            "\u001b[?25h\u001b[31mERROR: pip's dependency resolver does not currently take into account all the packages that are installed. This behaviour is the source of the following dependency conflicts.\n",
            "tensorflow-text 2.19.0 requires tensorflow<2.20,>=2.19.0, but you have tensorflow 2.20.0 which is incompatible.\n",
            "tf-keras 2.19.0 requires tensorflow<2.20,>=2.19, but you have tensorflow 2.20.0 which is incompatible.\n",
            "tensorflow-decision-forests 1.12.0 requires tensorflow==2.19.0, but you have tensorflow 2.20.0 which is incompatible.\u001b[0m\u001b[31m\n",
            "\u001b[0mTF: 2.20.0\n",
            "GPU: [PhysicalDevice(name='/physical_device:GPU:0', device_type='GPU')]\n",
            "Mounted at /content/drive\n"
          ]
        }
      ]
    },
    {
      "cell_type": "code",
      "source": [
        "# Cell 1\n",
        "BASE_DIR = \"/content/drive/MyDrive/Images/Images\"\n",
        "POS_DIR  = os.path.join(BASE_DIR, \"Appendicitis_Images\")       # label 1\n",
        "NEG_DIR  = os.path.join(BASE_DIR, \"No_Appendicitis_Images\")    # label 0\n",
        "\n",
        "def list_images(d):\n",
        "    if not os.path.isdir(d): return []\n",
        "    exts = (\".bmp\",\".jpg\",\".jpeg\",\".png\")\n",
        "    return [os.path.join(d,f) for f in os.listdir(d) if f.lower().endswith(exts)]\n",
        "\n",
        "pos_files = sorted(list_images(POS_DIR))\n",
        "neg_files = sorted(list_images(NEG_DIR))\n",
        "\n",
        "print(\"pos:\", len(pos_files), \"| neg:\", len(neg_files))\n",
        "assert len(pos_files)+len(neg_files) > 0, \"No images found. Check paths.\"\n"
      ],
      "metadata": {
        "colab": {
          "base_uri": "https://localhost:8080/"
        },
        "id": "cB_3HCxNSHop",
        "outputId": "12779fff-9b34-4908-ca77-5c76219bfa6f"
      },
      "id": "cB_3HCxNSHop",
      "execution_count": 2,
      "outputs": [
        {
          "output_type": "stream",
          "name": "stdout",
          "text": [
            "pos: 1339 | neg: 382\n"
          ]
        }
      ]
    },
    {
      "cell_type": "code",
      "source": [
        "# Cell 2\n",
        "all_files  = np.array(pos_files + neg_files)\n",
        "all_labels = np.array([1]*len(pos_files) + [0]*len(neg_files))\n",
        "\n",
        "X_train, X_temp, y_train, y_temp = train_test_split(\n",
        "    all_files, all_labels, test_size=0.30, random_state=42, stratify=all_labels\n",
        ")\n",
        "X_val, X_test, y_val, y_test = train_test_split(\n",
        "    X_temp, y_temp, test_size=0.50, random_state=42, stratify=y_temp\n",
        ")\n",
        "\n",
        "def bincount_info(y, name):\n",
        "    unique, counts = np.unique(y, return_counts=True)\n",
        "    d = dict(zip(unique, counts))\n",
        "    print(f\"{name} -> class0:{d.get(0,0)}  class1:{d.get(1,0)}  total:{len(y)}\")\n",
        "\n",
        "bincount_info(y_train, \"Train (before OS)\")\n",
        "bincount_info(y_val,   \"Val\")\n",
        "bincount_info(y_test,  \"Test\")\n"
      ],
      "metadata": {
        "colab": {
          "base_uri": "https://localhost:8080/"
        },
        "id": "HgxlX9IHSHrA",
        "outputId": "c6aa3ad3-bd9a-4adf-f8f4-0a7285fa856a"
      },
      "id": "HgxlX9IHSHrA",
      "execution_count": 3,
      "outputs": [
        {
          "output_type": "stream",
          "name": "stdout",
          "text": [
            "Train (before OS) -> class0:267  class1:937  total:1204\n",
            "Val -> class0:57  class1:201  total:258\n",
            "Test -> class0:58  class1:201  total:259\n"
          ]
        }
      ]
    },
    {
      "cell_type": "code",
      "source": [
        "# Cell 3\n",
        "rng = np.random.default_rng(42)\n",
        "idx_pos = np.where(y_train == 1)[0]\n",
        "idx_neg = np.where(y_train == 0)[0]\n",
        "n_pos, n_neg = len(idx_pos), len(idx_neg)\n",
        "n_major = max(n_pos, n_neg)\n",
        "\n",
        "idx_pos_os = rng.choice(idx_pos, size=n_major, replace=True) if n_pos < n_major else idx_pos\n",
        "idx_neg_os = rng.choice(idx_neg, size=n_major, replace=True) if n_neg < n_major else idx_neg\n",
        "\n",
        "idx_os = np.concatenate([idx_pos_os, idx_neg_os])\n",
        "rng.shuffle(idx_os)\n",
        "\n",
        "X_train_os = X_train[idx_os]\n",
        "y_train_os = y_train[idx_os]\n",
        "\n",
        "bincount_info(y_train,    \"Train  (before OS)\")\n",
        "bincount_info(y_train_os, \"Train* (after  OS)\")\n"
      ],
      "metadata": {
        "colab": {
          "base_uri": "https://localhost:8080/"
        },
        "id": "9npAHCh_SHtB",
        "outputId": "c9d642d1-add8-4df5-fe6c-d3efe6d99140"
      },
      "id": "9npAHCh_SHtB",
      "execution_count": 4,
      "outputs": [
        {
          "output_type": "stream",
          "name": "stdout",
          "text": [
            "Train  (before OS) -> class0:267  class1:937  total:1204\n",
            "Train* (after  OS) -> class0:937  class1:937  total:1874\n"
          ]
        }
      ]
    },
    {
      "cell_type": "code",
      "source": [
        "# Cell 4\n",
        "IMG_SIZE = (224, 224)\n",
        "BATCH    = 16\n",
        "\n",
        "AUTOTUNE = tf.data.AUTOTUNE\n",
        "\n",
        "def parse_example(path, label):\n",
        "    img_bytes = tf.io.read_file(path)\n",
        "    img = tf.image.decode_image(img_bytes, channels=3, expand_animations=False)\n",
        "    img = tf.image.resize(img, IMG_SIZE)\n",
        "    img = tf.cast(img, tf.float32) / 255.0\n",
        "    label = tf.cast(label, tf.float32)\n",
        "    label = tf.reshape(label, [1])  # <- ensures (batch,1) later (fixes F1 2D requirement)\n",
        "    return img, label\n",
        "\n",
        "def make_ds(paths, labels, training=False):\n",
        "    ds = tf.data.Dataset.from_tensor_slices((paths, labels))\n",
        "    if training:\n",
        "        ds = ds.shuffle(buffer_size=min(len(paths), 2000), reshuffle_each_iteration=True)\n",
        "    ds = ds.map(parse_example, num_parallel_calls=AUTOTUNE)\n",
        "    ds = ds.batch(BATCH, drop_remainder=False)\n",
        "    ds = ds.prefetch(AUTOTUNE)   # no .cache() -> keeps RAM usage low\n",
        "    return ds\n",
        "\n",
        "train_ds = make_ds(X_train_os, y_train_os, training=True)\n",
        "val_ds   = make_ds(X_val,      y_val,      training=False)\n",
        "test_ds  = make_ds(X_test,     y_test,     training=False)\n",
        "\n",
        "for xb, yb in train_ds.take(1):\n",
        "    print(\"Batch shapes:\", xb.shape, yb.shape)\n"
      ],
      "metadata": {
        "colab": {
          "base_uri": "https://localhost:8080/"
        },
        "id": "YEgcHr6zSHvn",
        "outputId": "48d4896a-4eac-4663-f6a0-974d4f0f9cbf"
      },
      "id": "YEgcHr6zSHvn",
      "execution_count": 5,
      "outputs": [
        {
          "output_type": "stream",
          "name": "stdout",
          "text": [
            "Batch shapes: (16, 224, 224, 3) (16, 1)\n"
          ]
        }
      ]
    },
    {
      "cell_type": "code",
      "source": [
        "# Cell 5\n",
        "from tensorflow.keras.applications import DenseNet121\n",
        "from keras.metrics import F1Score  # Keras 3 metric\n",
        "\n",
        "def build_model(input_shape=(224,224,3)):\n",
        "    base = DenseNet121(weights=\"imagenet\", include_top=False, input_shape=input_shape)\n",
        "    base.trainable = False\n",
        "    model = keras.Sequential([\n",
        "        layers.Input(shape=input_shape),\n",
        "        base,\n",
        "        layers.GlobalAveragePooling2D(),\n",
        "        layers.BatchNormalization(),\n",
        "        layers.Dense(512, activation='relu'),\n",
        "        layers.Dropout(0.5),\n",
        "        layers.Dense(256, activation='relu'),\n",
        "        layers.Dropout(0.3),\n",
        "        layers.Dense(1, activation='sigmoid')\n",
        "    ])\n",
        "    model.compile(\n",
        "        optimizer=keras.optimizers.Adam(1e-3),\n",
        "        loss=\"binary_crossentropy\",\n",
        "        metrics=[\n",
        "            \"accuracy\",\n",
        "            keras.metrics.Precision(name=\"precision\"),\n",
        "            keras.metrics.Recall(name=\"recall\"),\n",
        "            F1Score(name=\"f1\", threshold=0.5, average=\"micro\"),\n",
        "        ],\n",
        "    )\n",
        "    return model\n",
        "\n",
        "model = build_model()\n",
        "model.summary()\n"
      ],
      "metadata": {
        "colab": {
          "base_uri": "https://localhost:8080/",
          "height": 448
        },
        "id": "ef-cglqNSHyG",
        "outputId": "67125b51-bbea-4409-b8ae-0a4f18b9a2b0"
      },
      "id": "ef-cglqNSHyG",
      "execution_count": 6,
      "outputs": [
        {
          "output_type": "stream",
          "name": "stdout",
          "text": [
            "Downloading data from https://storage.googleapis.com/tensorflow/keras-applications/densenet/densenet121_weights_tf_dim_ordering_tf_kernels_notop.h5\n",
            "\u001b[1m29084464/29084464\u001b[0m \u001b[32m━━━━━━━━━━━━━━━━━━━━\u001b[0m\u001b[37m\u001b[0m \u001b[1m0s\u001b[0m 0us/step\n"
          ]
        },
        {
          "output_type": "display_data",
          "data": {
            "text/plain": [
              "\u001b[1mModel: \"sequential\"\u001b[0m\n"
            ],
            "text/html": [
              "<pre style=\"white-space:pre;overflow-x:auto;line-height:normal;font-family:Menlo,'DejaVu Sans Mono',consolas,'Courier New',monospace\"><span style=\"font-weight: bold\">Model: \"sequential\"</span>\n",
              "</pre>\n"
            ]
          },
          "metadata": {}
        },
        {
          "output_type": "display_data",
          "data": {
            "text/plain": [
              "┏━━━━━━━━━━━━━━━━━━━━━━━━━━━━━━━━━┳━━━━━━━━━━━━━━━━━━━━━━━━┳━━━━━━━━━━━━━━━┓\n",
              "┃\u001b[1m \u001b[0m\u001b[1mLayer (type)                   \u001b[0m\u001b[1m \u001b[0m┃\u001b[1m \u001b[0m\u001b[1mOutput Shape          \u001b[0m\u001b[1m \u001b[0m┃\u001b[1m \u001b[0m\u001b[1m      Param #\u001b[0m\u001b[1m \u001b[0m┃\n",
              "┡━━━━━━━━━━━━━━━━━━━━━━━━━━━━━━━━━╇━━━━━━━━━━━━━━━━━━━━━━━━╇━━━━━━━━━━━━━━━┩\n",
              "│ densenet121 (\u001b[38;5;33mFunctional\u001b[0m)        │ (\u001b[38;5;45mNone\u001b[0m, \u001b[38;5;34m7\u001b[0m, \u001b[38;5;34m7\u001b[0m, \u001b[38;5;34m1024\u001b[0m)     │     \u001b[38;5;34m7,037,504\u001b[0m │\n",
              "├─────────────────────────────────┼────────────────────────┼───────────────┤\n",
              "│ global_average_pooling2d        │ (\u001b[38;5;45mNone\u001b[0m, \u001b[38;5;34m1024\u001b[0m)           │             \u001b[38;5;34m0\u001b[0m │\n",
              "│ (\u001b[38;5;33mGlobalAveragePooling2D\u001b[0m)        │                        │               │\n",
              "├─────────────────────────────────┼────────────────────────┼───────────────┤\n",
              "│ batch_normalization             │ (\u001b[38;5;45mNone\u001b[0m, \u001b[38;5;34m1024\u001b[0m)           │         \u001b[38;5;34m4,096\u001b[0m │\n",
              "│ (\u001b[38;5;33mBatchNormalization\u001b[0m)            │                        │               │\n",
              "├─────────────────────────────────┼────────────────────────┼───────────────┤\n",
              "│ dense (\u001b[38;5;33mDense\u001b[0m)                   │ (\u001b[38;5;45mNone\u001b[0m, \u001b[38;5;34m512\u001b[0m)            │       \u001b[38;5;34m524,800\u001b[0m │\n",
              "├─────────────────────────────────┼────────────────────────┼───────────────┤\n",
              "│ dropout (\u001b[38;5;33mDropout\u001b[0m)               │ (\u001b[38;5;45mNone\u001b[0m, \u001b[38;5;34m512\u001b[0m)            │             \u001b[38;5;34m0\u001b[0m │\n",
              "├─────────────────────────────────┼────────────────────────┼───────────────┤\n",
              "│ dense_1 (\u001b[38;5;33mDense\u001b[0m)                 │ (\u001b[38;5;45mNone\u001b[0m, \u001b[38;5;34m256\u001b[0m)            │       \u001b[38;5;34m131,328\u001b[0m │\n",
              "├─────────────────────────────────┼────────────────────────┼───────────────┤\n",
              "│ dropout_1 (\u001b[38;5;33mDropout\u001b[0m)             │ (\u001b[38;5;45mNone\u001b[0m, \u001b[38;5;34m256\u001b[0m)            │             \u001b[38;5;34m0\u001b[0m │\n",
              "├─────────────────────────────────┼────────────────────────┼───────────────┤\n",
              "│ dense_2 (\u001b[38;5;33mDense\u001b[0m)                 │ (\u001b[38;5;45mNone\u001b[0m, \u001b[38;5;34m1\u001b[0m)              │           \u001b[38;5;34m257\u001b[0m │\n",
              "└─────────────────────────────────┴────────────────────────┴───────────────┘\n"
            ],
            "text/html": [
              "<pre style=\"white-space:pre;overflow-x:auto;line-height:normal;font-family:Menlo,'DejaVu Sans Mono',consolas,'Courier New',monospace\">┏━━━━━━━━━━━━━━━━━━━━━━━━━━━━━━━━━┳━━━━━━━━━━━━━━━━━━━━━━━━┳━━━━━━━━━━━━━━━┓\n",
              "┃<span style=\"font-weight: bold\"> Layer (type)                    </span>┃<span style=\"font-weight: bold\"> Output Shape           </span>┃<span style=\"font-weight: bold\">       Param # </span>┃\n",
              "┡━━━━━━━━━━━━━━━━━━━━━━━━━━━━━━━━━╇━━━━━━━━━━━━━━━━━━━━━━━━╇━━━━━━━━━━━━━━━┩\n",
              "│ densenet121 (<span style=\"color: #0087ff; text-decoration-color: #0087ff\">Functional</span>)        │ (<span style=\"color: #00d7ff; text-decoration-color: #00d7ff\">None</span>, <span style=\"color: #00af00; text-decoration-color: #00af00\">7</span>, <span style=\"color: #00af00; text-decoration-color: #00af00\">7</span>, <span style=\"color: #00af00; text-decoration-color: #00af00\">1024</span>)     │     <span style=\"color: #00af00; text-decoration-color: #00af00\">7,037,504</span> │\n",
              "├─────────────────────────────────┼────────────────────────┼───────────────┤\n",
              "│ global_average_pooling2d        │ (<span style=\"color: #00d7ff; text-decoration-color: #00d7ff\">None</span>, <span style=\"color: #00af00; text-decoration-color: #00af00\">1024</span>)           │             <span style=\"color: #00af00; text-decoration-color: #00af00\">0</span> │\n",
              "│ (<span style=\"color: #0087ff; text-decoration-color: #0087ff\">GlobalAveragePooling2D</span>)        │                        │               │\n",
              "├─────────────────────────────────┼────────────────────────┼───────────────┤\n",
              "│ batch_normalization             │ (<span style=\"color: #00d7ff; text-decoration-color: #00d7ff\">None</span>, <span style=\"color: #00af00; text-decoration-color: #00af00\">1024</span>)           │         <span style=\"color: #00af00; text-decoration-color: #00af00\">4,096</span> │\n",
              "│ (<span style=\"color: #0087ff; text-decoration-color: #0087ff\">BatchNormalization</span>)            │                        │               │\n",
              "├─────────────────────────────────┼────────────────────────┼───────────────┤\n",
              "│ dense (<span style=\"color: #0087ff; text-decoration-color: #0087ff\">Dense</span>)                   │ (<span style=\"color: #00d7ff; text-decoration-color: #00d7ff\">None</span>, <span style=\"color: #00af00; text-decoration-color: #00af00\">512</span>)            │       <span style=\"color: #00af00; text-decoration-color: #00af00\">524,800</span> │\n",
              "├─────────────────────────────────┼────────────────────────┼───────────────┤\n",
              "│ dropout (<span style=\"color: #0087ff; text-decoration-color: #0087ff\">Dropout</span>)               │ (<span style=\"color: #00d7ff; text-decoration-color: #00d7ff\">None</span>, <span style=\"color: #00af00; text-decoration-color: #00af00\">512</span>)            │             <span style=\"color: #00af00; text-decoration-color: #00af00\">0</span> │\n",
              "├─────────────────────────────────┼────────────────────────┼───────────────┤\n",
              "│ dense_1 (<span style=\"color: #0087ff; text-decoration-color: #0087ff\">Dense</span>)                 │ (<span style=\"color: #00d7ff; text-decoration-color: #00d7ff\">None</span>, <span style=\"color: #00af00; text-decoration-color: #00af00\">256</span>)            │       <span style=\"color: #00af00; text-decoration-color: #00af00\">131,328</span> │\n",
              "├─────────────────────────────────┼────────────────────────┼───────────────┤\n",
              "│ dropout_1 (<span style=\"color: #0087ff; text-decoration-color: #0087ff\">Dropout</span>)             │ (<span style=\"color: #00d7ff; text-decoration-color: #00d7ff\">None</span>, <span style=\"color: #00af00; text-decoration-color: #00af00\">256</span>)            │             <span style=\"color: #00af00; text-decoration-color: #00af00\">0</span> │\n",
              "├─────────────────────────────────┼────────────────────────┼───────────────┤\n",
              "│ dense_2 (<span style=\"color: #0087ff; text-decoration-color: #0087ff\">Dense</span>)                 │ (<span style=\"color: #00d7ff; text-decoration-color: #00d7ff\">None</span>, <span style=\"color: #00af00; text-decoration-color: #00af00\">1</span>)              │           <span style=\"color: #00af00; text-decoration-color: #00af00\">257</span> │\n",
              "└─────────────────────────────────┴────────────────────────┴───────────────┘\n",
              "</pre>\n"
            ]
          },
          "metadata": {}
        },
        {
          "output_type": "display_data",
          "data": {
            "text/plain": [
              "\u001b[1m Total params: \u001b[0m\u001b[38;5;34m7,697,985\u001b[0m (29.37 MB)\n"
            ],
            "text/html": [
              "<pre style=\"white-space:pre;overflow-x:auto;line-height:normal;font-family:Menlo,'DejaVu Sans Mono',consolas,'Courier New',monospace\"><span style=\"font-weight: bold\"> Total params: </span><span style=\"color: #00af00; text-decoration-color: #00af00\">7,697,985</span> (29.37 MB)\n",
              "</pre>\n"
            ]
          },
          "metadata": {}
        },
        {
          "output_type": "display_data",
          "data": {
            "text/plain": [
              "\u001b[1m Trainable params: \u001b[0m\u001b[38;5;34m658,433\u001b[0m (2.51 MB)\n"
            ],
            "text/html": [
              "<pre style=\"white-space:pre;overflow-x:auto;line-height:normal;font-family:Menlo,'DejaVu Sans Mono',consolas,'Courier New',monospace\"><span style=\"font-weight: bold\"> Trainable params: </span><span style=\"color: #00af00; text-decoration-color: #00af00\">658,433</span> (2.51 MB)\n",
              "</pre>\n"
            ]
          },
          "metadata": {}
        },
        {
          "output_type": "display_data",
          "data": {
            "text/plain": [
              "\u001b[1m Non-trainable params: \u001b[0m\u001b[38;5;34m7,039,552\u001b[0m (26.85 MB)\n"
            ],
            "text/html": [
              "<pre style=\"white-space:pre;overflow-x:auto;line-height:normal;font-family:Menlo,'DejaVu Sans Mono',consolas,'Courier New',monospace\"><span style=\"font-weight: bold\"> Non-trainable params: </span><span style=\"color: #00af00; text-decoration-color: #00af00\">7,039,552</span> (26.85 MB)\n",
              "</pre>\n"
            ]
          },
          "metadata": {}
        }
      ]
    },
    {
      "cell_type": "code",
      "source": [
        "# Cell 6\n",
        "from tensorflow.keras.callbacks import ReduceLROnPlateau, ModelCheckpoint\n",
        "\n",
        "callbacks_phase1 = [\n",
        "    ReduceLROnPlateau(monitor='val_loss', factor=0.5, patience=5, min_lr=1e-7, verbose=1),\n",
        "    ModelCheckpoint('best_phase1.keras', monitor='val_accuracy', mode='max', save_best_only=True, verbose=1)\n",
        "]\n"
      ],
      "metadata": {
        "id": "KkdgIUVxSH0Z"
      },
      "id": "KkdgIUVxSH0Z",
      "execution_count": 7,
      "outputs": []
    },
    {
      "cell_type": "code",
      "source": [
        "# Cell 7\n",
        "print(\"Starting Phase 1 (frozen backbone, oversampled train, NO augmentation)...\")\n",
        "hist1 = model.fit(\n",
        "    train_ds,\n",
        "    epochs=20,\n",
        "    validation_data=val_ds,\n",
        "    callbacks=callbacks_phase1,\n",
        "    verbose=1\n",
        ")\n",
        "print(\"Phase 1 done.\")\n"
      ],
      "metadata": {
        "colab": {
          "base_uri": "https://localhost:8080/"
        },
        "id": "pg5kPvYLSH2z",
        "outputId": "1ff77c55-d790-4372-faf3-78b1edf454a4"
      },
      "id": "pg5kPvYLSH2z",
      "execution_count": 8,
      "outputs": [
        {
          "output_type": "stream",
          "name": "stdout",
          "text": [
            "Starting Phase 1 (frozen backbone, oversampled train, NO augmentation)...\n",
            "Epoch 1/20\n",
            "\u001b[1m118/118\u001b[0m \u001b[32m━━━━━━━━━━━━━━━━━━━━\u001b[0m\u001b[37m\u001b[0m \u001b[1m0s\u001b[0m 2s/step - accuracy: 0.6036 - f1: 0.5766 - loss: 0.7622 - precision: 0.5889 - recall: 0.5651\n",
            "Epoch 1: val_accuracy improved from None to 0.64729, saving model to best_phase1.keras\n",
            "\u001b[1m118/118\u001b[0m \u001b[32m━━━━━━━━━━━━━━━━━━━━\u001b[0m\u001b[37m\u001b[0m \u001b[1m283s\u001b[0m 2s/step - accuracy: 0.6601 - f1: 0.6551 - loss: 0.6706 - precision: 0.6648 - recall: 0.6457 - val_accuracy: 0.6473 - val_f1: 0.7331 - val_loss: 0.6291 - val_precision: 0.8929 - val_recall: 0.6219 - learning_rate: 0.0010\n",
            "Epoch 2/20\n",
            "\u001b[1m117/118\u001b[0m \u001b[32m━━━━━━━━━━━━━━━━━━━\u001b[0m\u001b[37m━\u001b[0m \u001b[1m0s\u001b[0m 99ms/step - accuracy: 0.7381 - f1: 0.7395 - loss: 0.5453 - precision: 0.7425 - recall: 0.7378\n",
            "Epoch 2: val_accuracy improved from 0.64729 to 0.70543, saving model to best_phase1.keras\n",
            "\u001b[1m118/118\u001b[0m \u001b[32m━━━━━━━━━━━━━━━━━━━━\u001b[0m\u001b[37m\u001b[0m \u001b[1m14s\u001b[0m 118ms/step - accuracy: 0.7561 - f1: 0.7550 - loss: 0.5054 - precision: 0.7586 - recall: 0.7513 - val_accuracy: 0.7054 - val_f1: 0.8021 - val_loss: 0.5540 - val_precision: 0.8415 - val_recall: 0.7662 - learning_rate: 0.0010\n",
            "Epoch 3/20\n",
            "\u001b[1m117/118\u001b[0m \u001b[32m━━━━━━━━━━━━━━━━━━━\u001b[0m\u001b[37m━\u001b[0m \u001b[1m0s\u001b[0m 99ms/step - accuracy: 0.8167 - f1: 0.8082 - loss: 0.4015 - precision: 0.8502 - recall: 0.7723\n",
            "Epoch 3: val_accuracy improved from 0.70543 to 0.73643, saving model to best_phase1.keras\n",
            "\u001b[1m118/118\u001b[0m \u001b[32m━━━━━━━━━━━━━━━━━━━━\u001b[0m\u001b[37m\u001b[0m \u001b[1m20s\u001b[0m 118ms/step - accuracy: 0.8127 - f1: 0.8095 - loss: 0.4202 - precision: 0.8234 - recall: 0.7962 - val_accuracy: 0.7364 - val_f1: 0.8283 - val_loss: 0.5290 - val_precision: 0.8410 - val_recall: 0.8159 - learning_rate: 0.0010\n",
            "Epoch 4/20\n",
            "\u001b[1m117/118\u001b[0m \u001b[32m━━━━━━━━━━━━━━━━━━━\u001b[0m\u001b[37m━\u001b[0m \u001b[1m0s\u001b[0m 98ms/step - accuracy: 0.8596 - f1: 0.8534 - loss: 0.3409 - precision: 0.8735 - recall: 0.8350\n",
            "Epoch 4: val_accuracy improved from 0.73643 to 0.75969, saving model to best_phase1.keras\n",
            "\u001b[1m118/118\u001b[0m \u001b[32m━━━━━━━━━━━━━━━━━━━━\u001b[0m\u001b[37m\u001b[0m \u001b[1m20s\u001b[0m 118ms/step - accuracy: 0.8629 - f1: 0.8612 - loss: 0.3353 - precision: 0.8720 - recall: 0.8506 - val_accuracy: 0.7597 - val_f1: 0.8473 - val_loss: 0.5236 - val_precision: 0.8390 - val_recall: 0.8557 - learning_rate: 0.0010\n",
            "Epoch 5/20\n",
            "\u001b[1m117/118\u001b[0m \u001b[32m━━━━━━━━━━━━━━━━━━━\u001b[0m\u001b[37m━\u001b[0m \u001b[1m0s\u001b[0m 92ms/step - accuracy: 0.8769 - f1: 0.8776 - loss: 0.3183 - precision: 0.8809 - recall: 0.8745\n",
            "Epoch 5: val_accuracy did not improve from 0.75969\n",
            "\u001b[1m118/118\u001b[0m \u001b[32m━━━━━━━━━━━━━━━━━━━━\u001b[0m\u001b[37m\u001b[0m \u001b[1m19s\u001b[0m 109ms/step - accuracy: 0.8709 - f1: 0.8698 - loss: 0.3110 - precision: 0.8773 - recall: 0.8623 - val_accuracy: 0.7481 - val_f1: 0.8387 - val_loss: 0.5716 - val_precision: 0.8366 - val_recall: 0.8408 - learning_rate: 0.0010\n",
            "Epoch 6/20\n",
            "\u001b[1m117/118\u001b[0m \u001b[32m━━━━━━━━━━━━━━━━━━━\u001b[0m\u001b[37m━\u001b[0m \u001b[1m0s\u001b[0m 90ms/step - accuracy: 0.8975 - f1: 0.8960 - loss: 0.2745 - precision: 0.9037 - recall: 0.8888\n",
            "Epoch 6: val_accuracy improved from 0.75969 to 0.76744, saving model to best_phase1.keras\n",
            "\u001b[1m118/118\u001b[0m \u001b[32m━━━━━━━━━━━━━━━━━━━━\u001b[0m\u001b[37m\u001b[0m \u001b[1m14s\u001b[0m 119ms/step - accuracy: 0.8927 - f1: 0.8926 - loss: 0.2743 - precision: 0.8940 - recall: 0.8911 - val_accuracy: 0.7674 - val_f1: 0.8522 - val_loss: 0.6278 - val_precision: 0.8439 - val_recall: 0.8607 - learning_rate: 0.0010\n",
            "Epoch 7/20\n",
            "\u001b[1m117/118\u001b[0m \u001b[32m━━━━━━━━━━━━━━━━━━━\u001b[0m\u001b[37m━\u001b[0m \u001b[1m0s\u001b[0m 94ms/step - accuracy: 0.9103 - f1: 0.9064 - loss: 0.2195 - precision: 0.9115 - recall: 0.9017\n",
            "Epoch 7: val_accuracy improved from 0.76744 to 0.77519, saving model to best_phase1.keras\n",
            "\u001b[1m118/118\u001b[0m \u001b[32m━━━━━━━━━━━━━━━━━━━━\u001b[0m\u001b[37m\u001b[0m \u001b[1m14s\u001b[0m 120ms/step - accuracy: 0.9120 - f1: 0.9113 - loss: 0.2358 - precision: 0.9177 - recall: 0.9050 - val_accuracy: 0.7752 - val_f1: 0.8626 - val_loss: 0.6224 - val_precision: 0.8235 - val_recall: 0.9055 - learning_rate: 0.0010\n",
            "Epoch 8/20\n",
            "\u001b[1m117/118\u001b[0m \u001b[32m━━━━━━━━━━━━━━━━━━━\u001b[0m\u001b[37m━\u001b[0m \u001b[1m0s\u001b[0m 95ms/step - accuracy: 0.9167 - f1: 0.9159 - loss: 0.1975 - precision: 0.9200 - recall: 0.9119\n",
            "Epoch 8: val_accuracy did not improve from 0.77519\n",
            "\u001b[1m118/118\u001b[0m \u001b[32m━━━━━━━━━━━━━━━━━━━━\u001b[0m\u001b[37m\u001b[0m \u001b[1m13s\u001b[0m 109ms/step - accuracy: 0.9253 - f1: 0.9251 - loss: 0.1916 - precision: 0.9271 - recall: 0.9232 - val_accuracy: 0.7287 - val_f1: 0.8187 - val_loss: 0.7661 - val_precision: 0.8541 - val_recall: 0.7861 - learning_rate: 0.0010\n",
            "Epoch 9/20\n",
            "\u001b[1m117/118\u001b[0m \u001b[32m━━━━━━━━━━━━━━━━━━━\u001b[0m\u001b[37m━\u001b[0m \u001b[1m0s\u001b[0m 94ms/step - accuracy: 0.9012 - f1: 0.9032 - loss: 0.2229 - precision: 0.9115 - recall: 0.8956\n",
            "Epoch 9: ReduceLROnPlateau reducing learning rate to 0.0005000000237487257.\n",
            "\n",
            "Epoch 9: val_accuracy did not improve from 0.77519\n",
            "\u001b[1m118/118\u001b[0m \u001b[32m━━━━━━━━━━━━━━━━━━━━\u001b[0m\u001b[37m\u001b[0m \u001b[1m13s\u001b[0m 109ms/step - accuracy: 0.9109 - f1: 0.9105 - loss: 0.2101 - precision: 0.9149 - recall: 0.9061 - val_accuracy: 0.7713 - val_f1: 0.8521 - val_loss: 0.7317 - val_precision: 0.8586 - val_recall: 0.8458 - learning_rate: 0.0010\n",
            "Epoch 10/20\n",
            "\u001b[1m117/118\u001b[0m \u001b[32m━━━━━━━━━━━━━━━━━━━\u001b[0m\u001b[37m━\u001b[0m \u001b[1m0s\u001b[0m 94ms/step - accuracy: 0.9333 - f1: 0.9321 - loss: 0.1728 - precision: 0.9479 - recall: 0.9171\n",
            "Epoch 10: val_accuracy did not improve from 0.77519\n",
            "\u001b[1m118/118\u001b[0m \u001b[32m━━━━━━━━━━━━━━━━━━━━\u001b[0m\u001b[37m\u001b[0m \u001b[1m13s\u001b[0m 111ms/step - accuracy: 0.9440 - f1: 0.9433 - loss: 0.1574 - precision: 0.9541 - recall: 0.9328 - val_accuracy: 0.7674 - val_f1: 0.8515 - val_loss: 0.7056 - val_precision: 0.8473 - val_recall: 0.8557 - learning_rate: 5.0000e-04\n",
            "Epoch 11/20\n",
            "\u001b[1m117/118\u001b[0m \u001b[32m━━━━━━━━━━━━━━━━━━━\u001b[0m\u001b[37m━\u001b[0m \u001b[1m0s\u001b[0m 93ms/step - accuracy: 0.9475 - f1: 0.9475 - loss: 0.1473 - precision: 0.9501 - recall: 0.9451\n",
            "Epoch 11: val_accuracy improved from 0.77519 to 0.79070, saving model to best_phase1.keras\n",
            "\u001b[1m118/118\u001b[0m \u001b[32m━━━━━━━━━━━━━━━━━━━━\u001b[0m\u001b[37m\u001b[0m \u001b[1m14s\u001b[0m 119ms/step - accuracy: 0.9568 - f1: 0.9567 - loss: 0.1146 - precision: 0.9582 - recall: 0.9552 - val_accuracy: 0.7907 - val_f1: 0.8670 - val_loss: 0.7396 - val_precision: 0.8585 - val_recall: 0.8756 - learning_rate: 5.0000e-04\n",
            "Epoch 12/20\n",
            "\u001b[1m117/118\u001b[0m \u001b[32m━━━━━━━━━━━━━━━━━━━\u001b[0m\u001b[37m━\u001b[0m \u001b[1m0s\u001b[0m 100ms/step - accuracy: 0.9508 - f1: 0.9512 - loss: 0.1199 - precision: 0.9501 - recall: 0.9525\n",
            "Epoch 12: val_accuracy improved from 0.79070 to 0.79845, saving model to best_phase1.keras\n",
            "\u001b[1m118/118\u001b[0m \u001b[32m━━━━━━━━━━━━━━━━━━━━\u001b[0m\u001b[37m\u001b[0m \u001b[1m15s\u001b[0m 123ms/step - accuracy: 0.9541 - f1: 0.9540 - loss: 0.1135 - precision: 0.9561 - recall: 0.9520 - val_accuracy: 0.7984 - val_f1: 0.8756 - val_loss: 0.7102 - val_precision: 0.8433 - val_recall: 0.9104 - learning_rate: 5.0000e-04\n",
            "Epoch 13/20\n",
            "\u001b[1m117/118\u001b[0m \u001b[32m━━━━━━━━━━━━━━━━━━━\u001b[0m\u001b[37m━\u001b[0m \u001b[1m0s\u001b[0m 100ms/step - accuracy: 0.9754 - f1: 0.9764 - loss: 0.0746 - precision: 0.9808 - recall: 0.9720\n",
            "Epoch 13: val_accuracy improved from 0.79845 to 0.80233, saving model to best_phase1.keras\n",
            "\u001b[1m118/118\u001b[0m \u001b[32m━━━━━━━━━━━━━━━━━━━━\u001b[0m\u001b[37m\u001b[0m \u001b[1m15s\u001b[0m 130ms/step - accuracy: 0.9723 - f1: 0.9721 - loss: 0.0866 - precision: 0.9763 - recall: 0.9680 - val_accuracy: 0.8023 - val_f1: 0.8765 - val_loss: 0.7572 - val_precision: 0.8538 - val_recall: 0.9005 - learning_rate: 5.0000e-04\n",
            "Epoch 14/20\n",
            "\u001b[1m117/118\u001b[0m \u001b[32m━━━━━━━━━━━━━━━━━━━\u001b[0m\u001b[37m━\u001b[0m \u001b[1m0s\u001b[0m 101ms/step - accuracy: 0.9712 - f1: 0.9716 - loss: 0.0698 - precision: 0.9711 - recall: 0.9722\n",
            "Epoch 14: ReduceLROnPlateau reducing learning rate to 0.0002500000118743628.\n",
            "\n",
            "Epoch 14: val_accuracy did not improve from 0.80233\n",
            "\u001b[1m118/118\u001b[0m \u001b[32m━━━━━━━━━━━━━━━━━━━━\u001b[0m\u001b[37m\u001b[0m \u001b[1m18s\u001b[0m 112ms/step - accuracy: 0.9707 - f1: 0.9706 - loss: 0.0736 - precision: 0.9732 - recall: 0.9680 - val_accuracy: 0.7829 - val_f1: 0.8654 - val_loss: 0.8635 - val_precision: 0.8372 - val_recall: 0.8955 - learning_rate: 5.0000e-04\n",
            "Epoch 15/20\n",
            "\u001b[1m117/118\u001b[0m \u001b[32m━━━━━━━━━━━━━━━━━━━\u001b[0m\u001b[37m━\u001b[0m \u001b[1m0s\u001b[0m 109ms/step - accuracy: 0.9809 - f1: 0.9808 - loss: 0.0573 - precision: 0.9833 - recall: 0.9786\n",
            "Epoch 15: val_accuracy did not improve from 0.80233\n",
            "\u001b[1m118/118\u001b[0m \u001b[32m━━━━━━━━━━━━━━━━━━━━\u001b[0m\u001b[37m\u001b[0m \u001b[1m21s\u001b[0m 120ms/step - accuracy: 0.9803 - f1: 0.9802 - loss: 0.0624 - precision: 0.9828 - recall: 0.9776 - val_accuracy: 0.7868 - val_f1: 0.8675 - val_loss: 0.8300 - val_precision: 0.8411 - val_recall: 0.8955 - learning_rate: 2.5000e-04\n",
            "Epoch 16/20\n",
            "\u001b[1m117/118\u001b[0m \u001b[32m━━━━━━━━━━━━━━━━━━━\u001b[0m\u001b[37m━\u001b[0m \u001b[1m0s\u001b[0m 92ms/step - accuracy: 0.9828 - f1: 0.9827 - loss: 0.0561 - precision: 0.9855 - recall: 0.9800\n",
            "Epoch 16: val_accuracy did not improve from 0.80233\n",
            "\u001b[1m118/118\u001b[0m \u001b[32m━━━━━━━━━━━━━━━━━━━━\u001b[0m\u001b[37m\u001b[0m \u001b[1m19s\u001b[0m 110ms/step - accuracy: 0.9787 - f1: 0.9786 - loss: 0.0599 - precision: 0.9817 - recall: 0.9755 - val_accuracy: 0.7829 - val_f1: 0.8641 - val_loss: 0.8725 - val_precision: 0.8436 - val_recall: 0.8856 - learning_rate: 2.5000e-04\n",
            "Epoch 17/20\n",
            "\u001b[1m117/118\u001b[0m \u001b[32m━━━━━━━━━━━━━━━━━━━\u001b[0m\u001b[37m━\u001b[0m \u001b[1m0s\u001b[0m 93ms/step - accuracy: 0.9835 - f1: 0.9838 - loss: 0.0608 - precision: 0.9898 - recall: 0.9780\n",
            "Epoch 17: val_accuracy did not improve from 0.80233\n",
            "\u001b[1m118/118\u001b[0m \u001b[32m━━━━━━━━━━━━━━━━━━━━\u001b[0m\u001b[37m\u001b[0m \u001b[1m13s\u001b[0m 110ms/step - accuracy: 0.9845 - f1: 0.9845 - loss: 0.0529 - precision: 0.9882 - recall: 0.9808 - val_accuracy: 0.7946 - val_f1: 0.8723 - val_loss: 0.8992 - val_precision: 0.8458 - val_recall: 0.9005 - learning_rate: 2.5000e-04\n",
            "Epoch 18/20\n",
            "\u001b[1m117/118\u001b[0m \u001b[32m━━━━━━━━━━━━━━━━━━━\u001b[0m\u001b[37m━\u001b[0m \u001b[1m0s\u001b[0m 90ms/step - accuracy: 0.9836 - f1: 0.9839 - loss: 0.0439 - precision: 0.9854 - recall: 0.9825\n",
            "Epoch 18: val_accuracy did not improve from 0.80233\n",
            "\u001b[1m118/118\u001b[0m \u001b[32m━━━━━━━━━━━━━━━━━━━━\u001b[0m\u001b[37m\u001b[0m \u001b[1m13s\u001b[0m 107ms/step - accuracy: 0.9835 - f1: 0.9834 - loss: 0.0429 - precision: 0.9850 - recall: 0.9819 - val_accuracy: 0.7829 - val_f1: 0.8647 - val_loss: 0.9168 - val_precision: 0.8404 - val_recall: 0.8905 - learning_rate: 2.5000e-04\n",
            "Epoch 19/20\n",
            "\u001b[1m117/118\u001b[0m \u001b[32m━━━━━━━━━━━━━━━━━━━\u001b[0m\u001b[37m━\u001b[0m \u001b[1m0s\u001b[0m 101ms/step - accuracy: 0.9891 - f1: 0.9891 - loss: 0.0353 - precision: 0.9847 - recall: 0.9935\n",
            "Epoch 19: ReduceLROnPlateau reducing learning rate to 0.0001250000059371814.\n",
            "\n",
            "Epoch 19: val_accuracy did not improve from 0.80233\n",
            "\u001b[1m118/118\u001b[0m \u001b[32m━━━━━━━━━━━━━━━━━━━━\u001b[0m\u001b[37m\u001b[0m \u001b[1m21s\u001b[0m 111ms/step - accuracy: 0.9883 - f1: 0.9883 - loss: 0.0393 - precision: 0.9862 - recall: 0.9904 - val_accuracy: 0.7907 - val_f1: 0.8720 - val_loss: 0.9526 - val_precision: 0.8326 - val_recall: 0.9154 - learning_rate: 2.5000e-04\n",
            "Epoch 20/20\n",
            "\u001b[1m117/118\u001b[0m \u001b[32m━━━━━━━━━━━━━━━━━━━\u001b[0m\u001b[37m━\u001b[0m \u001b[1m0s\u001b[0m 111ms/step - accuracy: 0.9871 - f1: 0.9865 - loss: 0.0482 - precision: 0.9815 - recall: 0.9917\n",
            "Epoch 20: val_accuracy did not improve from 0.80233\n",
            "\u001b[1m118/118\u001b[0m \u001b[32m━━━━━━━━━━━━━━━━━━━━\u001b[0m\u001b[37m\u001b[0m \u001b[1m16s\u001b[0m 132ms/step - accuracy: 0.9872 - f1: 0.9872 - loss: 0.0456 - precision: 0.9872 - recall: 0.9872 - val_accuracy: 0.7868 - val_f1: 0.8681 - val_loss: 0.9472 - val_precision: 0.8380 - val_recall: 0.9005 - learning_rate: 1.2500e-04\n",
            "Phase 1 done.\n"
          ]
        }
      ]
    },
    {
      "cell_type": "code",
      "source": [
        "# === Cell 8 (fixed): Unfreeze tail & recompile ===\n",
        "from keras.metrics import F1Score\n",
        "from tensorflow.keras.callbacks import ReduceLROnPlateau, ModelCheckpoint\n",
        "\n",
        "# 1) Grab the backbone safely\n",
        "try:\n",
        "    base_model = model.layers[0]  # In your Sequential, index 0 is DenseNet201 backbone\n",
        "except Exception as e:\n",
        "    # Fallback: search by name (denseNet/efficientNet/etc.)\n",
        "    base_model = None\n",
        "    for lyr in model.layers:\n",
        "        if hasattr(lyr, \"layers\") and (\"densenet\" in lyr.name.lower() or \"efficientnet\" in lyr.name.lower()):\n",
        "            base_model = lyr\n",
        "            break\n",
        "    if base_model is None:\n",
        "        raise RuntimeError(\"Backbone not found. Inspect model.layers to locate the base CNN.\") from e\n",
        "\n",
        "print(\"Backbone:\", base_model.name, \"| inner layers:\", len(getattr(base_model, \"layers\", [])))\n",
        "\n",
        "# 2) Unfreeze the last N layers of the backbone\n",
        "unfreeze_last = 4  # tweak as you like\n",
        "for lyr in base_model.layers[:-unfreeze_last]:\n",
        "    lyr.trainable = False\n",
        "for lyr in base_model.layers[-unfreeze_last:]:\n",
        "    lyr.trainable = True\n",
        "\n",
        "# 3) Recompile\n",
        "model.compile(\n",
        "    optimizer=keras.optimizers.Adam(1e-4),\n",
        "    loss=\"binary_crossentropy\",\n",
        "    metrics=[\n",
        "        \"accuracy\",\n",
        "        keras.metrics.Precision(name=\"precision\"),\n",
        "        keras.metrics.Recall(name=\"recall\"),\n",
        "        F1Score(name=\"f1\", threshold=0.5, average=\"micro\"),\n",
        "    ],\n",
        ")\n",
        "\n",
        "# 4) Callbacks for phase 2\n",
        "callbacks_phase2 = [\n",
        "    ReduceLROnPlateau(monitor='val_loss', factor=0.5, patience=3, min_lr=1e-8, verbose=1),\n",
        "    ModelCheckpoint('best_phase2.keras', monitor='val_accuracy', mode='max', save_best_only=True, verbose=1)\n",
        "]\n",
        "\n",
        "print(\"Fine-tuning setup complete. Base trainable tail:\", sum(int(l.trainable) for l in base_model.layers), \"of\", len(base_model.layers))\n"
      ],
      "metadata": {
        "colab": {
          "base_uri": "https://localhost:8080/"
        },
        "id": "QgcgqUq8SH5G",
        "outputId": "d33b2d72-4673-496d-ef02-bef9bc5a489f"
      },
      "id": "QgcgqUq8SH5G",
      "execution_count": 9,
      "outputs": [
        {
          "output_type": "stream",
          "name": "stdout",
          "text": [
            "Backbone: densenet121 | inner layers: 427\n",
            "Fine-tuning setup complete. Base trainable tail: 4 of 427\n"
          ]
        }
      ]
    },
    {
      "cell_type": "code",
      "source": [
        "# Cell 9\n",
        "print(\"Starting Phase 2 (fine-tuning tail, oversampled train, NO augmentation)...\")\n",
        "hist2 = model.fit(\n",
        "    train_ds,\n",
        "    epochs=15,\n",
        "    validation_data=val_ds,\n",
        "    callbacks=callbacks_phase2,\n",
        "    verbose=1\n",
        ")\n",
        "print(\"Phase 2 done.\")\n"
      ],
      "metadata": {
        "colab": {
          "base_uri": "https://localhost:8080/"
        },
        "id": "iZGBnEE0SH7W",
        "outputId": "fa6e2df5-a0c2-4534-f89f-e4e31f2f6e33"
      },
      "id": "iZGBnEE0SH7W",
      "execution_count": 10,
      "outputs": [
        {
          "output_type": "stream",
          "name": "stdout",
          "text": [
            "Starting Phase 2 (fine-tuning tail, oversampled train, NO augmentation)...\n",
            "Epoch 1/15\n",
            "\u001b[1m118/118\u001b[0m \u001b[32m━━━━━━━━━━━━━━━━━━━━\u001b[0m\u001b[37m\u001b[0m \u001b[1m0s\u001b[0m 201ms/step - accuracy: 0.9829 - f1: 0.9826 - loss: 0.0468 - precision: 0.9866 - recall: 0.9786\n",
            "Epoch 1: val_accuracy improved from None to 0.80233, saving model to best_phase2.keras\n",
            "\u001b[1m118/118\u001b[0m \u001b[32m━━━━━━━━━━━━━━━━━━━━\u001b[0m\u001b[37m\u001b[0m \u001b[1m75s\u001b[0m 406ms/step - accuracy: 0.9877 - f1: 0.9877 - loss: 0.0383 - precision: 0.9903 - recall: 0.9851 - val_accuracy: 0.8023 - val_f1: 0.8771 - val_loss: 0.9628 - val_precision: 0.8505 - val_recall: 0.9055 - learning_rate: 1.0000e-04\n",
            "Epoch 2/15\n",
            "\u001b[1m117/118\u001b[0m \u001b[32m━━━━━━━━━━━━━━━━━━━\u001b[0m\u001b[37m━\u001b[0m \u001b[1m0s\u001b[0m 100ms/step - accuracy: 0.9877 - f1: 0.9876 - loss: 0.0484 - precision: 0.9846 - recall: 0.9906\n",
            "Epoch 2: val_accuracy did not improve from 0.80233\n",
            "\u001b[1m118/118\u001b[0m \u001b[32m━━━━━━━━━━━━━━━━━━━━\u001b[0m\u001b[37m\u001b[0m \u001b[1m13s\u001b[0m 110ms/step - accuracy: 0.9819 - f1: 0.9819 - loss: 0.0542 - precision: 0.9819 - recall: 0.9819 - val_accuracy: 0.7829 - val_f1: 0.8654 - val_loss: 0.9508 - val_precision: 0.8372 - val_recall: 0.8955 - learning_rate: 1.0000e-04\n",
            "Epoch 3/15\n",
            "\u001b[1m117/118\u001b[0m \u001b[32m━━━━━━━━━━━━━━━━━━━\u001b[0m\u001b[37m━\u001b[0m \u001b[1m0s\u001b[0m 100ms/step - accuracy: 0.9883 - f1: 0.9881 - loss: 0.0369 - precision: 0.9930 - recall: 0.9833\n",
            "Epoch 3: val_accuracy did not improve from 0.80233\n",
            "\u001b[1m118/118\u001b[0m \u001b[32m━━━━━━━━━━━━━━━━━━━━\u001b[0m\u001b[37m\u001b[0m \u001b[1m13s\u001b[0m 111ms/step - accuracy: 0.9851 - f1: 0.9850 - loss: 0.0383 - precision: 0.9861 - recall: 0.9840 - val_accuracy: 0.7791 - val_f1: 0.8627 - val_loss: 1.0103 - val_precision: 0.8364 - val_recall: 0.8905 - learning_rate: 1.0000e-04\n",
            "Epoch 4/15\n",
            "\u001b[1m117/118\u001b[0m \u001b[32m━━━━━━━━━━━━━━━━━━━\u001b[0m\u001b[37m━\u001b[0m \u001b[1m0s\u001b[0m 100ms/step - accuracy: 0.9868 - f1: 0.9863 - loss: 0.0374 - precision: 0.9821 - recall: 0.9906\n",
            "Epoch 4: val_accuracy did not improve from 0.80233\n",
            "\u001b[1m118/118\u001b[0m \u001b[32m━━━━━━━━━━━━━━━━━━━━\u001b[0m\u001b[37m\u001b[0m \u001b[1m20s\u001b[0m 111ms/step - accuracy: 0.9904 - f1: 0.9904 - loss: 0.0306 - precision: 0.9894 - recall: 0.9915 - val_accuracy: 0.7752 - val_f1: 0.8599 - val_loss: 0.9977 - val_precision: 0.8357 - val_recall: 0.8856 - learning_rate: 1.0000e-04\n",
            "Epoch 5/15\n",
            "\u001b[1m117/118\u001b[0m \u001b[32m━━━━━━━━━━━━━━━━━━━\u001b[0m\u001b[37m━\u001b[0m \u001b[1m0s\u001b[0m 99ms/step - accuracy: 0.9886 - f1: 0.9885 - loss: 0.0341 - precision: 0.9862 - recall: 0.9909\n",
            "Epoch 5: ReduceLROnPlateau reducing learning rate to 4.999999873689376e-05.\n",
            "\n",
            "Epoch 5: val_accuracy did not improve from 0.80233\n",
            "\u001b[1m118/118\u001b[0m \u001b[32m━━━━━━━━━━━━━━━━━━━━\u001b[0m\u001b[37m\u001b[0m \u001b[1m13s\u001b[0m 110ms/step - accuracy: 0.9877 - f1: 0.9877 - loss: 0.0365 - precision: 0.9893 - recall: 0.9861 - val_accuracy: 0.7752 - val_f1: 0.8606 - val_loss: 1.0510 - val_precision: 0.8326 - val_recall: 0.8905 - learning_rate: 1.0000e-04\n",
            "Epoch 6/15\n",
            "\u001b[1m117/118\u001b[0m \u001b[32m━━━━━━━━━━━━━━━━━━━\u001b[0m\u001b[37m━\u001b[0m \u001b[1m0s\u001b[0m 100ms/step - accuracy: 0.9868 - f1: 0.9874 - loss: 0.0277 - precision: 0.9856 - recall: 0.9893\n",
            "Epoch 6: val_accuracy did not improve from 0.80233\n",
            "\u001b[1m118/118\u001b[0m \u001b[32m━━━━━━━━━━━━━━━━━━━━\u001b[0m\u001b[37m\u001b[0m \u001b[1m13s\u001b[0m 111ms/step - accuracy: 0.9899 - f1: 0.9899 - loss: 0.0255 - precision: 0.9873 - recall: 0.9925 - val_accuracy: 0.7713 - val_f1: 0.8585 - val_loss: 1.0287 - val_precision: 0.8287 - val_recall: 0.8905 - learning_rate: 5.0000e-05\n",
            "Epoch 7/15\n",
            "\u001b[1m117/118\u001b[0m \u001b[32m━━━━━━━━━━━━━━━━━━━\u001b[0m\u001b[37m━\u001b[0m \u001b[1m0s\u001b[0m 101ms/step - accuracy: 0.9906 - f1: 0.9904 - loss: 0.0215 - precision: 0.9913 - recall: 0.9895\n",
            "Epoch 7: val_accuracy did not improve from 0.80233\n",
            "\u001b[1m118/118\u001b[0m \u001b[32m━━━━━━━━━━━━━━━━━━━━\u001b[0m\u001b[37m\u001b[0m \u001b[1m21s\u001b[0m 112ms/step - accuracy: 0.9920 - f1: 0.9920 - loss: 0.0211 - precision: 0.9936 - recall: 0.9904 - val_accuracy: 0.7791 - val_f1: 0.8627 - val_loss: 1.0259 - val_precision: 0.8364 - val_recall: 0.8905 - learning_rate: 5.0000e-05\n",
            "Epoch 8/15\n",
            "\u001b[1m117/118\u001b[0m \u001b[32m━━━━━━━━━━━━━━━━━━━\u001b[0m\u001b[37m━\u001b[0m \u001b[1m0s\u001b[0m 100ms/step - accuracy: 0.9884 - f1: 0.9881 - loss: 0.0328 - precision: 0.9870 - recall: 0.9893\n",
            "Epoch 8: ReduceLROnPlateau reducing learning rate to 2.499999936844688e-05.\n",
            "\n",
            "Epoch 8: val_accuracy did not improve from 0.80233\n",
            "\u001b[1m118/118\u001b[0m \u001b[32m━━━━━━━━━━━━━━━━━━━━\u001b[0m\u001b[37m\u001b[0m \u001b[1m13s\u001b[0m 112ms/step - accuracy: 0.9904 - f1: 0.9904 - loss: 0.0299 - precision: 0.9914 - recall: 0.9893 - val_accuracy: 0.7752 - val_f1: 0.8606 - val_loss: 1.0225 - val_precision: 0.8326 - val_recall: 0.8905 - learning_rate: 5.0000e-05\n",
            "Epoch 9/15\n",
            "\u001b[1m117/118\u001b[0m \u001b[32m━━━━━━━━━━━━━━━━━━━\u001b[0m\u001b[37m━\u001b[0m \u001b[1m0s\u001b[0m 100ms/step - accuracy: 0.9886 - f1: 0.9887 - loss: 0.0286 - precision: 0.9922 - recall: 0.9852\n",
            "Epoch 9: val_accuracy did not improve from 0.80233\n",
            "\u001b[1m118/118\u001b[0m \u001b[32m━━━━━━━━━━━━━━━━━━━━\u001b[0m\u001b[37m\u001b[0m \u001b[1m13s\u001b[0m 111ms/step - accuracy: 0.9883 - f1: 0.9882 - loss: 0.0285 - precision: 0.9904 - recall: 0.9861 - val_accuracy: 0.7752 - val_f1: 0.8606 - val_loss: 1.0262 - val_precision: 0.8326 - val_recall: 0.8905 - learning_rate: 2.5000e-05\n",
            "Epoch 10/15\n",
            "\u001b[1m118/118\u001b[0m \u001b[32m━━━━━━━━━━━━━━━━━━━━\u001b[0m\u001b[37m\u001b[0m \u001b[1m0s\u001b[0m 99ms/step - accuracy: 0.9952 - f1: 0.9951 - loss: 0.0208 - precision: 0.9940 - recall: 0.9963 \n",
            "Epoch 10: val_accuracy did not improve from 0.80233\n",
            "\u001b[1m118/118\u001b[0m \u001b[32m━━━━━━━━━━━━━━━━━━━━\u001b[0m\u001b[37m\u001b[0m \u001b[1m13s\u001b[0m 110ms/step - accuracy: 0.9947 - f1: 0.9947 - loss: 0.0224 - precision: 0.9947 - recall: 0.9947 - val_accuracy: 0.7713 - val_f1: 0.8585 - val_loss: 1.0405 - val_precision: 0.8287 - val_recall: 0.8905 - learning_rate: 2.5000e-05\n",
            "Epoch 11/15\n",
            "\u001b[1m117/118\u001b[0m \u001b[32m━━━━━━━━━━━━━━━━━━━\u001b[0m\u001b[37m━\u001b[0m \u001b[1m0s\u001b[0m 113ms/step - accuracy: 0.9894 - f1: 0.9897 - loss: 0.0319 - precision: 0.9949 - recall: 0.9846\n",
            "Epoch 11: ReduceLROnPlateau reducing learning rate to 1.249999968422344e-05.\n",
            "\n",
            "Epoch 11: val_accuracy did not improve from 0.80233\n",
            "\u001b[1m118/118\u001b[0m \u001b[32m━━━━━━━━━━━━━━━━━━━━\u001b[0m\u001b[37m\u001b[0m \u001b[1m15s\u001b[0m 124ms/step - accuracy: 0.9893 - f1: 0.9893 - loss: 0.0295 - precision: 0.9904 - recall: 0.9883 - val_accuracy: 0.7674 - val_f1: 0.8565 - val_loss: 1.0371 - val_precision: 0.8249 - val_recall: 0.8905 - learning_rate: 2.5000e-05\n",
            "Epoch 12/15\n",
            "\u001b[1m117/118\u001b[0m \u001b[32m━━━━━━━━━━━━━━━━━━━\u001b[0m\u001b[37m━\u001b[0m \u001b[1m0s\u001b[0m 100ms/step - accuracy: 0.9927 - f1: 0.9929 - loss: 0.0290 - precision: 0.9989 - recall: 0.9871\n",
            "Epoch 12: val_accuracy did not improve from 0.80233\n",
            "\u001b[1m118/118\u001b[0m \u001b[32m━━━━━━━━━━━━━━━━━━━━\u001b[0m\u001b[37m\u001b[0m \u001b[1m13s\u001b[0m 110ms/step - accuracy: 0.9925 - f1: 0.9925 - loss: 0.0266 - precision: 0.9957 - recall: 0.9893 - val_accuracy: 0.7713 - val_f1: 0.8585 - val_loss: 1.0398 - val_precision: 0.8287 - val_recall: 0.8905 - learning_rate: 1.2500e-05\n",
            "Epoch 13/15\n",
            "\u001b[1m117/118\u001b[0m \u001b[32m━━━━━━━━━━━━━━━━━━━\u001b[0m\u001b[37m━\u001b[0m \u001b[1m0s\u001b[0m 102ms/step - accuracy: 0.9929 - f1: 0.9928 - loss: 0.0201 - precision: 0.9916 - recall: 0.9940\n",
            "Epoch 13: val_accuracy did not improve from 0.80233\n",
            "\u001b[1m118/118\u001b[0m \u001b[32m━━━━━━━━━━━━━━━━━━━━\u001b[0m\u001b[37m\u001b[0m \u001b[1m13s\u001b[0m 113ms/step - accuracy: 0.9936 - f1: 0.9936 - loss: 0.0205 - precision: 0.9925 - recall: 0.9947 - val_accuracy: 0.7791 - val_f1: 0.8627 - val_loss: 1.0490 - val_precision: 0.8364 - val_recall: 0.8905 - learning_rate: 1.2500e-05\n",
            "Epoch 14/15\n",
            "\u001b[1m117/118\u001b[0m \u001b[32m━━━━━━━━━━━━━━━━━━━\u001b[0m\u001b[37m━\u001b[0m \u001b[1m0s\u001b[0m 100ms/step - accuracy: 0.9948 - f1: 0.9948 - loss: 0.0272 - precision: 0.9965 - recall: 0.9932\n",
            "Epoch 14: ReduceLROnPlateau reducing learning rate to 6.24999984211172e-06.\n",
            "\n",
            "Epoch 14: val_accuracy did not improve from 0.80233\n",
            "\u001b[1m118/118\u001b[0m \u001b[32m━━━━━━━━━━━━━━━━━━━━\u001b[0m\u001b[37m\u001b[0m \u001b[1m13s\u001b[0m 111ms/step - accuracy: 0.9925 - f1: 0.9925 - loss: 0.0229 - precision: 0.9925 - recall: 0.9925 - val_accuracy: 0.7752 - val_f1: 0.8606 - val_loss: 1.0463 - val_precision: 0.8326 - val_recall: 0.8905 - learning_rate: 1.2500e-05\n",
            "Epoch 15/15\n",
            "\u001b[1m117/118\u001b[0m \u001b[32m━━━━━━━━━━━━━━━━━━━\u001b[0m\u001b[37m━\u001b[0m \u001b[1m0s\u001b[0m 102ms/step - accuracy: 0.9840 - f1: 0.9841 - loss: 0.0438 - precision: 0.9803 - recall: 0.9881\n",
            "Epoch 15: val_accuracy did not improve from 0.80233\n",
            "\u001b[1m118/118\u001b[0m \u001b[32m━━━━━━━━━━━━━━━━━━━━\u001b[0m\u001b[37m\u001b[0m \u001b[1m13s\u001b[0m 113ms/step - accuracy: 0.9904 - f1: 0.9904 - loss: 0.0296 - precision: 0.9914 - recall: 0.9893 - val_accuracy: 0.7752 - val_f1: 0.8606 - val_loss: 1.0437 - val_precision: 0.8326 - val_recall: 0.8905 - learning_rate: 6.2500e-06\n",
            "Phase 2 done.\n"
          ]
        }
      ]
    },
    {
      "cell_type": "code",
      "source": [
        "# Cell 10\n",
        "print(\"Evaluating on TEST...\")\n",
        "test_metrics = model.evaluate(test_ds, verbose=0)\n",
        "metric_names = model.metrics_names\n",
        "for n,v in zip(metric_names, test_metrics):\n",
        "    print(f\"{n}: {v:.4f}\")\n",
        "\n",
        "# Collect predictions for sklearn report\n",
        "y_true = []\n",
        "y_prob = []\n",
        "for xb, yb in test_ds:\n",
        "    y_true.append(yb.numpy().reshape(-1))     # (batch,1) -> (-1,)\n",
        "    y_prob.append(model.predict(xb, verbose=0).reshape(-1))\n",
        "y_true = np.concatenate(y_true)\n",
        "y_prob = np.concatenate(y_prob)\n",
        "y_pred = (y_prob > 0.5).astype(int)\n",
        "\n",
        "from sklearn.metrics import classification_report, confusion_matrix, f1_score\n",
        "print(\"\\nClassification Report:\")\n",
        "print(classification_report(y_true, y_pred, target_names=['No Appendicitis','Appendicitis']))\n",
        "\n",
        "cm = confusion_matrix(y_true, y_pred)\n",
        "plt.figure(figsize=(6,5))\n",
        "sns.heatmap(cm, annot=True, fmt='d', cmap='Blues', xticklabels=['No Appendicitis','Appendicitis'],\n",
        "            yticklabels=['No Appendicitis','Appendicitis'])\n",
        "plt.title('Confusion Matrix - Test'); plt.ylabel('True'); plt.xlabel('Pred'); plt.show()\n",
        "\n",
        "tn, fp, fn, tp = cm.ravel()\n",
        "sens = tp/(tp+fn) if (tp+fn)>0 else 0.0\n",
        "spec = tn/(tn+fp) if (tn+fp)>0 else 0.0\n",
        "print(f\"Sensitivity: {sens:.3f}  Specificity: {spec:.3f}  F1: {f1_score(y_true,y_pred):.3f}\")\n"
      ],
      "metadata": {
        "colab": {
          "base_uri": "https://localhost:8080/",
          "height": 747
        },
        "id": "jsbWKj46SH94",
        "outputId": "795d432b-e4ca-4131-9aa2-bb6f4977b533"
      },
      "id": "jsbWKj46SH94",
      "execution_count": 11,
      "outputs": [
        {
          "output_type": "stream",
          "name": "stdout",
          "text": [
            "Evaluating on TEST...\n",
            "loss: 1.1848\n",
            "compile_metrics: 0.7722\n",
            "\n",
            "Classification Report:\n",
            "                 precision    recall  f1-score   support\n",
            "\n",
            "No Appendicitis       0.49      0.29      0.37        58\n",
            "   Appendicitis       0.82      0.91      0.86       201\n",
            "\n",
            "       accuracy                           0.77       259\n",
            "      macro avg       0.65      0.60      0.61       259\n",
            "   weighted avg       0.74      0.77      0.75       259\n",
            "\n"
          ]
        },
        {
          "output_type": "display_data",
          "data": {
            "text/plain": [
              "<Figure size 600x500 with 2 Axes>"
            ],
            "image/png": "[encoded data removed]"
          },
          "metadata": {}
        },
        {
          "output_type": "stream",
          "name": "stdout",
          "text": [
            "Sensitivity: 0.910  Specificity: 0.293  F1: 0.861\n"
          ]
        }
      ]
    },
    {
      "cell_type": "code",
      "source": [
        "# === Additional Metrics: Macro F1 and AUC (fixed for tf.data pipeline) ===\n",
        "from sklearn.metrics import f1_score, roc_auc_score, roc_curve\n",
        "import numpy as np\n",
        "import matplotlib.pyplot as plt\n",
        "\n",
        "# Ensure 1-D arrays\n",
        "y_true_1d = np.asarray(y_true).ravel()\n",
        "y_prob_1d = np.asarray(y_prob).ravel()\n",
        "y_pred_1d = np.asarray(y_pred).ravel()\n",
        "\n",
        "# Macro-F1 (equal weight for both classes) → use hard labels\n",
        "macro_f1 = f1_score(y_true_1d, y_pred_1d, average='macro')\n",
        "\n",
        "# AUC must use probabilities, not hard labels\n",
        "auc = roc_auc_score(y_true_1d, y_prob_1d)\n",
        "\n",
        "print(\"\\nAdditional Evaluation Metrics:\")\n",
        "print(f\"Macro F1 Score: {macro_f1:.4f}\")\n",
        "print(f\"AUC (ROC): {auc:.4f}\")\n",
        "\n",
        "# ROC curve\n",
        "fpr, tpr, _ = roc_curve(y_true_1d, y_prob_1d)\n",
        "plt.figure(figsize=(6, 5))\n",
        "plt.plot(fpr, tpr, label=f\"AUC = {auc:.3f}\")\n",
        "plt.plot([0, 1], [0, 1], 'k--')\n",
        "plt.xlabel(\"False Positive Rate\")\n",
        "plt.ylabel(\"True Positive Rate\")\n",
        "plt.title(\"ROC Curve - Test Set\")\n",
        "plt.legend(loc=\"lower right\")\n",
        "plt.grid(True)\n",
        "plt.show()\n"
      ],
      "metadata": {
        "colab": {
          "base_uri": "https://localhost:8080/",
          "height": 556
        },
        "id": "xwfnEqer5qI9",
        "outputId": "a2b9ca7f-487f-4e93-bded-f1fafde78a2b"
      },
      "id": "xwfnEqer5qI9",
      "execution_count": 13,
      "outputs": [
        {
          "output_type": "stream",
          "name": "stdout",
          "text": [
            "\n",
            "Additional Evaluation Metrics:\n",
            "Macro F1 Score: 0.6134\n",
            "AUC (ROC): 0.7141\n"
          ]
        },
        {
          "output_type": "display_data",
          "data": {
            "text/plain": [
              "<Figure size 600x500 with 1 Axes>"
            ],
            "image/png": "[encoded data removed]"
          },
          "metadata": {}
        }
      ]
    },
    {
      "cell_type": "code",
      "source": [
        "# Cell 11\n",
        "model.save('final_appendicitis_densenet121_oversampling_stream.keras')\n",
        "print(\"Saved: final_appendicitis_densenet121_oversampling_stream.keras\")\n",
        "\n",
        "# Save model architecture as JSON\n",
        "model_json = model.to_json()\n",
        "with open(\"appendicitis_model_architecture_oversampling.json\", \"w\") as json_file:\n",
        "    json_file.write(model_json)\n",
        "\n",
        "# Save only the weights\n",
        "model.save_weights(\"appendicitis_model_weights_oversampling.weights.h5\")\n",
        "print(\"Model architecture and weights saved separately\")\n",
        "\n"
      ],
      "metadata": {
        "colab": {
          "base_uri": "https://localhost:8080/"
        },
        "id": "HDs29naxSIAE",
        "outputId": "344f149e-d061-4f0b-e9f3-669843924f93"
      },
      "id": "HDs29naxSIAE",
      "execution_count": 14,
      "outputs": [
        {
          "output_type": "stream",
          "name": "stdout",
          "text": [
            "Saved: final_appendicitis_densenet121_oversampling_stream.keras\n",
            "Model architecture and weights saved separately\n"
          ]
        }
      ]
    },
    {
      "cell_type": "code",
      "source": [
        "import os, shutil\n",
        "\n",
        "# === Define your model-specific subfolder ===\n",
        "model_name = \"DenseNet121_oversampling\"  # 👈 change for each model if needed\n",
        "\n",
        "# === Create the nested directory in Drive ===\n",
        "save_dir = f\"/content/drive/MyDrive/Appendicitis_Models/{model_name}\"\n",
        "os.makedirs(save_dir, exist_ok=True)\n",
        "\n",
        "# === Copy all your key files into that subfolder ===\n",
        "for f in [\n",
        "    \"final_appendicitis_densenet121_oversampling_stream.keras\",\n",
        "    \"appendicitis_model_weights_oversampling.weights.h5\",\n",
        "    \"appendicitis_model_architecture_oversampling.json\"\n",
        "]:\n",
        "    if os.path.exists(f):\n",
        "        shutil.copy(f, save_dir)\n",
        "        print(f\"✅ Saved: {f} → {save_dir}\")\n",
        "    else:\n",
        "        print(f\"⚠️ File not found: {f}\")\n",
        "\n",
        "print(f\"\\nAll files safely stored in: {save_dir}\")\n"
      ],
      "metadata": {
        "id": "ILDoToUKSICq",
        "colab": {
          "base_uri": "https://localhost:8080/"
        },
        "outputId": "7d2e007a-25ef-4a5b-ef21-bbadd9ce5465"
      },
      "id": "ILDoToUKSICq",
      "execution_count": 15,
      "outputs": [
        {
          "output_type": "stream",
          "name": "stdout",
          "text": [
            "✅ Saved: final_appendicitis_densenet121_oversampling_stream.keras → /content/drive/MyDrive/Appendicitis_Models/DenseNet121_oversampling\n",
            "✅ Saved: appendicitis_model_weights_oversampling.weights.h5 → /content/drive/MyDrive/Appendicitis_Models/DenseNet121_oversampling\n",
            "✅ Saved: appendicitis_model_architecture_oversampling.json → /content/drive/MyDrive/Appendicitis_Models/DenseNet121_oversampling\n",
            "\n",
            "All files safely stored in: /content/drive/MyDrive/Appendicitis_Models/DenseNet121_oversampling\n"
          ]
        }
      ]
    },
    {
      "cell_type": "code",
      "source": [],
      "metadata": {
        "id": "aHeeVhdVSIEt"
      },
      "id": "aHeeVhdVSIEt",
      "execution_count": null,
      "outputs": []
    }
  ],
  "metadata": {
    "kernelspec": {
      "display_name": "Python 3",
      "name": "python3"
    },
    "language_info": {
      "codemirror_mode": {
        "name": "ipython",
        "version": 3
      },
      "file_extension": ".py",
      "mimetype": "text/x-python",
      "name": "python",
      "nbconvert_exporter": "python",
      "pygments_lexer": "ipython3",
      "version": "3.10.2"
    },
    "colab": {
      "provenance": [],
      "gpuType": "T4"
    },
    "accelerator": "GPU"
  },
  "nbformat": 4,
  "nbformat_minor": 5
}